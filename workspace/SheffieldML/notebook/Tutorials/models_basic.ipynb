








<!DOCTYPE html>
<html lang="en">

<head>
  <meta charset="utf-8">
  <title>Jupyter Notebook Viewer</title>
  <meta name="viewport" content="width=device-width, initial-scale=1.0">
  <meta name="description" content="">
  <meta name="author" content="">
  
  <meta name="robots" content="noindex,nofollow">
  

  <!--NEW RELIC Start Perf Measurement-->
  
  <!--NREND-->

  <!-- Le styles -->
  <script type="text/javascript">
//<![CDATA[
try{if (!window.CloudFlare) {var CloudFlare=[{verbose:0,p:0,byc:0,owlid:"cf",bag2:1,mirage2:0,oracle:0,paths:{cloudflare:"/cdn-cgi/nexp/dok3v=1613a3a185/"},atok:"c4549625870a02297acd07fe378e1952",petok:"5ef22f0eb95967933d834c26986261333fc1ea0d-1470748901-1800",zone:"jupyter.org",rocket:"0",apps:{"ga_key":{"ua":"UA-52617120-5","ga_bs":"2"}},sha2test:0}];!function(a,b){a=document.createElement("script"),b=document.getElementsByTagName("script")[0],a.async=!0,a.src="//ajax.cloudflare.com/cdn-cgi/nexp/dok3v=0489c402f5/cloudflare.min.js",b.parentNode.insertBefore(a,b)}()}}catch(e){};
//]]>
</script>
<link href="/static/build/styles.css" rel="stylesheet">

  <!-- Le HTML5 shim, for IE6-8 support of HTML5 elements -->
  <!--[if lt IE 9]>
    <script src="http://html5shim.googlecode.com/svn/trunk/html5.js"></script>
  <![endif]-->

  <!-- Le fav and touch icons -->
  <link rel="shortcut icon" href="/static/ico/ipynb_icon_16x16.png">
  <link rel="apple-touch-icon-precomposed" sizes="144x144"
        href="/static/ico/apple-touch-icon-144-precomposed.png">
  <link rel="apple-touch-icon-precomposed" sizes="114x114"
        href="/static/ico/apple-touch-icon-114-precomposed.png">
  <link rel="apple-touch-icon-precomposed" sizes="72x72"
        href="/static/ico/apple-touch-icon-72-precomposed.png">
  <link rel="apple-touch-icon-precomposed"
        href="/static/ico/apple-touch-icon-57-precomposed.png">
  
  

  

  
  <meta name="twitter:card" content="summary">
  <meta name="twitter:title" content="Notebook on nbviewer">
  <meta name="twitter:description" content="Check out this Jupyter notebook!">

  
  <meta name="twitter:domain" content="nbviewer.ipython.org">
  <meta name="twitter:image:src" content="http://ipython.org/ipython-doc/dev/_images/ipynb_icon_128x128.png">

  
    <link href="/static/build/notebook.css" rel="stylesheet">
  

  

  
    <script src="https://cdn.mathjax.org/mathjax/latest/MathJax.js?config=TeX-AMS_HTML" type="text/javascript">
    </script>
    <script type="text/javascript">
      init_mathjax = function() {
        if (window.MathJax) {
          // MathJax loaded
          MathJax.Hub.Config({
            TeX: {
              equationNumbers: {
                autoNumber: "AMS",
                useLabelIds: true
              }
            },
            tex2jax: {
              inlineMath: [ ['$','$'], ["\\(","\\)"] ],
              displayMath: [ ['$$','$$'], ["\\[","\\]"] ],
              processEscapes: true,
              processEnvironments: true
            },
            displayAlign: 'center',
            "HTML-CSS": {
              styles: {'.MathJax_Display': {"margin": 0}},
              linebreaks: { automatic: true }
            }
          });
          MathJax.Hub.Queue(["Typeset", MathJax.Hub]);
        }
      }
      init_mathjax();
    </script>
  

<script type="text/javascript">
/* <![CDATA[ */
var _gaq = _gaq || [];
_gaq.push(['_setAccount', 'UA-52617120-5']);
_gaq.push(['_trackPageview']);

(function() {
var ga = document.createElement('script'); ga.type = 'text/javascript'; ga.async = true;
ga.src = ('https:' == document.location.protocol ? 'https://ssl' : 'http://www') + '.google-analytics.com/ga.js';
var s = document.getElementsByTagName('script')[0]; s.parentNode.insertBefore(ga, s);
})();

(function(b){(function(a){"__CF"in b&&"DJS"in b.__CF?b.__CF.DJS.push(a):"addEventListener"in b?b.addEventListener("load",a,!1):b.attachEvent("onload",a)})(function(){"FB"in b&&"Event"in FB&&"subscribe"in FB.Event&&(FB.Event.subscribe("edge.create",function(a){_gaq.push(["_trackSocial","facebook","like",a])}),FB.Event.subscribe("edge.remove",function(a){_gaq.push(["_trackSocial","facebook","unlike",a])}),FB.Event.subscribe("message.send",function(a){_gaq.push(["_trackSocial","facebook","send",a])}));"twttr"in b&&"events"in twttr&&"bind"in twttr.events&&twttr.events.bind("tweet",function(a){if(a){var b;if(a.target&&a.target.nodeName=="IFRAME")a:{if(a=a.target.src){a=a.split("#")[0].match(/[^?=&]+=([^&]*)?/g);b=0;for(var c;c=a[b];++b)if(c.indexOf("url")===0){b=unescape(c.split("=")[1]);break a}}b=void 0}_gaq.push(["_trackSocial","twitter","tweet",b])}})})})(window);
/* ]]> */
</script>
</head>

<body class="nbviewer">

  <!-- These are loaded at the top of the body so they are available to
       notebook cells when they are loaded below. -->
  <script src="/static/components/jquery/dist/jquery.min.js"></script>
  <script src="/static/components/requirejs/require.js"></script>
  <script src="/static/components/moment/min/moment.min.js"></script>

<!-- Navbar
================================================== -->
  <nav id="menubar" class="navbar navbar-default navbar-fixed-top" data-spy="affix">
    <div class="container">
      <div class="navbar-header">
        <button type="button" class="navbar-toggle collapsed" data-toggle="collapse" data-target=".navbar-collapse">
          <span class="sr-only">Toggle navigation</span>
          <i class="fa fa-bars"></i>
        </button>
        <a class="navbar-brand" href="/">
          <img src="/static/img/nav_logo.svg" width="159"/>
        </a>
      </div>

      <div class="collapse navbar-collapse">
        <ul class="nav navbar-nav navbar-right">
          <li>
            <a class="active" href="http://jupyter.org">JUPYTER</a>
          </li>
          <li>
    <a href="/faq" title="FAQ" >
      
        <span>FAQ</span>
      
    </a>
  </li>

          
  
    
  
    
      
        <li>
    <a href="/format/script/github/SheffieldML/notebook/blob/master/GPy/models_basic.ipynb" title="View as Code" >
      <span class="fa fa- fa-2x menu-icon"></span>
      <span class="menu-text">View as Code</span>
    </a>
  </li>
      
    
  

  
    <li>
    <a href="#" title="Python 2 Kernel" >
      <span class="fa fa-server fa-2x menu-icon"></span>
      <span class="menu-text">Python 2 Kernel</span>
    </a>
  </li>
  

  
    <li>
    <a href="https://github.com/SheffieldML/notebook/blob/master/GPy/models_basic.ipynb" title="View on GitHub" >
      <span class="fa fa-github fa-2x menu-icon"></span>
      <span class="menu-text">View on GitHub</span>
    </a>
  </li>
  

  <li>
    <a href="https://raw.githubusercontent.com/SheffieldML/notebook/master/GPy/models_basic.ipynb" title="Download Notebook" download>
      <span class="fa fa-download fa-2x menu-icon"></span>
      <span class="menu-text">Download Notebook</span>
    </a>
  </li>

        </ul>
      </div><!-- /.navbar-collapse -->
      
      
    </div>
  </nav>

  <div class="container container-main">
    
  
  <ol class="breadcrumb">
    
      <li>
        <a href="/github/SheffieldML/notebook/tree/master">notebook</a>
      </li>
    
      <li>
        <a href="/github/SheffieldML/notebook/tree/master/GPy">GPy</a>
      </li>
    
  </ol>
  
  <div id="notebook">
    <div id="notebook-container">
      
<div class="cell border-box-sizing code_cell rendered">
<div class="input">
<div class="prompt input_prompt">In&nbsp;[1]:</div>
<div class="inner_cell">
    <div class="input_area">
<div class=" highlight hl-ipython2"><pre><span></span><span class="c1">#import necessary modules, set up the plotting</span>
<span class="kn">import</span> <span class="nn">numpy</span> <span class="kn">as</span> <span class="nn">np</span>
<span class="o">%</span><span class="k">matplotlib</span> inline
<span class="o">%</span><span class="k">config</span> InlineBackend.figure_format = &#39;svg&#39;
<span class="kn">import</span> <span class="nn">matplotlib</span><span class="p">;</span><span class="n">matplotlib</span><span class="o">.</span><span class="n">rcParams</span><span class="p">[</span><span class="s1">&#39;figure.figsize&#39;</span><span class="p">]</span> <span class="o">=</span> <span class="p">(</span><span class="mi">8</span><span class="p">,</span><span class="mi">6</span><span class="p">)</span>
<span class="kn">from</span> <span class="nn">matplotlib</span> <span class="kn">import</span> <span class="n">pyplot</span> <span class="k">as</span> <span class="n">plt</span>
<span class="kn">import</span> <span class="nn">GPy</span>
</pre></div>

</div>
</div>
</div>

</div>
<div class="cell border-box-sizing text_cell rendered">
<div class="prompt input_prompt">
</div>
<div class="inner_cell">
<div class="text_cell_render border-box-sizing rendered_html">
<h1 id="Interacting-with-models">Interacting with models<a class="anchor-link" href="#Interacting-with-models">&#182;</a></h1><h3 id="November-2014,-by-Max-Zwiessele">November 2014, by Max Zwiessele<a class="anchor-link" href="#November-2014,-by-Max-Zwiessele">&#182;</a></h3><h4 id="with-edits-by-James-Hensman">with edits by James Hensman<a class="anchor-link" href="#with-edits-by-James-Hensman">&#182;</a></h4><p>The GPy model class has a set of features which are designed to make it simple to explore the parameter space of the model. By default, the scipy optimisers are used to fit GPy models (via model.optimize()), for which we provide mechanisms for ‘free’ optimisation: GPy can ensure that naturally positive parameters (such as variances) remain positive. But these mechanisms are much more powerful than simple reparameterisation, as we shall see.</p>
<p>Along this tutorial we’ll use a sparse GP regression model as example. This example can be in GPy.examples.regression. All of the examples included in GPy return an instance of a model class, and therefore they can be called in the following way:</p>

</div>
</div>
</div>
<div class="cell border-box-sizing code_cell rendered">
<div class="input">
<div class="prompt input_prompt">In&nbsp;[2]:</div>
<div class="inner_cell">
    <div class="input_area">
<div class=" highlight hl-ipython2"><pre><span></span><span class="n">m</span> <span class="o">=</span> <span class="n">GPy</span><span class="o">.</span><span class="n">examples</span><span class="o">.</span><span class="n">regression</span><span class="o">.</span><span class="n">sparse_GP_regression_1D</span><span class="p">(</span><span class="n">plot</span><span class="o">=</span><span class="bp">False</span><span class="p">,</span> <span class="n">optimize</span><span class="o">=</span><span class="bp">False</span><span class="p">)</span>
</pre></div>

</div>
</div>
</div>

</div>
<div class="cell border-box-sizing text_cell rendered">
<div class="prompt input_prompt">
</div>
<div class="inner_cell">
<div class="text_cell_render border-box-sizing rendered_html">
<h2 id="Examining-the-model-using-print">Examining the model using print<a class="anchor-link" href="#Examining-the-model-using-print">&#182;</a></h2><p>To see the current state of the model parameters, and the model’s (marginal) likelihood just print the model</p>

<pre><code>print m

</code></pre>
<p>The first thing displayed on the screen is the log-likelihood value of the model with its current parameters. Below the log-likelihood, a table with all the model’s parameters is shown. For each parameter, the table contains the name of the parameter, the current value, and in case there are defined: constraints, ties and prior distrbutions associated.</p>

</div>
</div>
</div>
<div class="cell border-box-sizing code_cell rendered">
<div class="input">
<div class="prompt input_prompt">In&nbsp;[3]:</div>
<div class="inner_cell">
    <div class="input_area">
<div class=" highlight hl-ipython2"><pre><span></span><span class="n">m</span>
</pre></div>

</div>
</div>
</div>

<div class="output_wrapper">
<div class="output">


<div class="output_area"><div class="prompt output_prompt">Out[3]:</div>

<div class="output_html rendered_html output_subarea output_execute_result">
<style type="text/css">
.pd{
    font-family: "Courier New", Courier, monospace !important;
    width: 100%;
    padding: 3px;
}
</style>

<p class=pd>
<b>Model</b>: sparse gp<br>
<b>Objective</b>: 422.820894957<br>
<b>Number of Parameters</b>: 8<br>
<b>Number of Optimization Parameters</b>: 8<br>
<b>Updates</b>: True<br>
</p>
<style type="text/css">
.tg  {font-family:"Courier New", Courier, monospace !important;padding:2px 3px;word-break:normal;border-collapse:collapse;border-spacing:0;border-color:#DCDCDC;margin:0px auto;width:100%;}
.tg td{font-family:"Courier New", Courier, monospace !important;font-weight:bold;color:#444;background-color:#F7FDFA;border-style:solid;border-width:1px;overflow:hidden;word-break:normal;border-color:#DCDCDC;}
.tg th{font-family:"Courier New", Courier, monospace !important;font-weight:normal;color:#fff;background-color:#26ADE4;border-style:solid;border-width:1px;overflow:hidden;word-break:normal;border-color:#DCDCDC;}
.tg .tg-left{font-family:"Courier New", Courier, monospace !important;font-weight:normal;text-align:left;}
.tg .tg-center{font-family:"Courier New", Courier, monospace !important;font-weight:normal;text-align:center;}
.tg .tg-right{font-family:"Courier New", Courier, monospace !important;font-weight:normal;text-align:right;}
</style>
<table class="tg"><tr><th><b>  sparse_gp.             </b></th><th><b> value</b></th><th><b>constraints</b></th><th><b>priors</b></th></tr>
<tr><td class=tg-left>  inducing inputs        </td><td class=tg-right>(5, 1)</td><td class=tg-center>           </td><td class=tg-center>      </td></tr>
<tr><td class=tg-left>  rbf.variance           </td><td class=tg-right>   1.0</td><td class=tg-center>    +ve    </td><td class=tg-center>      </td></tr>
<tr><td class=tg-left>  rbf.lengthscale        </td><td class=tg-right>   1.0</td><td class=tg-center>    +ve    </td><td class=tg-center>      </td></tr>
<tr><td class=tg-left>  Gaussian_noise.variance</td><td class=tg-right>   1.0</td><td class=tg-center>    +ve    </td><td class=tg-center>      </td></tr>
</table>
</div>

</div>

</div>
</div>

</div>
<div class="cell border-box-sizing text_cell rendered">
<div class="prompt input_prompt">
</div>
<div class="inner_cell">
<div class="text_cell_render border-box-sizing rendered_html">
<p>In this case the kernel parameters (<code>bf.variance</code>, <code>bf.lengthscale</code>) as well as the likelihood noise parameter (<code>Gaussian_noise.variance</code>), are constrained to be positive, while the inducing inputs have no constraints associated. Also there are no ties or prior defined.</p>
<p>You can also print all subparts of the model, by printing the subcomponents individually; this will print the details of this particular parameter handle:</p>

</div>
</div>
</div>
<div class="cell border-box-sizing code_cell rendered">
<div class="input">
<div class="prompt input_prompt">In&nbsp;[4]:</div>
<div class="inner_cell">
    <div class="input_area">
<div class=" highlight hl-ipython2"><pre><span></span><span class="n">m</span><span class="o">.</span><span class="n">rbf</span>
</pre></div>

</div>
</div>
</div>

<div class="output_wrapper">
<div class="output">


<div class="output_area"><div class="prompt output_prompt">Out[4]:</div>

<div class="output_html rendered_html output_subarea output_execute_result">
<style type="text/css">
.tg  {font-family:"Courier New", Courier, monospace !important;padding:2px 3px;word-break:normal;border-collapse:collapse;border-spacing:0;border-color:#DCDCDC;margin:0px auto;width:100%;}
.tg td{font-family:"Courier New", Courier, monospace !important;font-weight:bold;color:#444;background-color:#F7FDFA;border-style:solid;border-width:1px;overflow:hidden;word-break:normal;border-color:#DCDCDC;}
.tg th{font-family:"Courier New", Courier, monospace !important;font-weight:normal;color:#fff;background-color:#26ADE4;border-style:solid;border-width:1px;overflow:hidden;word-break:normal;border-color:#DCDCDC;}
.tg .tg-left{font-family:"Courier New", Courier, monospace !important;font-weight:normal;text-align:left;}
.tg .tg-center{font-family:"Courier New", Courier, monospace !important;font-weight:normal;text-align:center;}
.tg .tg-right{font-family:"Courier New", Courier, monospace !important;font-weight:normal;text-align:right;}
</style>
<table class="tg"><tr><th><b>  rbf.       </b></th><th><b>value</b></th><th><b>constraints</b></th><th><b>priors</b></th></tr>
<tr><td class=tg-left>  variance   </td><td class=tg-right>  1.0</td><td class=tg-center>    +ve    </td><td class=tg-center>      </td></tr>
<tr><td class=tg-left>  lengthscale</td><td class=tg-right>  1.0</td><td class=tg-center>    +ve    </td><td class=tg-center>      </td></tr>
</table>
</div>

</div>

</div>
</div>

</div>
<div class="cell border-box-sizing text_cell rendered">
<div class="prompt input_prompt">
</div>
<div class="inner_cell">
<div class="text_cell_render border-box-sizing rendered_html">
<p>When you want to get a closer look into multivalue parameters, print them directly:</p>

</div>
</div>
</div>
<div class="cell border-box-sizing code_cell rendered">
<div class="input">
<div class="prompt input_prompt">In&nbsp;[5]:</div>
<div class="inner_cell">
    <div class="input_area">
<div class=" highlight hl-ipython2"><pre><span></span><span class="n">m</span><span class="o">.</span><span class="n">inducing_inputs</span>
</pre></div>

</div>
</div>
</div>

<div class="output_wrapper">
<div class="output">


<div class="output_area"><div class="prompt output_prompt">Out[5]:</div>

<div class="output_html rendered_html output_subarea output_execute_result">
<style type="text/css">
.tg  {padding:2px 3px;word-break:normal;border-collapse:collapse;border-spacing:0;border-color:#DCDCDC;margin:0px auto;width:100%;}
.tg td{font-family:"Courier New", Courier, monospace !important;font-weight:bold;color:#444;background-color:#F7FDFA;border-style:solid;border-width:1px;overflow:hidden;word-break:normal;border-color:#DCDCDC;}
.tg th{font-family:"Courier New", Courier, monospace !important;font-weight:normal;color:#fff;background-color:#26ADE4;border-style:solid;border-width:1px;overflow:hidden;word-break:normal;border-color:#DCDCDC;}
.tg .tg-left{font-family:"Courier New", Courier, monospace !important;font-weight:normal;text-align:left;}
.tg .tg-right{font-family:"Courier New", Courier, monospace !important;font-weight:normal;text-align:right;}
</style>
<table class="tg">

<tr>
  <th><b>index</b></th>
  <th><b>sparse_gp.inducing_inputs</b></th>
  <th><b>constraints</b></th><th><b>priors</b></th>
</tr>
<tr><td class=tg-left>  [0 0]</td><td class=tg-right>               0.17450990</td><td class=tg-left>           </td><td class=tg-left>      </td></tr>
<tr><td class=tg-left>  [1 0]</td><td class=tg-right>               2.19478599</td><td class=tg-left>           </td><td class=tg-left>      </td></tr>
<tr><td class=tg-left>  [2 0]</td><td class=tg-right>               1.09452540</td><td class=tg-left>           </td><td class=tg-left>      </td></tr>
<tr><td class=tg-left>  [3 0]</td><td class=tg-right>              -0.42446266</td><td class=tg-left>           </td><td class=tg-left>      </td></tr>
<tr><td class=tg-left>  [4 0]</td><td class=tg-right>               0.45784368</td><td class=tg-left>           </td><td class=tg-left>      </td></tr>
</div>

</div>

</div>
</div>

</div>
<div class="cell border-box-sizing code_cell rendered">
<div class="input">
<div class="prompt input_prompt">In&nbsp;[6]:</div>
<div class="inner_cell">
    <div class="input_area">
<div class=" highlight hl-ipython2"><pre><span></span><span class="n">m</span><span class="o">.</span><span class="n">inducing_inputs</span><span class="p">[</span><span class="mi">0</span><span class="p">]</span> <span class="o">=</span> <span class="mi">1</span>
</pre></div>

</div>
</div>
</div>

</div>
<div class="cell border-box-sizing text_cell rendered">
<div class="prompt input_prompt">
</div>
<div class="inner_cell">
<div class="text_cell_render border-box-sizing rendered_html">
<h2 id="Interacting-with-Parameters:">Interacting with Parameters:<a class="anchor-link" href="#Interacting-with-Parameters:">&#182;</a></h2><p>The preferred way of interacting with parameters is to act on the parameter handle itself. Interacting with parameter handles is simple. The names, printed by print m are accessible interactively and programatically. For example try to set the kernel's <code>lengthscale</code> to 0.2 and print the result:</p>

</div>
</div>
</div>
<div class="cell border-box-sizing code_cell rendered">
<div class="input">
<div class="prompt input_prompt">In&nbsp;[7]:</div>
<div class="inner_cell">
    <div class="input_area">
<div class=" highlight hl-ipython2"><pre><span></span><span class="n">m</span><span class="o">.</span><span class="n">rbf</span><span class="o">.</span><span class="n">lengthscale</span> <span class="o">=</span> <span class="mf">0.2</span>
<span class="k">print</span> <span class="n">m</span>
</pre></div>

</div>
</div>
</div>

<div class="output_wrapper">
<div class="output">


<div class="output_area"><div class="prompt"></div>
<div class="output_subarea output_stream output_stdout output_text">
<pre>
Name : sparse gp
Objective : 590.608017128
Number of Parameters : 8
Number of Optimization Parameters : 8
Updates : True
Parameters:
  <span class="ansi-bold">sparse_gp.             </span>  |   value  |  constraints  |  priors
  <span class="ansi-bold">inducing inputs        </span>  |  (5, 1)  |               |        
  <span class="ansi-bold">rbf.variance           </span>  |     1.0  |      +ve      |        
  <span class="ansi-bold">rbf.lengthscale        </span>  |     0.2  |      +ve      |        
  <span class="ansi-bold">Gaussian_noise.variance</span>  |     1.0  |      +ve      |        
</pre>
</div>
</div>

</div>
</div>

</div>
<div class="cell border-box-sizing text_cell rendered">
<div class="prompt input_prompt">
</div>
<div class="inner_cell">
<div class="text_cell_render border-box-sizing rendered_html">
<p>This will already have updated the model’s inner state: note how the log-likelihood has changed. YOu can immediately plot the model or see the changes in the posterior (<code>m.posterior</code>) of the model.</p>

</div>
</div>
</div>
<div class="cell border-box-sizing text_cell rendered">
<div class="prompt input_prompt">
</div>
<div class="inner_cell">
<div class="text_cell_render border-box-sizing rendered_html">
<h2 id="Regular-expressions">Regular expressions<a class="anchor-link" href="#Regular-expressions">&#182;</a></h2><p>The model’s parameters can also be accessed through regular expressions, by ‘indexing’ the model with a regular expression, matching the parameter name. Through indexing by regular expression, you can only retrieve leafs of the hierarchy, and you can retrieve the values matched by calling <code>values()</code> on the returned object</p>

</div>
</div>
</div>
<div class="cell border-box-sizing code_cell rendered">
<div class="input">
<div class="prompt input_prompt">In&nbsp;[8]:</div>
<div class="inner_cell">
    <div class="input_area">
<div class=" highlight hl-ipython2"><pre><span></span><span class="k">print</span> <span class="n">m</span><span class="p">[</span><span class="s1">&#39;.*var&#39;</span><span class="p">]</span>
<span class="c1">#print &quot;variances as a np.array:&quot;, m[&#39;.*var&#39;].values()</span>
<span class="c1">#print &quot;np.array of rbf matches: &quot;, m[&#39;.*rbf&#39;].values()</span>
</pre></div>

</div>
</div>
</div>

<div class="output_wrapper">
<div class="output">


<div class="output_area"><div class="prompt"></div>
<div class="output_subarea output_stream output_stdout output_text">
<pre>  <span class="ansi-bold">index</span>  |             sparse_gp.rbf.variance  |  constraints  |  priors
  <span class="ansi-bold">[0]  </span>  |                         1.00000000  |      +ve      |        
  <span class="ansi-bold">-----</span>  |  sparse_gp.Gaussian_noise.variance  |  -----------  |  ------
  <span class="ansi-bold">[0]  </span>  |                         1.00000000  |      +ve      |        
</pre>
</div>
</div>

</div>
</div>

</div>
<div class="cell border-box-sizing text_cell rendered">
<div class="prompt input_prompt">
</div>
<div class="inner_cell">
<div class="text_cell_render border-box-sizing rendered_html">
<p>There is access to setting parameters by regular expression, as well. Here are a few examples of how to set parameters by regular expression. Note that each time the values are set, computations are done internally to compute the log likeliood of the model.</p>

</div>
</div>
</div>
<div class="cell border-box-sizing code_cell rendered">
<div class="input">
<div class="prompt input_prompt">In&nbsp;[9]:</div>
<div class="inner_cell">
    <div class="input_area">
<div class=" highlight hl-ipython2"><pre><span></span><span class="n">m</span><span class="p">[</span><span class="s1">&#39;.*var&#39;</span><span class="p">]</span> <span class="o">=</span> <span class="mf">2.</span>
<span class="k">print</span> <span class="n">m</span>
<span class="n">m</span><span class="p">[</span><span class="s1">&#39;.*var&#39;</span><span class="p">]</span> <span class="o">=</span> <span class="p">[</span><span class="mf">2.</span><span class="p">,</span> <span class="mf">3.</span><span class="p">]</span>
<span class="k">print</span> <span class="n">m</span>
</pre></div>

</div>
</div>
</div>

<div class="output_wrapper">
<div class="output">


<div class="output_area"><div class="prompt"></div>
<div class="output_subarea output_stream output_stdout output_text">
<pre>
Name : sparse gp
Objective : 694.201181379
Number of Parameters : 8
Number of Optimization Parameters : 8
Updates : True
Parameters:
  <span class="ansi-bold">sparse_gp.             </span>  |   value  |  constraints  |  priors
  <span class="ansi-bold">inducing inputs        </span>  |  (5, 1)  |               |        
  <span class="ansi-bold">rbf.variance           </span>  |     2.0  |      +ve      |        
  <span class="ansi-bold">rbf.lengthscale        </span>  |     0.2  |      +ve      |        
  <span class="ansi-bold">Gaussian_noise.variance</span>  |     2.0  |      +ve      |        

Name : sparse gp
Objective : 714.484895561
Number of Parameters : 8
Number of Optimization Parameters : 8
Updates : True
Parameters:
  <span class="ansi-bold">sparse_gp.             </span>  |   value  |  constraints  |  priors
  <span class="ansi-bold">inducing inputs        </span>  |  (5, 1)  |               |        
  <span class="ansi-bold">rbf.variance           </span>  |     2.0  |      +ve      |        
  <span class="ansi-bold">rbf.lengthscale        </span>  |     0.2  |      +ve      |        
  <span class="ansi-bold">Gaussian_noise.variance</span>  |     3.0  |      +ve      |        
</pre>
</div>
</div>

</div>
</div>

</div>
<div class="cell border-box-sizing text_cell rendered">
<div class="prompt input_prompt">
</div>
<div class="inner_cell">
<div class="text_cell_render border-box-sizing rendered_html">
<p>A handy trick for seeing all of the parameters of the model at once is to regular-expression match every variable:</p>

</div>
</div>
</div>
<div class="cell border-box-sizing code_cell rendered">
<div class="input">
<div class="prompt input_prompt">In&nbsp;[10]:</div>
<div class="inner_cell">
    <div class="input_area">
<div class=" highlight hl-ipython2"><pre><span></span><span class="k">print</span> <span class="n">m</span><span class="p">[</span><span class="s1">&#39;&#39;</span><span class="p">]</span>
</pre></div>

</div>
</div>
</div>

<div class="output_wrapper">
<div class="output">


<div class="output_area"><div class="prompt"></div>
<div class="output_subarea output_stream output_stdout output_text">
<pre>  <span class="ansi-bold">index</span>  |          sparse_gp.inducing_inputs  |  constraints  |  priors
  <span class="ansi-bold">[0 0]</span>  |                         1.00000000  |               |        
  <span class="ansi-bold">[1 0]</span>  |                         2.19478599  |               |        
  <span class="ansi-bold">[2 0]</span>  |                         1.09452540  |               |        
  <span class="ansi-bold">[3 0]</span>  |                        -0.42446266  |               |        
  <span class="ansi-bold">[4 0]</span>  |                         0.45784368  |               |        
  <span class="ansi-bold">-----</span>  |             sparse_gp.rbf.variance  |  -----------  |  ------
  <span class="ansi-bold">[0]  </span>  |                         2.00000000  |      +ve      |        
  <span class="ansi-bold">-----</span>  |          sparse_gp.rbf.lengthscale  |  -----------  |  ------
  <span class="ansi-bold">[0]  </span>  |                         0.20000000  |      +ve      |        
  <span class="ansi-bold">-----</span>  |  sparse_gp.Gaussian_noise.variance  |  -----------  |  ------
  <span class="ansi-bold">[0]  </span>  |                         3.00000000  |      +ve      |        
</pre>
</div>
</div>

</div>
</div>

</div>
<div class="cell border-box-sizing text_cell rendered">
<div class="prompt input_prompt">
</div>
<div class="inner_cell">
<div class="text_cell_render border-box-sizing rendered_html">
<h2 id="Setting-and-fetching-parameters-parameter_array">Setting and fetching parameters parameter_array<a class="anchor-link" href="#Setting-and-fetching-parameters-parameter_array">&#182;</a></h2><p>Another way to interact with the model’s parameters is through the parameter_array. The Parameter array holds all the parameters of the model in one place and is editable. It can be accessed through indexing the model for example you can set all the parameters through this mechanism:</p>

</div>
</div>
</div>
<div class="cell border-box-sizing code_cell rendered">
<div class="input">
<div class="prompt input_prompt">In&nbsp;[11]:</div>
<div class="inner_cell">
    <div class="input_area">
<div class=" highlight hl-ipython2"><pre><span></span><span class="n">new_params</span> <span class="o">=</span> <span class="n">np</span><span class="o">.</span><span class="n">r_</span><span class="p">[[</span><span class="o">-</span><span class="mi">4</span><span class="p">,</span><span class="o">-</span><span class="mi">2</span><span class="p">,</span><span class="mi">0</span><span class="p">,</span><span class="mi">2</span><span class="p">,</span><span class="mi">4</span><span class="p">],</span> <span class="p">[</span><span class="o">.</span><span class="mi">1</span><span class="p">,</span><span class="mi">2</span><span class="p">],</span> <span class="p">[</span><span class="o">.</span><span class="mi">7</span><span class="p">]]</span>
<span class="k">print</span> <span class="n">new_params</span>

<span class="n">m</span><span class="p">[:]</span> <span class="o">=</span> <span class="n">new_params</span>
<span class="k">print</span> <span class="n">m</span>     
</pre></div>

</div>
</div>
</div>

<div class="output_wrapper">
<div class="output">


<div class="output_area"><div class="prompt"></div>
<div class="output_subarea output_stream output_stdout output_text">
<pre>[-4.  -2.   0.   2.   4.   0.1  2.   0.7]

Name : sparse gp
Objective : 322.317452127
Number of Parameters : 8
Number of Optimization Parameters : 8
Updates : True
Parameters:
  <span class="ansi-bold">sparse_gp.             </span>  |   value  |  constraints  |  priors
  <span class="ansi-bold">inducing inputs        </span>  |  (5, 1)  |               |        
  <span class="ansi-bold">rbf.variance           </span>  |     0.1  |      +ve      |        
  <span class="ansi-bold">rbf.lengthscale        </span>  |     2.0  |      +ve      |        
  <span class="ansi-bold">Gaussian_noise.variance</span>  |     0.7  |      +ve      |        
</pre>
</div>
</div>

</div>
</div>

</div>
<div class="cell border-box-sizing text_cell rendered">
<div class="prompt input_prompt">
</div>
<div class="inner_cell">
<div class="text_cell_render border-box-sizing rendered_html">
<p>Parameters themselves (leafs of the hierarchy) can be indexed and used the same way as numpy arrays. First let us set a slice of the inducing_inputs:</p>

</div>
</div>
</div>
<div class="cell border-box-sizing code_cell rendered">
<div class="input">
<div class="prompt input_prompt">In&nbsp;[12]:</div>
<div class="inner_cell">
    <div class="input_area">
<div class=" highlight hl-ipython2"><pre><span></span><span class="n">m</span><span class="o">.</span><span class="n">inducing_inputs</span><span class="p">[</span><span class="mi">2</span><span class="p">:,</span> <span class="mi">0</span><span class="p">]</span> <span class="o">=</span> <span class="p">[</span><span class="mi">1</span><span class="p">,</span><span class="mi">3</span><span class="p">,</span><span class="mi">5</span><span class="p">]</span>
<span class="k">print</span> <span class="n">m</span><span class="o">.</span><span class="n">inducing_inputs</span>
</pre></div>

</div>
</div>
</div>

<div class="output_wrapper">
<div class="output">


<div class="output_area"><div class="prompt"></div>
<div class="output_subarea output_stream output_stdout output_text">
<pre>  <span class="ansi-bold">index</span>  |  sparse_gp.inducing_inputs  |  constraints  |  priors
  <span class="ansi-bold">[0 0]</span>  |                -4.00000000  |               |        
  <span class="ansi-bold">[1 0]</span>  |                -2.00000000  |               |        
  <span class="ansi-bold">[2 0]</span>  |                 1.00000000  |               |        
  <span class="ansi-bold">[3 0]</span>  |                 3.00000000  |               |        
  <span class="ansi-bold">[4 0]</span>  |                 5.00000000  |               |        
</pre>
</div>
</div>

</div>
</div>

</div>
<div class="cell border-box-sizing text_cell rendered">
<div class="prompt input_prompt">
</div>
<div class="inner_cell">
<div class="text_cell_render border-box-sizing rendered_html">
<p>Or you use the parameters as normal numpy arrays for calculations:</p>

</div>
</div>
</div>
<div class="cell border-box-sizing code_cell rendered">
<div class="input">
<div class="prompt input_prompt">In&nbsp;[13]:</div>
<div class="inner_cell">
    <div class="input_area">
<div class=" highlight hl-ipython2"><pre><span></span><span class="n">precision</span> <span class="o">=</span> <span class="mf">1.</span><span class="o">/</span><span class="n">m</span><span class="o">.</span><span class="n">Gaussian_noise</span><span class="o">.</span><span class="n">variance</span>
<span class="k">print</span> <span class="n">precision</span>
</pre></div>

</div>
</div>
</div>

<div class="output_wrapper">
<div class="output">


<div class="output_area"><div class="prompt"></div>
<div class="output_subarea output_stream output_stdout output_text">
<pre>[ 1.42857143]
</pre>
</div>
</div>

</div>
</div>

</div>
<div class="cell border-box-sizing text_cell rendered">
<div class="prompt input_prompt">
</div>
<div class="inner_cell">
<div class="text_cell_render border-box-sizing rendered_html">
<h2 id="Getting-the-model-parameter&#8217;s-gradients">Getting the model parameter&#8217;s gradients<a class="anchor-link" href="#Getting-the-model-parameter&#8217;s-gradients">&#182;</a></h2><p>The gradients of a model can shed light on understanding the (possibly hard) optimization process. The gradients of each parameter handle can be accessed through their gradient field.:</p>

</div>
</div>
</div>
<div class="cell border-box-sizing code_cell rendered">
<div class="input">
<div class="prompt input_prompt">In&nbsp;[14]:</div>
<div class="inner_cell">
    <div class="input_area">
<div class=" highlight hl-ipython2"><pre><span></span><span class="k">print</span> <span class="s2">&quot;all gradients of the model:</span><span class="se">\n</span><span class="s2">&quot;</span><span class="p">,</span> <span class="n">m</span><span class="o">.</span><span class="n">gradient</span>
<span class="k">print</span> <span class="s2">&quot;</span><span class="se">\n</span><span class="s2"> gradients of the rbf kernel:</span><span class="se">\n</span><span class="s2">&quot;</span><span class="p">,</span> <span class="n">m</span><span class="o">.</span><span class="n">rbf</span><span class="o">.</span><span class="n">gradient</span>
</pre></div>

</div>
</div>
</div>

<div class="output_wrapper">
<div class="output">


<div class="output_area"><div class="prompt"></div>
<div class="output_subarea output_stream output_stdout output_text">
<pre>all gradients of the model:
[   2.01697286    3.69837406    1.1975515    -0.38669436   -0.31342694
   99.38364871  -12.37834911 -268.18547317]

 gradients of the rbf kernel:
[ 99.38364871 -12.37834911]
</pre>
</div>
</div>

</div>
</div>

</div>
<div class="cell border-box-sizing text_cell rendered">
<div class="prompt input_prompt">
</div>
<div class="inner_cell">
<div class="text_cell_render border-box-sizing rendered_html">
<p>If we optimize the model, the gradients (should be close to) zero</p>

</div>
</div>
</div>
<div class="cell border-box-sizing code_cell rendered">
<div class="input">
<div class="prompt input_prompt">In&nbsp;[15]:</div>
<div class="inner_cell">
    <div class="input_area">
<div class=" highlight hl-ipython2"><pre><span></span><span class="n">m</span><span class="o">.</span><span class="n">optimize</span><span class="p">()</span>
<span class="k">print</span> <span class="n">m</span><span class="o">.</span><span class="n">gradient</span>
</pre></div>

</div>
</div>
</div>

<div class="output_wrapper">
<div class="output">


<div class="output_area"><div class="prompt"></div>
<div class="output_subarea output_stream output_stdout output_text">
<pre>[ -9.07579744e-04   1.55292147e-03   2.70479755e-04   8.65120340e-04
   9.78466589e-04   4.66719022e-04   2.65199506e-04  -3.76904571e-01]
</pre>
</div>
</div>

</div>
</div>

</div>
<div class="cell border-box-sizing text_cell rendered">
<div class="prompt input_prompt">
</div>
<div class="inner_cell">
<div class="text_cell_render border-box-sizing rendered_html">
<h2 id="Adjusting-the-model&#8217;s-constraints">Adjusting the model&#8217;s constraints<a class="anchor-link" href="#Adjusting-the-model&#8217;s-constraints">&#182;</a></h2><p>When we initially call the example, it was optimized and hence the log-likelihood gradients were close to zero. However, since we have been changing the parameters, the gradients are far from zero now. Next we are going to show how to optimize the model setting different restrictions on the parameters.</p>
<p>Once a constraint has been set on a parameter, it is possible to remove it with the command unconstrain(), which can be called on any parameter handle of the model. The methods constrain() and unconstrain() return the indices which were actually unconstrained, relative to the parameter handle the method was called on. This is particularly handy for reporting which parameters where reconstrained, when reconstraining a parameter, which was already constrained:</p>

</div>
</div>
</div>
<div class="cell border-box-sizing code_cell rendered">
<div class="input">
<div class="prompt input_prompt">In&nbsp;[16]:</div>
<div class="inner_cell">
    <div class="input_area">
<div class=" highlight hl-ipython2"><pre><span></span><span class="n">m</span><span class="o">.</span><span class="n">rbf</span><span class="o">.</span><span class="n">variance</span><span class="o">.</span><span class="n">unconstrain</span><span class="p">()</span>
<span class="k">print</span> <span class="n">m</span>
</pre></div>

</div>
</div>
</div>

<div class="output_wrapper">
<div class="output">


<div class="output_area"><div class="prompt"></div>
<div class="output_subarea output_stream output_stdout output_text">
<pre>
Name : sparse gp
Objective : -590.884678521
Number of Parameters : 8
Number of Optimization Parameters : 8
Updates : True
Parameters:
  <span class="ansi-bold">sparse_gp.             </span>  |             value  |  constraints  |  priors
  <span class="ansi-bold">inducing inputs        </span>  |            (5, 1)  |               |        
  <span class="ansi-bold">rbf.variance           </span>  |     1.37750834107  |               |        
  <span class="ansi-bold">rbf.lengthscale        </span>  |     2.47448694644  |      +ve      |        
  <span class="ansi-bold">Gaussian_noise.variance</span>  |  0.00267772602954  |      +ve      |        
</pre>
</div>
</div>

</div>
</div>

</div>
<div class="cell border-box-sizing code_cell rendered">
<div class="input">
<div class="prompt input_prompt">In&nbsp;[17]:</div>
<div class="inner_cell">
    <div class="input_area">
<div class=" highlight hl-ipython2"><pre><span></span><span class="n">m</span><span class="o">.</span><span class="n">unconstrain</span><span class="p">()</span>
<span class="k">print</span> <span class="n">m</span>
</pre></div>

</div>
</div>
</div>

<div class="output_wrapper">
<div class="output">


<div class="output_area"><div class="prompt"></div>
<div class="output_subarea output_stream output_stdout output_text">
<pre>
Name : sparse gp
Objective : -590.884678521
Number of Parameters : 8
Number of Optimization Parameters : 8
Updates : True
Parameters:
  <span class="ansi-bold">sparse_gp.             </span>  |             value  |  constraints  |  priors
  <span class="ansi-bold">inducing inputs        </span>  |            (5, 1)  |               |        
  <span class="ansi-bold">rbf.variance           </span>  |     1.37750834107  |               |        
  <span class="ansi-bold">rbf.lengthscale        </span>  |     2.47448694644  |               |        
  <span class="ansi-bold">Gaussian_noise.variance</span>  |  0.00267772602954  |               |        
</pre>
</div>
</div>

</div>
</div>

</div>
<div class="cell border-box-sizing text_cell rendered">
<div class="prompt input_prompt">
</div>
<div class="inner_cell">
<div class="text_cell_render border-box-sizing rendered_html">
<p>If you want to unconstrain only a specific constraint, you can call the respective method, such as <code>unconstrain_fixed()</code> (or <code>unfix()</code>) to only unfix fixed parameters:</p>

</div>
</div>
</div>
<div class="cell border-box-sizing code_cell rendered">
<div class="input">
<div class="prompt input_prompt">In&nbsp;[18]:</div>
<div class="inner_cell">
    <div class="input_area">
<div class=" highlight hl-ipython2"><pre><span></span><span class="n">m</span><span class="o">.</span><span class="n">inducing_inputs</span><span class="p">[</span><span class="mi">0</span><span class="p">]</span><span class="o">.</span><span class="n">fix</span><span class="p">()</span>
<span class="n">m</span><span class="o">.</span><span class="n">rbf</span><span class="o">.</span><span class="n">constrain_positive</span><span class="p">()</span>
<span class="k">print</span> <span class="n">m</span>
<span class="n">m</span><span class="o">.</span><span class="n">unfix</span><span class="p">()</span>
<span class="k">print</span> <span class="n">m</span>
</pre></div>

</div>
</div>
</div>

<div class="output_wrapper">
<div class="output">


<div class="output_area"><div class="prompt"></div>
<div class="output_subarea output_stream output_stdout output_text">
<pre>
Name : sparse gp
Objective : -590.884678521
Number of Parameters : 8
Number of Optimization Parameters : 7
Updates : True
Parameters:
  <span class="ansi-bold">sparse_gp.             </span>  |             value  |  constraints  |  priors
  <span class="ansi-bold">inducing inputs        </span>  |            (5, 1)  |    {fixed}    |        
  <span class="ansi-bold">rbf.variance           </span>  |     1.37750834107  |      +ve      |        
  <span class="ansi-bold">rbf.lengthscale        </span>  |     2.47448694644  |      +ve      |        
  <span class="ansi-bold">Gaussian_noise.variance</span>  |  0.00267772602954  |               |        

Name : sparse gp
Objective : -590.884678521
Number of Parameters : 8
Number of Optimization Parameters : 8
Updates : True
Parameters:
  <span class="ansi-bold">sparse_gp.             </span>  |             value  |  constraints  |  priors
  <span class="ansi-bold">inducing inputs        </span>  |            (5, 1)  |               |        
  <span class="ansi-bold">rbf.variance           </span>  |     1.37750834107  |      +ve      |        
  <span class="ansi-bold">rbf.lengthscale        </span>  |     2.47448694644  |      +ve      |        
  <span class="ansi-bold">Gaussian_noise.variance</span>  |  0.00267772602954  |               |        
</pre>
</div>
</div>

</div>
</div>

</div>
<div class="cell border-box-sizing text_cell rendered">
<div class="prompt input_prompt">
</div>
<div class="inner_cell">
<div class="text_cell_render border-box-sizing rendered_html">
<h2 id="Tying-Parameters">Tying Parameters<a class="anchor-link" href="#Tying-Parameters">&#182;</a></h2><p>Not yet implemented for GPy version 0.8.0</p>

</div>
</div>
</div>
<div class="cell border-box-sizing text_cell rendered">
<div class="prompt input_prompt">
</div>
<div class="inner_cell">
<div class="text_cell_render border-box-sizing rendered_html">
<h2 id="Optimizing-the-model">Optimizing the model<a class="anchor-link" href="#Optimizing-the-model">&#182;</a></h2><p>Once we have finished defining the constraints, we can now optimize the model with the function optimize.:</p>

</div>
</div>
</div>
<div class="cell border-box-sizing code_cell rendered">
<div class="input">
<div class="prompt input_prompt">In&nbsp;[19]:</div>
<div class="inner_cell">
    <div class="input_area">
<div class=" highlight hl-ipython2"><pre><span></span><span class="n">m</span><span class="o">.</span><span class="n">Gaussian_noise</span><span class="o">.</span><span class="n">constrain_positive</span><span class="p">()</span>
<span class="n">m</span><span class="o">.</span><span class="n">rbf</span><span class="o">.</span><span class="n">constrain_positive</span><span class="p">()</span>
<span class="n">m</span><span class="o">.</span><span class="n">optimize</span><span class="p">()</span>
</pre></div>

</div>
</div>
</div>

<div class="output_wrapper">
<div class="output">


<div class="output_area"><div class="prompt"></div>
<div class="output_subarea output_stream output_stdout output_text">
<pre>WARNING: reconstraining parameters sparse_gp.rbf
</pre>
</div>
</div>

</div>
</div>

</div>
<div class="cell border-box-sizing text_cell rendered">
<div class="prompt input_prompt">
</div>
<div class="inner_cell">
<div class="text_cell_render border-box-sizing rendered_html">
<p>By deafult, GPy uses the lbfgsb optimizer.</p>
<p>Some optional parameters may be discussed here.</p>
<ul>
<li><code>optimizer</code>: which optimizer to use, currently there are lbfgsb, fmin_tnc, scg, simplex or any unique identifier uniquely identifying an optimizer.
Thus, you can say m.optimize('bfgs') for using the <code>lbfgsb</code> optimizer</li>
<li><code>messages</code>: if the optimizer is verbose. Each optimizer has its own way of printing, so do not be confused by differing messages of different optimizers</li>
<li><code>max_iters</code>: Maximum number of iterations to take. Some optimizers see iterations as function calls, others as iterations of the algorithm. Please be advised to look into scipy.optimize for more instructions, if the number of iterations matter, so you can give the right parameters to optimize()</li>
<li><code>gtol</code>: only for some optimizers. Will determine the convergence criterion, as the tolerance of gradient to finish the optimization.</li>
</ul>

</div>
</div>
</div>
<div class="cell border-box-sizing text_cell rendered">
<div class="prompt input_prompt">
</div>
<div class="inner_cell">
<div class="text_cell_render border-box-sizing rendered_html">
<h2 id="Plotting">Plotting<a class="anchor-link" href="#Plotting">&#182;</a></h2><p>Many of GPys models have built-in plot functionality. we distringuish between plotting the posterior of the function (<code>m.plot_f</code>) and plotting the posterior over predicted data values (<code>m.plot</code>). This becomes especially important for non-Gaussian likleihoods. Here we'll plot the sparse GP model we've been working with. for more information of the meaning of the plot, please refer to the accompanying <code>basic_gp_regression</code> and <code>sparse_gp</code> noteooks.</p>

</div>
</div>
</div>
<div class="cell border-box-sizing code_cell rendered">
<div class="input">
<div class="prompt input_prompt">In&nbsp;[20]:</div>
<div class="inner_cell">
    <div class="input_area">
<div class=" highlight hl-ipython2"><pre><span></span><span class="n">fig</span> <span class="o">=</span> <span class="n">m</span><span class="o">.</span><span class="n">plot</span><span class="p">()</span>
</pre></div>

</div>
</div>
</div>

<div class="output_wrapper">
<div class="output">


<div class="output_area"><div class="prompt"></div>

<div class="output_svg output_subarea ">
<?xml version="1.0" encoding="utf-8" standalone="no"?>
<!DOCTYPE svg PUBLIC "-//W3C//DTD SVG 1.1//EN"
  "http://www.w3.org/Graphics/SVG/1.1/DTD/svg11.dtd">
<!-- Created with matplotlib (http://matplotlib.org/) -->
<svg height="367pt" version="1.1" viewBox="0 0 480 367" width="480pt" xmlns="http://www.w3.org/2000/svg" xmlns:xlink="http://www.w3.org/1999/xlink">
 <defs>
  <style type="text/css">
*{stroke-linecap:butt;stroke-linejoin:round;}
  </style>
 </defs>
 <g id="figure_1">
  <g id="patch_1">
   <path d="
M0 367.03
L480.021 367.03
L480.021 0
L0 0
L0 367.03" style="fill:none;"/>
  </g>
  <g id="axes_1">
   <g id="patch_2">
    <path d="
M23.9301 346.61
L470.33 346.61
L470.33 11.8102
L23.9301 11.8102
z
" style="fill:#ffffff;"/>
   </g>
   <g id="PathCollection_1">
    <defs>
     <path d="
M-2.23607 0
L-2.23607 -5.59017
L0 -11.1803
L2.23607 -5.59017
L2.23607 0
z
" id="m157a617566"/>
    </defs>
    <g clip-path="url(#p7d95086114)">
     <use style="fill:#a40000;" x="149.429752346" xlink:href="#m157a617566" y="346.610153331"/>
     <use style="fill:#a40000;" x="189.843851091" xlink:href="#m157a617566" y="346.610153331"/>
     <use style="fill:#a40000;" x="248.570852767" xlink:href="#m157a617566" y="346.610153331"/>
     <use style="fill:#a40000;" x="302.890888977" xlink:href="#m157a617566" y="346.610153331"/>
     <use style="fill:#a40000;" x="343.439386602" xlink:href="#m157a617566" y="346.610153331"/>
    </g>
   </g>
   <g id="PathCollection_2">
    <defs>
     <path d="
M-2.23607 2.23607
L2.23607 -2.23607
M-2.23607 -2.23607
L2.23607 2.23607" id="mf345f0d1ae" style="stroke:#000000;stroke-width:1.5;"/>
    </defs>
    <g clip-path="url(#p7d95086114)">
     <use style="fill:#3465a4;stroke:#000000;stroke-width:1.5;" x="204.759368547" xlink:href="#mf345f0d1ae" y="226.491318168"/>
     <use style="fill:#3465a4;stroke:#000000;stroke-width:1.5;" x="185.776524709" xlink:href="#mf345f0d1ae" y="233.028638567"/>
     <use style="fill:#3465a4;stroke:#000000;stroke-width:1.5;" x="247.853394736" xlink:href="#mf345f0d1ae" y="175.960983523"/>
     <use style="fill:#3465a4;stroke:#000000;stroke-width:1.5;" x="357.670830182" xlink:href="#mf345f0d1ae" y="169.778153606"/>
     <use style="fill:#3465a4;stroke:#000000;stroke-width:1.5;" x="302.181613665" xlink:href="#mf345f0d1ae" y="120.047555163"/>
     <use style="fill:#3465a4;stroke:#000000;stroke-width:1.5;" x="306.176455366" xlink:href="#mf345f0d1ae" y="126.943338864"/>
     <use style="fill:#3465a4;stroke:#000000;stroke-width:1.5;" x="334.09000033" xlink:href="#mf345f0d1ae" y="137.153661276"/>
     <use style="fill:#3465a4;stroke:#000000;stroke-width:1.5;" x="206.373202714" xlink:href="#mf345f0d1ae" y="230.04165224"/>
     <use style="fill:#3465a4;stroke:#000000;stroke-width:1.5;" x="302.065404692" xlink:href="#mf345f0d1ae" y="119.879523817"/>
     <use style="fill:#3465a4;stroke:#000000;stroke-width:1.5;" x="223.557209652" xlink:href="#mf345f0d1ae" y="213.630500828"/>
     <use style="fill:#3465a4;stroke:#000000;stroke-width:1.5;" x="275.545840251" xlink:href="#mf345f0d1ae" y="140.00902624"/>
     <use style="fill:#3465a4;stroke:#000000;stroke-width:1.5;" x="169.711699064" xlink:href="#mf345f0d1ae" y="225.969302244"/>
     <use style="fill:#3465a4;stroke:#000000;stroke-width:1.5;" x="235.719929156" xlink:href="#mf345f0d1ae" y="197.983910686"/>
     <use style="fill:#3465a4;stroke:#000000;stroke-width:1.5;" x="289.674156744" xlink:href="#mf345f0d1ae" y="124.899351559"/>
     <use style="fill:#3465a4;stroke:#000000;stroke-width:1.5;" x="219.08079598" xlink:href="#mf345f0d1ae" y="219.772886896"/>
     <use style="fill:#3465a4;stroke:#000000;stroke-width:1.5;" x="296.96052647" xlink:href="#mf345f0d1ae" y="126.654360552"/>
     <use style="fill:#3465a4;stroke:#000000;stroke-width:1.5;" x="265.716175373" xlink:href="#mf345f0d1ae" y="147.689836853"/>
     <use style="fill:#3465a4;stroke:#000000;stroke-width:1.5;" x="145.55424244" xlink:href="#mf345f0d1ae" y="203.925971734"/>
     <use style="fill:#3465a4;stroke:#000000;stroke-width:1.5;" x="207.990591635" xlink:href="#mf345f0d1ae" y="229.913482315"/>
     <use style="fill:#3465a4;stroke:#000000;stroke-width:1.5;" x="333.683999654" xlink:href="#mf345f0d1ae" y="141.987938784"/>
     <use style="fill:#3465a4;stroke:#000000;stroke-width:1.5;" x="254.556044945" xlink:href="#mf345f0d1ae" y="167.438430897"/>
     <use style="fill:#3465a4;stroke:#000000;stroke-width:1.5;" x="195.269679526" xlink:href="#mf345f0d1ae" y="231.680374126"/>
     <use style="fill:#3465a4;stroke:#000000;stroke-width:1.5;" x="174.136887448" xlink:href="#mf345f0d1ae" y="232.398287754"/>
     <use style="fill:#3465a4;stroke:#000000;stroke-width:1.5;" x="263.158210288" xlink:href="#mf345f0d1ae" y="157.524293828"/>
     <use style="fill:#3465a4;stroke:#000000;stroke-width:1.5;" x="268.619111342" xlink:href="#mf345f0d1ae" y="149.318465158"/>
     <use style="fill:#3465a4;stroke:#000000;stroke-width:1.5;" x="281.914499122" xlink:href="#mf345f0d1ae" y="134.022341462"/>
     <use style="fill:#3465a4;stroke:#000000;stroke-width:1.5;" x="341.880445697" xlink:href="#mf345f0d1ae" y="147.97090109"/>
     <use style="fill:#3465a4;stroke:#000000;stroke-width:1.5;" x="163.991013027" xlink:href="#mf345f0d1ae" y="227.305911902"/>
     <use style="fill:#3465a4;stroke:#000000;stroke-width:1.5;" x="172.845230108" xlink:href="#mf345f0d1ae" y="232.572938831"/>
     <use style="fill:#3465a4;stroke:#000000;stroke-width:1.5;" x="259.245649071" xlink:href="#mf345f0d1ae" y="157.45487467"/>
     <use style="fill:#3465a4;stroke:#000000;stroke-width:1.5;" x="255.014738763" xlink:href="#mf345f0d1ae" y="167.266977112"/>
     <use style="fill:#3465a4;stroke:#000000;stroke-width:1.5;" x="328.132417245" xlink:href="#mf345f0d1ae" y="132.72993851"/>
     <use style="fill:#3465a4;stroke:#000000;stroke-width:1.5;" x="253.347195846" xlink:href="#mf345f0d1ae" y="174.185213815"/>
     <use style="fill:#3465a4;stroke:#000000;stroke-width:1.5;" x="163.764016239" xlink:href="#mf345f0d1ae" y="221.893932883"/>
     <use style="fill:#3465a4;stroke:#000000;stroke-width:1.5;" x="245.662758799" xlink:href="#mf345f0d1ae" y="179.153293925"/>
     <use style="fill:#3465a4;stroke:#000000;stroke-width:1.5;" x="180.350768986" xlink:href="#mf345f0d1ae" y="237.501681869"/>
     <use style="fill:#3465a4;stroke:#000000;stroke-width:1.5;" x="231.340068152" xlink:href="#mf345f0d1ae" y="205.47341754"/>
     <use style="fill:#3465a4;stroke:#000000;stroke-width:1.5;" x="311.595119828" xlink:href="#mf345f0d1ae" y="124.40789736"/>
     <use style="fill:#3465a4;stroke:#000000;stroke-width:1.5;" x="218.58366616" xlink:href="#mf345f0d1ae" y="220.700603741"/>
     <use style="fill:#3465a4;stroke:#000000;stroke-width:1.5;" x="294.162781011" xlink:href="#mf345f0d1ae" y="125.758014432"/>
     <use style="fill:#3465a4;stroke:#000000;stroke-width:1.5;" x="288.618373198" xlink:href="#mf345f0d1ae" y="131.814336549"/>
     <use style="fill:#3465a4;stroke:#000000;stroke-width:1.5;" x="316.517373159" xlink:href="#mf345f0d1ae" y="128.086807685"/>
     <use style="fill:#3465a4;stroke:#000000;stroke-width:1.5;" x="230.348515323" xlink:href="#mf345f0d1ae" y="205.251955936"/>
     <use style="fill:#3465a4;stroke:#000000;stroke-width:1.5;" x="293.442535506" xlink:href="#mf345f0d1ae" y="123.261743087"/>
     <use style="fill:#3465a4;stroke:#000000;stroke-width:1.5;" x="296.953884778" xlink:href="#mf345f0d1ae" y="128.92921698"/>
     <use style="fill:#3465a4;stroke:#000000;stroke-width:1.5;" x="155.535019832" xlink:href="#mf345f0d1ae" y="210.394388769"/>
     <use style="fill:#3465a4;stroke:#000000;stroke-width:1.5;" x="167.19682203" xlink:href="#mf345f0d1ae" y="228.858445109"/>
     <use style="fill:#3465a4;stroke:#000000;stroke-width:1.5;" x="158.062285565" xlink:href="#mf345f0d1ae" y="218.684450904"/>
     <use style="fill:#3465a4;stroke:#000000;stroke-width:1.5;" x="148.4780022" xlink:href="#mf345f0d1ae" y="202.754053632"/>
     <use style="fill:#3465a4;stroke:#000000;stroke-width:1.5;" x="317.301495735" xlink:href="#mf345f0d1ae" y="121.207967827"/>
     <use style="fill:#3465a4;stroke:#000000;stroke-width:1.5;" x="326.025672223" xlink:href="#mf345f0d1ae" y="130.114858058"/>
     <use style="fill:#3465a4;stroke:#000000;stroke-width:1.5;" x="209.571452965" xlink:href="#mf345f0d1ae" y="226.244604517"/>
     <use style="fill:#3465a4;stroke:#000000;stroke-width:1.5;" x="335.219683806" xlink:href="#mf345f0d1ae" y="143.27636069"/>
     <use style="fill:#3465a4;stroke:#000000;stroke-width:1.5;" x="271.719279353" xlink:href="#mf345f0d1ae" y="145.956061044"/>
     <use style="fill:#3465a4;stroke:#000000;stroke-width:1.5;" x="287.846423688" xlink:href="#mf345f0d1ae" y="135.865596117"/>
     <use style="fill:#3465a4;stroke:#000000;stroke-width:1.5;" x="314.669606697" xlink:href="#mf345f0d1ae" y="122.908523183"/>
     <use style="fill:#3465a4;stroke:#000000;stroke-width:1.5;" x="332.665295315" xlink:href="#mf345f0d1ae" y="139.674069718"/>
     <use style="fill:#3465a4;stroke:#000000;stroke-width:1.5;" x="171.408613347" xlink:href="#mf345f0d1ae" y="230.533219406"/>
     <use style="fill:#3465a4;stroke:#000000;stroke-width:1.5;" x="245.445843489" xlink:href="#mf345f0d1ae" y="180.119376862"/>
     <use style="fill:#3465a4;stroke:#000000;stroke-width:1.5;" x="226.677801582" xlink:href="#mf345f0d1ae" y="205.889827055"/>
     <use style="fill:#3465a4;stroke:#000000;stroke-width:1.5;" x="217.202600807" xlink:href="#mf345f0d1ae" y="223.169555393"/>
     <use style="fill:#3465a4;stroke:#000000;stroke-width:1.5;" x="240.106784251" xlink:href="#mf345f0d1ae" y="188.682665082"/>
     <use style="fill:#3465a4;stroke:#000000;stroke-width:1.5;" x="349.81974673" xlink:href="#mf345f0d1ae" y="152.09711925"/>
     <use style="fill:#3465a4;stroke:#000000;stroke-width:1.5;" x="213.266564725" xlink:href="#mf345f0d1ae" y="223.277623317"/>
     <use style="fill:#3465a4;stroke:#000000;stroke-width:1.5;" x="338.935626552" xlink:href="#mf345f0d1ae" y="146.914951053"/>
     <use style="fill:#3465a4;stroke:#000000;stroke-width:1.5;" x="149.27177506" xlink:href="#mf345f0d1ae" y="204.64897365"/>
     <use style="fill:#3465a4;stroke:#000000;stroke-width:1.5;" x="304.919467111" xlink:href="#mf345f0d1ae" y="124.710409084"/>
     <use style="fill:#3465a4;stroke:#000000;stroke-width:1.5;" x="233.184240445" xlink:href="#mf345f0d1ae" y="189.171989753"/>
     <use style="fill:#3465a4;stroke:#000000;stroke-width:1.5;" x="293.286363053" xlink:href="#mf345f0d1ae" y="124.311159981"/>
     <use style="fill:#3465a4;stroke:#000000;stroke-width:1.5;" x="318.023844096" xlink:href="#mf345f0d1ae" y="129.201060341"/>
     <use style="fill:#3465a4;stroke:#000000;stroke-width:1.5;" x="275.016945896" xlink:href="#mf345f0d1ae" y="138.590951813"/>
     <use style="fill:#3465a4;stroke:#000000;stroke-width:1.5;" x="262.28644834" xlink:href="#mf345f0d1ae" y="157.543601086"/>
     <use style="fill:#3465a4;stroke:#000000;stroke-width:1.5;" x="324.857419509" xlink:href="#mf345f0d1ae" y="130.259606869"/>
     <use style="fill:#3465a4;stroke:#000000;stroke-width:1.5;" x="348.562737302" xlink:href="#mf345f0d1ae" y="163.139389724"/>
     <use style="fill:#3465a4;stroke:#000000;stroke-width:1.5;" x="273.02194102" xlink:href="#mf345f0d1ae" y="141.296280128"/>
     <use style="fill:#3465a4;stroke:#000000;stroke-width:1.5;" x="223.011584485" xlink:href="#mf345f0d1ae" y="206.476628954"/>
     <use style="fill:#3465a4;stroke:#000000;stroke-width:1.5;" x="225.866112234" xlink:href="#mf345f0d1ae" y="205.053948083"/>
     <use style="fill:#3465a4;stroke:#000000;stroke-width:1.5;" x="197.526787642" xlink:href="#mf345f0d1ae" y="234.038306087"/>
     <use style="fill:#3465a4;stroke:#000000;stroke-width:1.5;" x="172.96144814" xlink:href="#mf345f0d1ae" y="227.285152058"/>
     <use style="fill:#3465a4;stroke:#000000;stroke-width:1.5;" x="195.749660169" xlink:href="#mf345f0d1ae" y="231.244056583"/>
     <use style="fill:#3465a4;stroke:#000000;stroke-width:1.5;" x="221.886185331" xlink:href="#mf345f0d1ae" y="214.086422125"/>
     <use style="fill:#3465a4;stroke:#000000;stroke-width:1.5;" x="254.053495287" xlink:href="#mf345f0d1ae" y="172.155621498"/>
     <use style="fill:#3465a4;stroke:#000000;stroke-width:1.5;" x="196.803454262" xlink:href="#mf345f0d1ae" y="239.499708123"/>
     <use style="fill:#3465a4;stroke:#000000;stroke-width:1.5;" x="291.100733708" xlink:href="#mf345f0d1ae" y="127.314883784"/>
     <use style="fill:#3465a4;stroke:#000000;stroke-width:1.5;" x="331.856137862" xlink:href="#mf345f0d1ae" y="137.878707227"/>
     <use style="fill:#3465a4;stroke:#000000;stroke-width:1.5;" x="331.724812072" xlink:href="#mf345f0d1ae" y="132.538466575"/>
     <use style="fill:#3465a4;stroke:#000000;stroke-width:1.5;" x="318.428350069" xlink:href="#mf345f0d1ae" y="123.898780777"/>
     <use style="fill:#3465a4;stroke:#000000;stroke-width:1.5;" x="313.374329548" xlink:href="#mf345f0d1ae" y="123.909165924"/>
     <use style="fill:#3465a4;stroke:#000000;stroke-width:1.5;" x="244.700306373" xlink:href="#mf345f0d1ae" y="185.719662457"/>
     <use style="fill:#3465a4;stroke:#000000;stroke-width:1.5;" x="346.045744327" xlink:href="#mf345f0d1ae" y="157.377188778"/>
     <use style="fill:#3465a4;stroke:#000000;stroke-width:1.5;" x="310.696832418" xlink:href="#mf345f0d1ae" y="127.841458156"/>
     <use style="fill:#3465a4;stroke:#000000;stroke-width:1.5;" x="253.621847077" xlink:href="#mf345f0d1ae" y="163.062808938"/>
     <use style="fill:#3465a4;stroke:#000000;stroke-width:1.5;" x="186.267552553" xlink:href="#mf345f0d1ae" y="233.382227734"/>
     <use style="fill:#3465a4;stroke:#000000;stroke-width:1.5;" x="173.581132383" xlink:href="#mf345f0d1ae" y="227.315333037"/>
     <use style="fill:#3465a4;stroke:#000000;stroke-width:1.5;" x="351.961032605" xlink:href="#mf345f0d1ae" y="164.975074073"/>
     <use style="fill:#3465a4;stroke:#000000;stroke-width:1.5;" x="167.577936315" xlink:href="#mf345f0d1ae" y="228.716453145"/>
     <use style="fill:#3465a4;stroke:#000000;stroke-width:1.5;" x="337.265393309" xlink:href="#mf345f0d1ae" y="138.994365464"/>
     <use style="fill:#3465a4;stroke:#000000;stroke-width:1.5;" x="358.40440881" xlink:href="#mf345f0d1ae" y="167.350928898"/>
     <use style="fill:#3465a4;stroke:#000000;stroke-width:1.5;" x="324.411236603" xlink:href="#mf345f0d1ae" y="129.383707086"/>
     <use style="fill:#3465a4;stroke:#000000;stroke-width:1.5;" x="295.555340617" xlink:href="#mf345f0d1ae" y="125.553195681"/>
     <use style="fill:#3465a4;stroke:#000000;stroke-width:1.5;" x="266.559567413" xlink:href="#mf345f0d1ae" y="153.403873724"/>
     <use style="fill:#3465a4;stroke:#000000;stroke-width:1.5;" x="198.746166328" xlink:href="#mf345f0d1ae" y="232.154505267"/>
     <use style="fill:#3465a4;stroke:#000000;stroke-width:1.5;" x="354.937039197" xlink:href="#mf345f0d1ae" y="161.265959123"/>
     <use style="fill:#3465a4;stroke:#000000;stroke-width:1.5;" x="281.133659677" xlink:href="#mf345f0d1ae" y="139.219948926"/>
     <use style="fill:#3465a4;stroke:#000000;stroke-width:1.5;" x="339.885701897" xlink:href="#mf345f0d1ae" y="141.198859574"/>
     <use style="fill:#3465a4;stroke:#000000;stroke-width:1.5;" x="270.492439839" xlink:href="#mf345f0d1ae" y="147.02140749"/>
     <use style="fill:#3465a4;stroke:#000000;stroke-width:1.5;" x="315.804298583" xlink:href="#mf345f0d1ae" y="125.578403566"/>
     <use style="fill:#3465a4;stroke:#000000;stroke-width:1.5;" x="170.767652668" xlink:href="#mf345f0d1ae" y="230.287790017"/>
     <use style="fill:#3465a4;stroke:#000000;stroke-width:1.5;" x="158.191181535" xlink:href="#mf345f0d1ae" y="218.674332778"/>
     <use style="fill:#3465a4;stroke:#000000;stroke-width:1.5;" x="291.566754439" xlink:href="#mf345f0d1ae" y="128.845265241"/>
     <use style="fill:#3465a4;stroke:#000000;stroke-width:1.5;" x="265.052963724" xlink:href="#mf345f0d1ae" y="152.923502182"/>
     <use style="fill:#3465a4;stroke:#000000;stroke-width:1.5;" x="156.468191624" xlink:href="#mf345f0d1ae" y="212.953211738"/>
     <use style="fill:#3465a4;stroke:#000000;stroke-width:1.5;" x="351.662063854" xlink:href="#mf345f0d1ae" y="163.743635021"/>
     <use style="fill:#3465a4;stroke:#000000;stroke-width:1.5;" x="259.351403225" xlink:href="#mf345f0d1ae" y="159.587695127"/>
     <use style="fill:#3465a4;stroke:#000000;stroke-width:1.5;" x="215.17824788" xlink:href="#mf345f0d1ae" y="225.720405646"/>
     <use style="fill:#3465a4;stroke:#000000;stroke-width:1.5;" x="179.610361766" xlink:href="#mf345f0d1ae" y="236.474445363"/>
     <use style="fill:#3465a4;stroke:#000000;stroke-width:1.5;" x="136.203666658" xlink:href="#mf345f0d1ae" y="186.361276224"/>
     <use style="fill:#3465a4;stroke:#000000;stroke-width:1.5;" x="292.088893299" xlink:href="#mf345f0d1ae" y="128.31877101"/>
     <use style="fill:#3465a4;stroke:#000000;stroke-width:1.5;" x="196.770449317" xlink:href="#mf345f0d1ae" y="227.935909241"/>
     <use style="fill:#3465a4;stroke:#000000;stroke-width:1.5;" x="177.028730121" xlink:href="#mf345f0d1ae" y="240.945774784"/>
     <use style="fill:#3465a4;stroke:#000000;stroke-width:1.5;" x="207.026459633" xlink:href="#mf345f0d1ae" y="230.809923033"/>
     <use style="fill:#3465a4;stroke:#000000;stroke-width:1.5;" x="327.805023871" xlink:href="#mf345f0d1ae" y="128.844657403"/>
     <use style="fill:#3465a4;stroke:#000000;stroke-width:1.5;" x="168.931890286" xlink:href="#mf345f0d1ae" y="228.271632591"/>
     <use style="fill:#3465a4;stroke:#000000;stroke-width:1.5;" x="214.219766267" xlink:href="#mf345f0d1ae" y="223.307025819"/>
     <use style="fill:#3465a4;stroke:#000000;stroke-width:1.5;" x="328.920372592" xlink:href="#mf345f0d1ae" y="129.340479955"/>
     <use style="fill:#3465a4;stroke:#000000;stroke-width:1.5;" x="173.323320566" xlink:href="#mf345f0d1ae" y="232.547213546"/>
     <use style="fill:#3465a4;stroke:#000000;stroke-width:1.5;" x="186.801865117" xlink:href="#mf345f0d1ae" y="237.572166743"/>
     <use style="fill:#3465a4;stroke:#000000;stroke-width:1.5;" x="272.813569521" xlink:href="#mf345f0d1ae" y="141.546376386"/>
     <use style="fill:#3465a4;stroke:#000000;stroke-width:1.5;" x="146.644092369" xlink:href="#mf345f0d1ae" y="196.204633252"/>
     <use style="fill:#3465a4;stroke:#000000;stroke-width:1.5;" x="171.207359959" xlink:href="#mf345f0d1ae" y="229.19939512"/>
     <use style="fill:#3465a4;stroke:#000000;stroke-width:1.5;" x="347.002840311" xlink:href="#mf345f0d1ae" y="153.526231552"/>
     <use style="fill:#3465a4;stroke:#000000;stroke-width:1.5;" x="193.195619474" xlink:href="#mf345f0d1ae" y="233.666291993"/>
     <use style="fill:#3465a4;stroke:#000000;stroke-width:1.5;" x="332.404696806" xlink:href="#mf345f0d1ae" y="136.290668181"/>
     <use style="fill:#3465a4;stroke:#000000;stroke-width:1.5;" x="198.420552785" xlink:href="#mf345f0d1ae" y="235.385967754"/>
     <use style="fill:#3465a4;stroke:#000000;stroke-width:1.5;" x="227.533806992" xlink:href="#mf345f0d1ae" y="208.704960994"/>
     <use style="fill:#3465a4;stroke:#000000;stroke-width:1.5;" x="205.59281076" xlink:href="#mf345f0d1ae" y="229.152283889"/>
     <use style="fill:#3465a4;stroke:#000000;stroke-width:1.5;" x="171.102002087" xlink:href="#mf345f0d1ae" y="220.65639547"/>
     <use style="fill:#3465a4;stroke:#000000;stroke-width:1.5;" x="213.472215021" xlink:href="#mf345f0d1ae" y="221.051356261"/>
     <use style="fill:#3465a4;stroke:#000000;stroke-width:1.5;" x="252.438058358" xlink:href="#mf345f0d1ae" y="168.746255775"/>
     <use style="fill:#3465a4;stroke:#000000;stroke-width:1.5;" x="343.767130177" xlink:href="#mf345f0d1ae" y="154.488512892"/>
     <use style="fill:#3465a4;stroke:#000000;stroke-width:1.5;" x="200.367516893" xlink:href="#mf345f0d1ae" y="235.802897362"/>
     <use style="fill:#3465a4;stroke:#000000;stroke-width:1.5;" x="337.513581103" xlink:href="#mf345f0d1ae" y="147.348957378"/>
     <use style="fill:#3465a4;stroke:#000000;stroke-width:1.5;" x="297.093449045" xlink:href="#mf345f0d1ae" y="125.499704272"/>
     <use style="fill:#3465a4;stroke:#000000;stroke-width:1.5;" x="173.387157292" xlink:href="#mf345f0d1ae" y="228.047808703"/>
     <use style="fill:#3465a4;stroke:#000000;stroke-width:1.5;" x="142.427692909" xlink:href="#mf345f0d1ae" y="195.683280392"/>
     <use style="fill:#3465a4;stroke:#000000;stroke-width:1.5;" x="321.655008092" xlink:href="#mf345f0d1ae" y="126.680842788"/>
     <use style="fill:#3465a4;stroke:#000000;stroke-width:1.5;" x="316.461198148" xlink:href="#mf345f0d1ae" y="123.800886566"/>
     <use style="fill:#3465a4;stroke:#000000;stroke-width:1.5;" x="225.261225015" xlink:href="#mf345f0d1ae" y="207.530307862"/>
     <use style="fill:#3465a4;stroke:#000000;stroke-width:1.5;" x="276.904296105" xlink:href="#mf345f0d1ae" y="136.874542342"/>
     <use style="fill:#3465a4;stroke:#000000;stroke-width:1.5;" x="148.454521967" xlink:href="#mf345f0d1ae" y="205.629731841"/>
     <use style="fill:#3465a4;stroke:#000000;stroke-width:1.5;" x="251.911798146" xlink:href="#mf345f0d1ae" y="166.633403089"/>
     <use style="fill:#3465a4;stroke:#000000;stroke-width:1.5;" x="223.065483992" xlink:href="#mf345f0d1ae" y="210.931029809"/>
     <use style="fill:#3465a4;stroke:#000000;stroke-width:1.5;" x="268.439026055" xlink:href="#mf345f0d1ae" y="147.78725316"/>
     <use style="fill:#3465a4;stroke:#000000;stroke-width:1.5;" x="290.587580763" xlink:href="#mf345f0d1ae" y="130.542394271"/>
     <use style="fill:#3465a4;stroke:#000000;stroke-width:1.5;" x="241.162109919" xlink:href="#mf345f0d1ae" y="191.341255759"/>
     <use style="fill:#3465a4;stroke:#000000;stroke-width:1.5;" x="252.256931652" xlink:href="#mf345f0d1ae" y="169.886654169"/>
     <use style="fill:#3465a4;stroke:#000000;stroke-width:1.5;" x="330.254970394" xlink:href="#mf345f0d1ae" y="140.410397602"/>
     <use style="fill:#3465a4;stroke:#000000;stroke-width:1.5;" x="223.552331756" xlink:href="#mf345f0d1ae" y="209.471050572"/>
     <use style="fill:#3465a4;stroke:#000000;stroke-width:1.5;" x="339.348293375" xlink:href="#mf345f0d1ae" y="141.326687103"/>
     <use style="fill:#3465a4;stroke:#000000;stroke-width:1.5;" x="261.726959588" xlink:href="#mf345f0d1ae" y="158.829483302"/>
     <use style="fill:#3465a4;stroke:#000000;stroke-width:1.5;" x="272.183785367" xlink:href="#mf345f0d1ae" y="138.96663955"/>
     <use style="fill:#3465a4;stroke:#000000;stroke-width:1.5;" x="232.460341791" xlink:href="#mf345f0d1ae" y="201.230427173"/>
     <use style="fill:#3465a4;stroke:#000000;stroke-width:1.5;" x="173.52161183" xlink:href="#mf345f0d1ae" y="230.700037126"/>
     <use style="fill:#3465a4;stroke:#000000;stroke-width:1.5;" x="201.873771649" xlink:href="#mf345f0d1ae" y="233.265728324"/>
     <use style="fill:#3465a4;stroke:#000000;stroke-width:1.5;" x="299.252903132" xlink:href="#mf345f0d1ae" y="124.067838502"/>
     <use style="fill:#3465a4;stroke:#000000;stroke-width:1.5;" x="352.778880788" xlink:href="#mf345f0d1ae" y="163.705888798"/>
     <use style="fill:#3465a4;stroke:#000000;stroke-width:1.5;" x="338.981580401" xlink:href="#mf345f0d1ae" y="148.731599083"/>
     <use style="fill:#3465a4;stroke:#000000;stroke-width:1.5;" x="302.767286397" xlink:href="#mf345f0d1ae" y="128.171861555"/>
     <use style="fill:#3465a4;stroke:#000000;stroke-width:1.5;" x="203.959752309" xlink:href="#mf345f0d1ae" y="229.20550393"/>
     <use style="fill:#3465a4;stroke:#000000;stroke-width:1.5;" x="142.688991229" xlink:href="#mf345f0d1ae" y="193.19368338"/>
     <use style="fill:#3465a4;stroke:#000000;stroke-width:1.5;" x="182.289596374" xlink:href="#mf345f0d1ae" y="234.091923402"/>
     <use style="fill:#3465a4;stroke:#000000;stroke-width:1.5;" x="278.204403124" xlink:href="#mf345f0d1ae" y="135.366631625"/>
     <use style="fill:#3465a4;stroke:#000000;stroke-width:1.5;" x="216.067330219" xlink:href="#mf345f0d1ae" y="224.474664939"/>
     <use style="fill:#3465a4;stroke:#000000;stroke-width:1.5;" x="165.632899538" xlink:href="#mf345f0d1ae" y="223.982836158"/>
     <use style="fill:#3465a4;stroke:#000000;stroke-width:1.5;" x="320.690395668" xlink:href="#mf345f0d1ae" y="127.974256995"/>
     <use style="fill:#3465a4;stroke:#000000;stroke-width:1.5;" x="185.439832083" xlink:href="#mf345f0d1ae" y="233.505740569"/>
     <use style="fill:#3465a4;stroke:#000000;stroke-width:1.5;" x="324.321082418" xlink:href="#mf345f0d1ae" y="127.120808308"/>
     <use style="fill:#3465a4;stroke:#000000;stroke-width:1.5;" x="179.899442912" xlink:href="#mf345f0d1ae" y="232.890640199"/>
     <use style="fill:#3465a4;stroke:#000000;stroke-width:1.5;" x="197.645826094" xlink:href="#mf345f0d1ae" y="230.207503741"/>
     <use style="fill:#3465a4;stroke:#000000;stroke-width:1.5;" x="265.57702346" xlink:href="#mf345f0d1ae" y="152.120583587"/>
     <use style="fill:#3465a4;stroke:#000000;stroke-width:1.5;" x="181.541013889" xlink:href="#mf345f0d1ae" y="235.225038524"/>
     <use style="fill:#3465a4;stroke:#000000;stroke-width:1.5;" x="256.58633146" xlink:href="#mf345f0d1ae" y="164.281114081"/>
     <use style="fill:#3465a4;stroke:#000000;stroke-width:1.5;" x="194.685574095" xlink:href="#mf345f0d1ae" y="233.936133539"/>
     <use style="fill:#3465a4;stroke:#000000;stroke-width:1.5;" x="331.300568932" xlink:href="#mf345f0d1ae" y="136.424962904"/>
     <use style="fill:#3465a4;stroke:#000000;stroke-width:1.5;" x="266.961399084" xlink:href="#mf345f0d1ae" y="154.020311145"/>
     <use style="fill:#3465a4;stroke:#000000;stroke-width:1.5;" x="292.361077773" xlink:href="#mf345f0d1ae" y="126.362954784"/>
     <use style="fill:#3465a4;stroke:#000000;stroke-width:1.5;" x="326.319137973" xlink:href="#mf345f0d1ae" y="131.659087169"/>
     <use style="fill:#3465a4;stroke:#000000;stroke-width:1.5;" x="175.779843271" xlink:href="#mf345f0d1ae" y="231.709788514"/>
     <use style="fill:#3465a4;stroke:#000000;stroke-width:1.5;" x="171.989935341" xlink:href="#mf345f0d1ae" y="226.889402424"/>
     <use style="fill:#3465a4;stroke:#000000;stroke-width:1.5;" x="326.071040598" xlink:href="#mf345f0d1ae" y="132.203353664"/>
     <use style="fill:#3465a4;stroke:#000000;stroke-width:1.5;" x="341.333083275" xlink:href="#mf345f0d1ae" y="147.633912022"/>
     <use style="fill:#3465a4;stroke:#000000;stroke-width:1.5;" x="211.941572978" xlink:href="#mf345f0d1ae" y="225.136915795"/>
     <use style="fill:#3465a4;stroke:#000000;stroke-width:1.5;" x="135.611849152" xlink:href="#mf345f0d1ae" y="189.191437921"/>
     <use style="fill:#3465a4;stroke:#000000;stroke-width:1.5;" x="242.244134949" xlink:href="#mf345f0d1ae" y="190.639973157"/>
     <use style="fill:#3465a4;stroke:#000000;stroke-width:1.5;" x="328.77611767" xlink:href="#mf345f0d1ae" y="136.771716639"/>
     <use style="fill:#3465a4;stroke:#000000;stroke-width:1.5;" x="157.189922643" xlink:href="#mf345f0d1ae" y="215.373725581"/>
     <use style="fill:#3465a4;stroke:#000000;stroke-width:1.5;" x="332.30872986" xlink:href="#mf345f0d1ae" y="140.310040819"/>
     <use style="fill:#3465a4;stroke:#000000;stroke-width:1.5;" x="311.082329191" xlink:href="#mf345f0d1ae" y="116.624016715"/>
     <use style="fill:#3465a4;stroke:#000000;stroke-width:1.5;" x="321.54082313" xlink:href="#mf345f0d1ae" y="124.017683501"/>
     <use style="fill:#3465a4;stroke:#000000;stroke-width:1.5;" x="140.518108349" xlink:href="#mf345f0d1ae" y="197.940367957"/>
     <use style="fill:#3465a4;stroke:#000000;stroke-width:1.5;" x="347.501246735" xlink:href="#mf345f0d1ae" y="151.672124625"/>
     <use style="fill:#3465a4;stroke:#000000;stroke-width:1.5;" x="211.871990808" xlink:href="#mf345f0d1ae" y="222.526724476"/>
     <use style="fill:#3465a4;stroke:#000000;stroke-width:1.5;" x="337.2219228" xlink:href="#mf345f0d1ae" y="143.465182042"/>
     <use style="fill:#3465a4;stroke:#000000;stroke-width:1.5;" x="267.330321931" xlink:href="#mf345f0d1ae" y="146.964088258"/>
     <use style="fill:#3465a4;stroke:#000000;stroke-width:1.5;" x="258.518217075" xlink:href="#mf345f0d1ae" y="161.895885422"/>
     <use style="fill:#3465a4;stroke:#000000;stroke-width:1.5;" x="230.740460373" xlink:href="#mf345f0d1ae" y="201.867643508"/>
     <use style="fill:#3465a4;stroke:#000000;stroke-width:1.5;" x="307.754923135" xlink:href="#mf345f0d1ae" y="121.479257106"/>
     <use style="fill:#3465a4;stroke:#000000;stroke-width:1.5;" x="261.992188363" xlink:href="#mf345f0d1ae" y="157.400593861"/>
     <use style="fill:#3465a4;stroke:#000000;stroke-width:1.5;" x="353.727315105" xlink:href="#mf345f0d1ae" y="164.380501061"/>
     <use style="fill:#3465a4;stroke:#000000;stroke-width:1.5;" x="273.729335249" xlink:href="#mf345f0d1ae" y="140.30076605"/>
     <use style="fill:#3465a4;stroke:#000000;stroke-width:1.5;" x="149.370952403" xlink:href="#mf345f0d1ae" y="203.712010133"/>
     <use style="fill:#3465a4;stroke:#000000;stroke-width:1.5;" x="311.115840168" xlink:href="#mf345f0d1ae" y="123.03082294"/>
     <use style="fill:#3465a4;stroke:#000000;stroke-width:1.5;" x="186.032929117" xlink:href="#mf345f0d1ae" y="234.421766697"/>
     <use style="fill:#3465a4;stroke:#000000;stroke-width:1.5;" x="212.346049243" xlink:href="#mf345f0d1ae" y="226.817440218"/>
     <use style="fill:#3465a4;stroke:#000000;stroke-width:1.5;" x="258.644561441" xlink:href="#mf345f0d1ae" y="163.654797606"/>
     <use style="fill:#3465a4;stroke:#000000;stroke-width:1.5;" x="260.798787674" xlink:href="#mf345f0d1ae" y="162.924696322"/>
     <use style="fill:#3465a4;stroke:#000000;stroke-width:1.5;" x="188.381460534" xlink:href="#mf345f0d1ae" y="233.026960687"/>
     <use style="fill:#3465a4;stroke:#000000;stroke-width:1.5;" x="290.971949785" xlink:href="#mf345f0d1ae" y="131.534298658"/>
     <use style="fill:#3465a4;stroke:#000000;stroke-width:1.5;" x="208.149558389" xlink:href="#mf345f0d1ae" y="229.714793734"/>
     <use style="fill:#3465a4;stroke:#000000;stroke-width:1.5;" x="210.72104494" xlink:href="#mf345f0d1ae" y="220.971031945"/>
     <use style="fill:#3465a4;stroke:#000000;stroke-width:1.5;" x="137.508115972" xlink:href="#mf345f0d1ae" y="190.418021971"/>
     <use style="fill:#3465a4;stroke:#000000;stroke-width:1.5;" x="257.358747205" xlink:href="#mf345f0d1ae" y="164.248530434"/>
     <use style="fill:#3465a4;stroke:#000000;stroke-width:1.5;" x="294.267199824" xlink:href="#mf345f0d1ae" y="128.666381401"/>
     <use style="fill:#3465a4;stroke:#000000;stroke-width:1.5;" x="174.640351824" xlink:href="#mf345f0d1ae" y="234.634516295"/>
     <use style="fill:#3465a4;stroke:#000000;stroke-width:1.5;" x="283.996537954" xlink:href="#mf345f0d1ae" y="128.612177067"/>
     <use style="fill:#3465a4;stroke:#000000;stroke-width:1.5;" x="260.938664945" xlink:href="#mf345f0d1ae" y="154.291247892"/>
     <use style="fill:#3465a4;stroke:#000000;stroke-width:1.5;" x="257.042842468" xlink:href="#mf345f0d1ae" y="161.812605762"/>
     <use style="fill:#3465a4;stroke:#000000;stroke-width:1.5;" x="334.971625319" xlink:href="#mf345f0d1ae" y="138.551390047"/>
     <use style="fill:#3465a4;stroke:#000000;stroke-width:1.5;" x="326.823173118" xlink:href="#mf345f0d1ae" y="132.852482297"/>
     <use style="fill:#3465a4;stroke:#000000;stroke-width:1.5;" x="242.97860944" xlink:href="#mf345f0d1ae" y="185.102412364"/>
     <use style="fill:#3465a4;stroke:#000000;stroke-width:1.5;" x="255.024106646" xlink:href="#mf345f0d1ae" y="172.099365124"/>
     <use style="fill:#3465a4;stroke:#000000;stroke-width:1.5;" x="197.396335477" xlink:href="#mf345f0d1ae" y="232.48952183"/>
     <use style="fill:#3465a4;stroke:#000000;stroke-width:1.5;" x="298.791291473" xlink:href="#mf345f0d1ae" y="122.746867756"/>
     <use style="fill:#3465a4;stroke:#000000;stroke-width:1.5;" x="207.39759377" xlink:href="#mf345f0d1ae" y="225.121949192"/>
     <use style="fill:#3465a4;stroke:#000000;stroke-width:1.5;" x="252.743328669" xlink:href="#mf345f0d1ae" y="175.838986244"/>
     <use style="fill:#3465a4;stroke:#000000;stroke-width:1.5;" x="167.421115003" xlink:href="#mf345f0d1ae" y="228.865475309"/>
     <use style="fill:#3465a4;stroke:#000000;stroke-width:1.5;" x="206.534922759" xlink:href="#mf345f0d1ae" y="229.315752201"/>
     <use style="fill:#3465a4;stroke:#000000;stroke-width:1.5;" x="198.374983859" xlink:href="#mf345f0d1ae" y="235.899801681"/>
     <use style="fill:#3465a4;stroke:#000000;stroke-width:1.5;" x="301.216155785" xlink:href="#mf345f0d1ae" y="120.702605475"/>
     <use style="fill:#3465a4;stroke:#000000;stroke-width:1.5;" x="310.78181817" xlink:href="#mf345f0d1ae" y="126.625136005"/>
     <use style="fill:#3465a4;stroke:#000000;stroke-width:1.5;" x="347.326056651" xlink:href="#mf345f0d1ae" y="158.29319226"/>
     <use style="fill:#3465a4;stroke:#000000;stroke-width:1.5;" x="168.178377301" xlink:href="#mf345f0d1ae" y="226.472007538"/>
     <use style="fill:#3465a4;stroke:#000000;stroke-width:1.5;" x="319.927324045" xlink:href="#mf345f0d1ae" y="129.717154301"/>
     <use style="fill:#3465a4;stroke:#000000;stroke-width:1.5;" x="341.472376221" xlink:href="#mf345f0d1ae" y="144.496770374"/>
     <use style="fill:#3465a4;stroke:#000000;stroke-width:1.5;" x="237.616810685" xlink:href="#mf345f0d1ae" y="195.169054674"/>
     <use style="fill:#3465a4;stroke:#000000;stroke-width:1.5;" x="186.412511731" xlink:href="#mf345f0d1ae" y="240.538625518"/>
     <use style="fill:#3465a4;stroke:#000000;stroke-width:1.5;" x="146.680699631" xlink:href="#mf345f0d1ae" y="202.149083693"/>
     <use style="fill:#3465a4;stroke:#000000;stroke-width:1.5;" x="192.600613766" xlink:href="#mf345f0d1ae" y="231.449654452"/>
     <use style="fill:#3465a4;stroke:#000000;stroke-width:1.5;" x="221.785153083" xlink:href="#mf345f0d1ae" y="212.061154413"/>
     <use style="fill:#3465a4;stroke:#000000;stroke-width:1.5;" x="286.321448027" xlink:href="#mf345f0d1ae" y="130.570468825"/>
     <use style="fill:#3465a4;stroke:#000000;stroke-width:1.5;" x="193.092307872" xlink:href="#mf345f0d1ae" y="232.93682467"/>
     <use style="fill:#3465a4;stroke:#000000;stroke-width:1.5;" x="250.268605746" xlink:href="#mf345f0d1ae" y="174.917125118"/>
     <use style="fill:#3465a4;stroke:#000000;stroke-width:1.5;" x="349.247979534" xlink:href="#mf345f0d1ae" y="154.498975125"/>
     <use style="fill:#3465a4;stroke:#000000;stroke-width:1.5;" x="271.612248889" xlink:href="#mf345f0d1ae" y="148.777574755"/>
     <use style="fill:#3465a4;stroke:#000000;stroke-width:1.5;" x="252.093560389" xlink:href="#mf345f0d1ae" y="175.791588949"/>
     <use style="fill:#3465a4;stroke:#000000;stroke-width:1.5;" x="175.069528956" xlink:href="#mf345f0d1ae" y="231.718938663"/>
     <use style="fill:#3465a4;stroke:#000000;stroke-width:1.5;" x="329.371089748" xlink:href="#mf345f0d1ae" y="134.961691193"/>
     <use style="fill:#3465a4;stroke:#000000;stroke-width:1.5;" x="196.097706117" xlink:href="#mf345f0d1ae" y="234.618363791"/>
     <use style="fill:#3465a4;stroke:#000000;stroke-width:1.5;" x="285.476291767" xlink:href="#mf345f0d1ae" y="133.156788896"/>
     <use style="fill:#3465a4;stroke:#000000;stroke-width:1.5;" x="159.366633622" xlink:href="#mf345f0d1ae" y="220.090085852"/>
     <use style="fill:#3465a4;stroke:#000000;stroke-width:1.5;" x="308.25830557" xlink:href="#mf345f0d1ae" y="124.143954544"/>
     <use style="fill:#3465a4;stroke:#000000;stroke-width:1.5;" x="244.213037156" xlink:href="#mf345f0d1ae" y="179.727322203"/>
     <use style="fill:#3465a4;stroke:#000000;stroke-width:1.5;" x="295.26481258" xlink:href="#mf345f0d1ae" y="127.040194423"/>
     <use style="fill:#3465a4;stroke:#000000;stroke-width:1.5;" x="243.625151915" xlink:href="#mf345f0d1ae" y="187.796169648"/>
     <use style="fill:#3465a4;stroke:#000000;stroke-width:1.5;" x="292.264150724" xlink:href="#mf345f0d1ae" y="125.754074129"/>
     <use style="fill:#3465a4;stroke:#000000;stroke-width:1.5;" x="154.44589124" xlink:href="#mf345f0d1ae" y="212.837117811"/>
     <use style="fill:#3465a4;stroke:#000000;stroke-width:1.5;" x="273.07082932" xlink:href="#mf345f0d1ae" y="143.607266409"/>
     <use style="fill:#3465a4;stroke:#000000;stroke-width:1.5;" x="159.711542887" xlink:href="#mf345f0d1ae" y="215.543707618"/>
     <use style="fill:#3465a4;stroke:#000000;stroke-width:1.5;" x="353.164546954" xlink:href="#mf345f0d1ae" y="164.467451087"/>
     <use style="fill:#3465a4;stroke:#000000;stroke-width:1.5;" x="346.359858321" xlink:href="#mf345f0d1ae" y="151.226059709"/>
     <use style="fill:#3465a4;stroke:#000000;stroke-width:1.5;" x="327.731671063" xlink:href="#mf345f0d1ae" y="132.532853055"/>
     <use style="fill:#3465a4;stroke:#000000;stroke-width:1.5;" x="342.225941512" xlink:href="#mf345f0d1ae" y="147.89358446"/>
     <use style="fill:#3465a4;stroke:#000000;stroke-width:1.5;" x="229.86975835" xlink:href="#mf345f0d1ae" y="203.659642205"/>
     <use style="fill:#3465a4;stroke:#000000;stroke-width:1.5;" x="152.995474369" xlink:href="#mf345f0d1ae" y="209.456588192"/>
     <use style="fill:#3465a4;stroke:#000000;stroke-width:1.5;" x="240.042013519" xlink:href="#mf345f0d1ae" y="188.779509722"/>
     <use style="fill:#3465a4;stroke:#000000;stroke-width:1.5;" x="148.254331757" xlink:href="#mf345f0d1ae" y="204.248103234"/>
     <use style="fill:#3465a4;stroke:#000000;stroke-width:1.5;" x="221.343216603" xlink:href="#mf345f0d1ae" y="214.438999792"/>
     <use style="fill:#3465a4;stroke:#000000;stroke-width:1.5;" x="345.494774052" xlink:href="#mf345f0d1ae" y="153.610454749"/>
     <use style="fill:#3465a4;stroke:#000000;stroke-width:1.5;" x="322.890886988" xlink:href="#mf345f0d1ae" y="132.802717685"/>
     <use style="fill:#3465a4;stroke:#000000;stroke-width:1.5;" x="174.652374708" xlink:href="#mf345f0d1ae" y="230.130002627"/>
     <use style="fill:#3465a4;stroke:#000000;stroke-width:1.5;" x="294.330198191" xlink:href="#mf345f0d1ae" y="122.897809298"/>
     <use style="fill:#3465a4;stroke:#000000;stroke-width:1.5;" x="159.813722522" xlink:href="#mf345f0d1ae" y="218.502404029"/>
     <use style="fill:#3465a4;stroke:#000000;stroke-width:1.5;" x="351.172955894" xlink:href="#mf345f0d1ae" y="160.036964317"/>
     <use style="fill:#3465a4;stroke:#000000;stroke-width:1.5;" x="163.172286019" xlink:href="#mf345f0d1ae" y="220.024275647"/>
     <use style="fill:#3465a4;stroke:#000000;stroke-width:1.5;" x="159.205695158" xlink:href="#mf345f0d1ae" y="214.548809519"/>
     <use style="fill:#3465a4;stroke:#000000;stroke-width:1.5;" x="238.024217197" xlink:href="#mf345f0d1ae" y="195.223653612"/>
     <use style="fill:#3465a4;stroke:#000000;stroke-width:1.5;" x="306.943897202" xlink:href="#mf345f0d1ae" y="121.680655575"/>
     <use style="fill:#3465a4;stroke:#000000;stroke-width:1.5;" x="318.159808571" xlink:href="#mf345f0d1ae" y="128.472580495"/>
     <use style="fill:#3465a4;stroke:#000000;stroke-width:1.5;" x="337.789245448" xlink:href="#mf345f0d1ae" y="141.847572038"/>
     <use style="fill:#3465a4;stroke:#000000;stroke-width:1.5;" x="282.18044146" xlink:href="#mf345f0d1ae" y="134.156437594"/>
     <use style="fill:#3465a4;stroke:#000000;stroke-width:1.5;" x="192.888073404" xlink:href="#mf345f0d1ae" y="234.178413663"/>
     <use style="fill:#3465a4;stroke:#000000;stroke-width:1.5;" x="175.979853232" xlink:href="#mf345f0d1ae" y="230.06186999"/>
     <use style="fill:#3465a4;stroke:#000000;stroke-width:1.5;" x="304.995991567" xlink:href="#mf345f0d1ae" y="119.973391217"/>
     <use style="fill:#3465a4;stroke:#000000;stroke-width:1.5;" x="147.301284047" xlink:href="#mf345f0d1ae" y="198.340258673"/>
     <use style="fill:#3465a4;stroke:#000000;stroke-width:1.5;" x="277.087477087" xlink:href="#mf345f0d1ae" y="139.070828846"/>
     <use style="fill:#3465a4;stroke:#000000;stroke-width:1.5;" x="319.196097116" xlink:href="#mf345f0d1ae" y="128.876731642"/>
     <use style="fill:#3465a4;stroke:#000000;stroke-width:1.5;" x="243.006899509" xlink:href="#mf345f0d1ae" y="183.190036384"/>
     <use style="fill:#3465a4;stroke:#000000;stroke-width:1.5;" x="304.317855202" xlink:href="#mf345f0d1ae" y="117.721084369"/>
     <use style="fill:#3465a4;stroke:#000000;stroke-width:1.5;" x="197.108666656" xlink:href="#mf345f0d1ae" y="231.128606944"/>
     <use style="fill:#3465a4;stroke:#000000;stroke-width:1.5;" x="218.23335871" xlink:href="#mf345f0d1ae" y="221.513971575"/>
     <use style="fill:#3465a4;stroke:#000000;stroke-width:1.5;" x="170.173904359" xlink:href="#mf345f0d1ae" y="228.853312262"/>
     <use style="fill:#3465a4;stroke:#000000;stroke-width:1.5;" x="244.919687154" xlink:href="#mf345f0d1ae" y="180.747952917"/>
     <use style="fill:#3465a4;stroke:#000000;stroke-width:1.5;" x="313.815210797" xlink:href="#mf345f0d1ae" y="125.479354906"/>
     <use style="fill:#3465a4;stroke:#000000;stroke-width:1.5;" x="135.814970231" xlink:href="#mf345f0d1ae" y="193.314531797"/>
     <use style="fill:#3465a4;stroke:#000000;stroke-width:1.5;" x="255.443018616" xlink:href="#mf345f0d1ae" y="170.23994044"/>
     <use style="fill:#3465a4;stroke:#000000;stroke-width:1.5;" x="258.513392124" xlink:href="#mf345f0d1ae" y="161.343902196"/>
     <use style="fill:#3465a4;stroke:#000000;stroke-width:1.5;" x="192.175383648" xlink:href="#mf345f0d1ae" y="236.918485467"/>
     <use style="fill:#3465a4;stroke:#000000;stroke-width:1.5;" x="157.312205156" xlink:href="#mf345f0d1ae" y="218.9981635"/>
     <use style="fill:#3465a4;stroke:#000000;stroke-width:1.5;" x="171.531945881" xlink:href="#mf345f0d1ae" y="227.09715721"/>
     <use style="fill:#3465a4;stroke:#000000;stroke-width:1.5;" x="330.792838433" xlink:href="#mf345f0d1ae" y="137.888506329"/>
     <use style="fill:#3465a4;stroke:#000000;stroke-width:1.5;" x="322.559095831" xlink:href="#mf345f0d1ae" y="132.190524531"/>
     <use style="fill:#3465a4;stroke:#000000;stroke-width:1.5;" x="154.207456453" xlink:href="#mf345f0d1ae" y="207.676663295"/>
     <use style="fill:#3465a4;stroke:#000000;stroke-width:1.5;" x="204.150682878" xlink:href="#mf345f0d1ae" y="232.789537193"/>
     <use style="fill:#3465a4;stroke:#000000;stroke-width:1.5;" x="180.700392507" xlink:href="#mf345f0d1ae" y="234.167071337"/>
     <use style="fill:#3465a4;stroke:#000000;stroke-width:1.5;" x="311.136413319" xlink:href="#mf345f0d1ae" y="123.79536259"/>
     <use style="fill:#3465a4;stroke:#000000;stroke-width:1.5;" x="342.037400286" xlink:href="#mf345f0d1ae" y="150.536118202"/>
     <use style="fill:#3465a4;stroke:#000000;stroke-width:1.5;" x="135.767870994" xlink:href="#mf345f0d1ae" y="190.656852628"/>
     <use style="fill:#3465a4;stroke:#000000;stroke-width:1.5;" x="272.468280683" xlink:href="#mf345f0d1ae" y="142.280902559"/>
     <use style="fill:#3465a4;stroke:#000000;stroke-width:1.5;" x="190.454738053" xlink:href="#mf345f0d1ae" y="241.053222667"/>
     <use style="fill:#3465a4;stroke:#000000;stroke-width:1.5;" x="327.402869151" xlink:href="#mf345f0d1ae" y="130.207312976"/>
     <use style="fill:#3465a4;stroke:#000000;stroke-width:1.5;" x="260.73838337" xlink:href="#mf345f0d1ae" y="156.163060342"/>
     <use style="fill:#3465a4;stroke:#000000;stroke-width:1.5;" x="260.010335491" xlink:href="#mf345f0d1ae" y="161.005735402"/>
     <use style="fill:#3465a4;stroke:#000000;stroke-width:1.5;" x="332.77561004" xlink:href="#mf345f0d1ae" y="135.893460124"/>
     <use style="fill:#3465a4;stroke:#000000;stroke-width:1.5;" x="176.378691767" xlink:href="#mf345f0d1ae" y="231.846135317"/>
     <use style="fill:#3465a4;stroke:#000000;stroke-width:1.5;" x="260.072494149" xlink:href="#mf345f0d1ae" y="158.454647616"/>
     <use style="fill:#3465a4;stroke:#000000;stroke-width:1.5;" x="229.794013195" xlink:href="#mf345f0d1ae" y="202.623676716"/>
     <use style="fill:#3465a4;stroke:#000000;stroke-width:1.5;" x="293.339880891" xlink:href="#mf345f0d1ae" y="126.095643062"/>
     <use style="fill:#3465a4;stroke:#000000;stroke-width:1.5;" x="177.77961641" xlink:href="#mf345f0d1ae" y="237.595447144"/>
     <use style="fill:#3465a4;stroke:#000000;stroke-width:1.5;" x="276.017982486" xlink:href="#mf345f0d1ae" y="142.408592547"/>
     <use style="fill:#3465a4;stroke:#000000;stroke-width:1.5;" x="279.339966354" xlink:href="#mf345f0d1ae" y="139.094986395"/>
     <use style="fill:#3465a4;stroke:#000000;stroke-width:1.5;" x="172.780568093" xlink:href="#mf345f0d1ae" y="233.680546159"/>
     <use style="fill:#3465a4;stroke:#000000;stroke-width:1.5;" x="147.585113809" xlink:href="#mf345f0d1ae" y="201.528000034"/>
     <use style="fill:#3465a4;stroke:#000000;stroke-width:1.5;" x="198.101479954" xlink:href="#mf345f0d1ae" y="237.163570247"/>
     <use style="fill:#3465a4;stroke:#000000;stroke-width:1.5;" x="333.235239091" xlink:href="#mf345f0d1ae" y="143.338376785"/>
     <use style="fill:#3465a4;stroke:#000000;stroke-width:1.5;" x="179.96784251" xlink:href="#mf345f0d1ae" y="236.64985007"/>
     <use style="fill:#3465a4;stroke:#000000;stroke-width:1.5;" x="286.413997565" xlink:href="#mf345f0d1ae" y="133.003263035"/>
     <use style="fill:#3465a4;stroke:#000000;stroke-width:1.5;" x="197.784770189" xlink:href="#mf345f0d1ae" y="231.457886174"/>
     <use style="fill:#3465a4;stroke:#000000;stroke-width:1.5;" x="198.354015668" xlink:href="#mf345f0d1ae" y="227.34848134"/>
     <use style="fill:#3465a4;stroke:#000000;stroke-width:1.5;" x="326.82832207" xlink:href="#mf345f0d1ae" y="137.433495182"/>
     <use style="fill:#3465a4;stroke:#000000;stroke-width:1.5;" x="295.04396041" xlink:href="#mf345f0d1ae" y="127.330979832"/>
     <use style="fill:#3465a4;stroke:#000000;stroke-width:1.5;" x="214.104745197" xlink:href="#mf345f0d1ae" y="224.912788466"/>
     <use style="fill:#3465a4;stroke:#000000;stroke-width:1.5;" x="245.78613072" xlink:href="#mf345f0d1ae" y="178.881816928"/>
     <use style="fill:#3465a4;stroke:#000000;stroke-width:1.5;" x="154.969866737" xlink:href="#mf345f0d1ae" y="213.703614527"/>
     <use style="fill:#3465a4;stroke:#000000;stroke-width:1.5;" x="296.165644754" xlink:href="#mf345f0d1ae" y="123.952691866"/>
     <use style="fill:#3465a4;stroke:#000000;stroke-width:1.5;" x="142.444500949" xlink:href="#mf345f0d1ae" y="198.901919123"/>
     <use style="fill:#3465a4;stroke:#000000;stroke-width:1.5;" x="149.451738461" xlink:href="#mf345f0d1ae" y="208.53001234"/>
     <use style="fill:#3465a4;stroke:#000000;stroke-width:1.5;" x="282.071101713" xlink:href="#mf345f0d1ae" y="134.768665803"/>
     <use style="fill:#3465a4;stroke:#000000;stroke-width:1.5;" x="137.373614555" xlink:href="#mf345f0d1ae" y="189.03454503"/>
     <use style="fill:#3465a4;stroke:#000000;stroke-width:1.5;" x="211.719206159" xlink:href="#mf345f0d1ae" y="228.414321559"/>
     <use style="fill:#3465a4;stroke:#000000;stroke-width:1.5;" x="310.871156279" xlink:href="#mf345f0d1ae" y="123.854361739"/>
     <use style="fill:#3465a4;stroke:#000000;stroke-width:1.5;" x="244.473309528" xlink:href="#mf345f0d1ae" y="185.120397247"/>
     <use style="fill:#3465a4;stroke:#000000;stroke-width:1.5;" x="230.070934986" xlink:href="#mf345f0d1ae" y="201.261761672"/>
     <use style="fill:#3465a4;stroke:#000000;stroke-width:1.5;" x="304.314135811" xlink:href="#mf345f0d1ae" y="128.345069717"/>
     <use style="fill:#3465a4;stroke:#000000;stroke-width:1.5;" x="277.685042544" xlink:href="#mf345f0d1ae" y="142.72762831"/>
     <use style="fill:#3465a4;stroke:#000000;stroke-width:1.5;" x="281.216237751" xlink:href="#mf345f0d1ae" y="130.994924109"/>
     <use style="fill:#3465a4;stroke:#000000;stroke-width:1.5;" x="344.169664421" xlink:href="#mf345f0d1ae" y="152.655814916"/>
     <use style="fill:#3465a4;stroke:#000000;stroke-width:1.5;" x="356.417504277" xlink:href="#mf345f0d1ae" y="164.640350435"/>
     <use style="fill:#3465a4;stroke:#000000;stroke-width:1.5;" x="176.176710876" xlink:href="#mf345f0d1ae" y="234.656518264"/>
     <use style="fill:#3465a4;stroke:#000000;stroke-width:1.5;" x="158.254059553" xlink:href="#mf345f0d1ae" y="215.605139521"/>
     <use style="fill:#3465a4;stroke:#000000;stroke-width:1.5;" x="253.91451575" xlink:href="#mf345f0d1ae" y="171.249810471"/>
     <use style="fill:#3465a4;stroke:#000000;stroke-width:1.5;" x="323.23936422" xlink:href="#mf345f0d1ae" y="128.819593348"/>
     <use style="fill:#3465a4;stroke:#000000;stroke-width:1.5;" x="145.581250276" xlink:href="#mf345f0d1ae" y="201.606451613"/>
     <use style="fill:#3465a4;stroke:#000000;stroke-width:1.5;" x="264.161863712" xlink:href="#mf345f0d1ae" y="149.90033891"/>
     <use style="fill:#3465a4;stroke:#000000;stroke-width:1.5;" x="203.436048629" xlink:href="#mf345f0d1ae" y="232.873879229"/>
     <use style="fill:#3465a4;stroke:#000000;stroke-width:1.5;" x="229.668311655" xlink:href="#mf345f0d1ae" y="203.48920532"/>
     <use style="fill:#3465a4;stroke:#000000;stroke-width:1.5;" x="312.303791302" xlink:href="#mf345f0d1ae" y="123.914600962"/>
     <use style="fill:#3465a4;stroke:#000000;stroke-width:1.5;" x="175.21111253" xlink:href="#mf345f0d1ae" y="232.426502853"/>
     <use style="fill:#3465a4;stroke:#000000;stroke-width:1.5;" x="299.859210463" xlink:href="#mf345f0d1ae" y="120.360203354"/>
     <use style="fill:#3465a4;stroke:#000000;stroke-width:1.5;" x="333.828662521" xlink:href="#mf345f0d1ae" y="140.986320621"/>
     <use style="fill:#3465a4;stroke:#000000;stroke-width:1.5;" x="240.041187167" xlink:href="#mf345f0d1ae" y="189.311446676"/>
     <use style="fill:#3465a4;stroke:#000000;stroke-width:1.5;" x="175.103957073" xlink:href="#mf345f0d1ae" y="230.223185592"/>
     <use style="fill:#3465a4;stroke:#000000;stroke-width:1.5;" x="171.519214514" xlink:href="#mf345f0d1ae" y="224.300729738"/>
     <use style="fill:#3465a4;stroke:#000000;stroke-width:1.5;" x="315.438056297" xlink:href="#mf345f0d1ae" y="125.726802894"/>
     <use style="fill:#3465a4;stroke:#000000;stroke-width:1.5;" x="155.11375279" xlink:href="#mf345f0d1ae" y="219.290205783"/>
     <use style="fill:#3465a4;stroke:#000000;stroke-width:1.5;" x="186.046238824" xlink:href="#mf345f0d1ae" y="238.72998799"/>
     <use style="fill:#3465a4;stroke:#000000;stroke-width:1.5;" x="175.444317126" xlink:href="#mf345f0d1ae" y="225.773471251"/>
     <use style="fill:#3465a4;stroke:#000000;stroke-width:1.5;" x="274.892430309" xlink:href="#mf345f0d1ae" y="141.625622399"/>
     <use style="fill:#3465a4;stroke:#000000;stroke-width:1.5;" x="190.748985592" xlink:href="#mf345f0d1ae" y="231.907752104"/>
     <use style="fill:#3465a4;stroke:#000000;stroke-width:1.5;" x="338.450486205" xlink:href="#mf345f0d1ae" y="142.757119327"/>
     <use style="fill:#3465a4;stroke:#000000;stroke-width:1.5;" x="213.779354766" xlink:href="#mf345f0d1ae" y="222.312820672"/>
     <use style="fill:#3465a4;stroke:#000000;stroke-width:1.5;" x="255.021452273" xlink:href="#mf345f0d1ae" y="170.348831926"/>
     <use style="fill:#3465a4;stroke:#000000;stroke-width:1.5;" x="170.742987332" xlink:href="#mf345f0d1ae" y="231.491353964"/>
     <use style="fill:#3465a4;stroke:#000000;stroke-width:1.5;" x="331.022837897" xlink:href="#mf345f0d1ae" y="134.877183334"/>
     <use style="fill:#3465a4;stroke:#000000;stroke-width:1.5;" x="298.520983354" xlink:href="#mf345f0d1ae" y="122.89829452"/>
     <use style="fill:#3465a4;stroke:#000000;stroke-width:1.5;" x="177.417031155" xlink:href="#mf345f0d1ae" y="229.726248409"/>
     <use style="fill:#3465a4;stroke:#000000;stroke-width:1.5;" x="254.654431927" xlink:href="#mf345f0d1ae" y="165.95017089"/>
     <use style="fill:#3465a4;stroke:#000000;stroke-width:1.5;" x="284.28624643" xlink:href="#mf345f0d1ae" y="131.454346242"/>
     <use style="fill:#3465a4;stroke:#000000;stroke-width:1.5;" x="165.570899506" xlink:href="#mf345f0d1ae" y="226.121402514"/>
     <use style="fill:#3465a4;stroke:#000000;stroke-width:1.5;" x="210.251416758" xlink:href="#mf345f0d1ae" y="224.695411633"/>
     <use style="fill:#3465a4;stroke:#000000;stroke-width:1.5;" x="337.934803984" xlink:href="#mf345f0d1ae" y="145.021940312"/>
     <use style="fill:#3465a4;stroke:#000000;stroke-width:1.5;" x="344.826606738" xlink:href="#mf345f0d1ae" y="150.06404212"/>
     <use style="fill:#3465a4;stroke:#000000;stroke-width:1.5;" x="274.13957744" xlink:href="#mf345f0d1ae" y="138.67268747"/>
     <use style="fill:#3465a4;stroke:#000000;stroke-width:1.5;" x="195.666114131" xlink:href="#mf345f0d1ae" y="233.639485865"/>
     <use style="fill:#3465a4;stroke:#000000;stroke-width:1.5;" x="341.869653606" xlink:href="#mf345f0d1ae" y="151.235812716"/>
     <use style="fill:#3465a4;stroke:#000000;stroke-width:1.5;" x="159.316813641" xlink:href="#mf345f0d1ae" y="217.526019183"/>
     <use style="fill:#3465a4;stroke:#000000;stroke-width:1.5;" x="149.303289141" xlink:href="#mf345f0d1ae" y="205.853412946"/>
     <use style="fill:#3465a4;stroke:#000000;stroke-width:1.5;" x="190.870890068" xlink:href="#mf345f0d1ae" y="236.844568844"/>
     <use style="fill:#3465a4;stroke:#000000;stroke-width:1.5;" x="166.936454403" xlink:href="#mf345f0d1ae" y="228.030124126"/>
     <use style="fill:#3465a4;stroke:#000000;stroke-width:1.5;" x="149.539327417" xlink:href="#mf345f0d1ae" y="201.811160638"/>
     <use style="fill:#3465a4;stroke:#000000;stroke-width:1.5;" x="259.829062028" xlink:href="#mf345f0d1ae" y="158.106919183"/>
    </g>
   </g>
   <g id="PolyCollection_1">
    <defs>
     <path d="
M79.9137 -294.888
L79.9137 -215.123
L81.5931 -215.244
L83.2724 -215.274
L84.9517 -215.212
L86.6311 -215.058
L88.3104 -214.812
L89.9898 -214.473
L91.6691 -214.041
L93.3484 -213.517
L95.0278 -212.901
L96.7071 -212.194
L98.3865 -211.396
L100.066 -210.509
L101.745 -209.533
L103.424 -208.469
L105.104 -207.319
L106.783 -206.085
L108.463 -204.769
L110.142 -203.371
L111.821 -201.894
L113.501 -200.34
L115.18 -198.711
L116.859 -197.009
L118.539 -195.237
L120.218 -193.397
L121.897 -191.492
L123.577 -189.525
L125.256 -187.498
L126.935 -185.414
L128.615 -183.278
L130.294 -181.094
L131.973 -178.866
L133.653 -176.6
L135.332 -174.302
L137.011 -171.98
L138.691 -169.641
L140.37 -167.294
L142.049 -164.948
L143.729 -162.612
L145.408 -160.296
L147.087 -158.008
L148.767 -155.757
L150.446 -153.552
L152.125 -151.399
L153.805 -149.306
L155.484 -147.278
L157.163 -145.322
L158.843 -143.443
L160.522 -141.645
L162.201 -139.932
L163.881 -138.307
L165.56 -136.775
L167.239 -135.338
L168.919 -133.999
L170.598 -132.76
L172.277 -131.624
L173.957 -130.591
L175.636 -129.664
L177.315 -128.844
L178.995 -128.133
L180.674 -127.531
L182.354 -127.04
L184.033 -126.66
L185.712 -126.392
L187.392 -126.236
L189.071 -126.192
L190.75 -126.262
L192.43 -126.444
L194.109 -126.739
L195.788 -127.146
L197.468 -127.665
L199.147 -128.294
L200.826 -129.034
L202.506 -129.883
L204.185 -130.839
L205.864 -131.901
L207.544 -133.067
L209.223 -134.335
L210.902 -135.703
L212.582 -137.168
L214.261 -138.727
L215.94 -140.377
L217.62 -142.115
L219.299 -143.937
L220.978 -145.84
L222.658 -147.819
L224.337 -149.87
L226.016 -151.99
L227.696 -154.172
L229.375 -156.414
L231.054 -158.709
L232.734 -161.052
L234.413 -163.44
L236.092 -165.866
L237.772 -168.324
L239.451 -170.811
L241.13 -173.32
L242.81 -175.846
L244.489 -178.384
L246.168 -180.928
L247.848 -183.473
L249.527 -186.013
L251.206 -188.543
L252.886 -191.058
L254.565 -193.554
L256.245 -196.024
L257.924 -198.463
L259.603 -200.868
L261.283 -203.232
L262.962 -205.552
L264.641 -207.823
L266.321 -210.04
L268 -212.199
L269.679 -214.296
L271.359 -216.326
L273.038 -218.285
L274.717 -220.171
L276.397 -221.978
L278.076 -223.704
L279.755 -225.344
L281.435 -226.896
L283.114 -228.356
L284.793 -229.722
L286.473 -230.99
L288.152 -232.158
L289.831 -233.223
L291.511 -234.184
L293.19 -235.037
L294.869 -235.782
L296.549 -236.417
L298.228 -236.94
L299.907 -237.351
L301.587 -237.648
L303.266 -237.831
L304.945 -237.899
L306.625 -237.854
L308.304 -237.695
L309.983 -237.423
L311.663 -237.038
L313.342 -236.543
L315.021 -235.938
L316.701 -235.225
L318.38 -234.406
L320.059 -233.485
L321.739 -232.462
L323.418 -231.34
L325.097 -230.123
L326.777 -228.813
L328.456 -227.413
L330.136 -225.926
L331.815 -224.355
L333.494 -222.703
L335.174 -220.973
L336.853 -219.167
L338.532 -217.287
L340.212 -215.335
L341.891 -213.314
L343.57 -211.224
L345.25 -209.066
L346.929 -206.841
L348.608 -204.547
L350.288 -202.186
L351.967 -199.756
L353.646 -197.256
L355.326 -194.686
L357.005 -192.046
L358.684 -189.335
L360.364 -186.555
L362.043 -183.708
L363.722 -180.795
L365.402 -177.821
L367.081 -174.788
L368.76 -171.702
L370.44 -168.566
L372.119 -165.385
L373.798 -162.165
L375.478 -158.91
L377.157 -155.626
L378.836 -152.316
L380.516 -148.986
L382.195 -145.641
L383.874 -142.284
L385.554 -138.921
L387.233 -135.556
L388.912 -132.193
L390.592 -128.836
L392.271 -125.489
L393.95 -122.156
L395.63 -118.84
L397.309 -115.546
L398.988 -112.277
L400.668 -109.036
L402.347 -105.826
L404.027 -102.651
L405.706 -99.5141
L407.385 -96.4175
L409.065 -93.3644
L410.744 -90.3573
L412.423 -87.399
L414.103 -84.4917
L414.103 -165.402
L414.103 -165.402
L412.423 -165.202
L410.744 -165.091
L409.065 -165.068
L407.385 -165.134
L405.706 -165.29
L404.027 -165.536
L402.347 -165.872
L400.668 -166.298
L398.988 -166.814
L397.309 -167.419
L395.63 -168.112
L393.95 -168.894
L392.271 -169.762
L390.592 -170.716
L388.912 -171.755
L387.233 -172.877
L385.554 -174.081
L383.874 -175.364
L382.195 -176.726
L380.516 -178.164
L378.836 -179.677
L377.157 -181.262
L375.478 -182.917
L373.798 -184.639
L372.119 -186.426
L370.44 -188.277
L368.76 -190.186
L367.081 -192.153
L365.402 -194.173
L363.722 -196.242
L362.043 -198.356
L360.364 -200.51
L358.684 -202.698
L357.005 -204.914
L355.326 -207.15
L353.646 -209.397
L351.967 -211.648
L350.288 -213.893
L348.608 -216.124
L346.929 -218.33
L345.25 -220.504
L343.57 -222.638
L341.891 -224.724
L340.212 -226.754
L338.532 -228.722
L336.853 -230.624
L335.174 -232.452
L333.494 -234.203
L331.815 -235.872
L330.136 -237.456
L328.456 -238.951
L326.777 -240.353
L325.097 -241.661
L323.418 -242.871
L321.739 -243.982
L320.059 -244.991
L318.38 -245.898
L316.701 -246.699
L315.021 -247.394
L313.342 -247.982
L311.663 -248.462
L309.983 -248.832
L308.304 -249.093
L306.625 -249.243
L304.945 -249.282
L303.266 -249.21
L301.587 -249.028
L299.907 -248.734
L298.228 -248.329
L296.549 -247.814
L294.869 -247.189
L293.19 -246.456
L291.511 -245.615
L289.831 -244.667
L288.152 -243.614
L286.473 -242.458
L284.793 -241.202
L283.114 -239.846
L281.435 -238.393
L279.755 -236.847
L278.076 -235.21
L276.397 -233.486
L274.717 -231.677
L273.038 -229.788
L271.359 -227.823
L269.679 -225.785
L268 -223.679
L266.321 -221.509
L264.641 -219.281
L262.962 -216.998
L261.283 -214.665
L259.603 -212.289
L257.924 -209.873
L256.245 -207.423
L254.565 -204.945
L252.886 -202.443
L251.206 -199.923
L249.527 -197.39
L247.848 -194.85
L246.168 -192.308
L244.489 -189.77
L242.81 -187.24
L241.13 -184.723
L239.451 -182.226
L237.772 -179.753
L236.092 -177.308
L234.413 -174.898
L232.734 -172.526
L231.054 -170.198
L229.375 -167.918
L227.696 -165.691
L226.016 -163.521
L224.337 -161.412
L222.658 -159.369
L220.978 -157.396
L219.299 -155.497
L217.62 -153.675
L215.94 -151.934
L214.261 -150.279
L212.582 -148.712
L210.902 -147.236
L209.223 -145.855
L207.544 -144.573
L205.864 -143.39
L204.185 -142.312
L202.506 -141.338
L200.826 -140.473
L199.147 -139.717
L197.468 -139.073
L195.788 -138.542
L194.109 -138.125
L192.43 -137.824
L190.75 -137.638
L189.071 -137.569
L187.392 -137.616
L185.712 -137.78
L184.033 -138.059
L182.354 -138.453
L180.674 -138.96
L178.995 -139.58
L177.315 -140.311
L175.636 -141.15
L173.957 -142.096
L172.277 -143.145
L170.598 -144.296
L168.919 -145.546
L167.239 -146.892
L165.56 -148.33
L163.881 -149.859
L162.201 -151.473
L160.522 -153.172
L158.843 -154.952
L157.163 -156.809
L155.484 -158.743
L153.805 -160.749
L152.125 -162.828
L150.446 -164.976
L148.767 -167.193
L147.087 -169.479
L145.408 -171.832
L143.729 -174.255
L142.049 -176.746
L140.37 -179.308
L138.691 -181.94
L137.011 -184.643
L135.332 -187.417
L133.653 -190.262
L131.973 -193.175
L130.294 -196.155
L128.615 -199.199
L126.935 -202.303
L125.256 -205.464
L123.577 -208.675
L121.897 -211.933
L120.218 -215.232
L118.539 -218.568
L116.859 -221.935
L115.18 -225.328
L113.501 -228.743
L111.821 -232.174
L110.142 -235.617
L108.463 -239.067
L106.783 -242.519
L105.104 -245.969
L103.424 -249.414
L101.745 -252.848
L100.066 -256.268
L98.3865 -259.669
L96.7071 -263.049
L95.0278 -266.403
L93.3484 -269.728
L91.6691 -273.02
L89.9898 -276.276
L88.3104 -279.493
L86.6311 -282.668
L84.9517 -285.797
L83.2724 -288.879
L81.5931 -291.91
L79.9137 -294.888
z
" id="me7cecfb447" style="stroke:#204a87;stroke-opacity:0.2;stroke-width:0.5;"/>
    </defs>
    <g clip-path="url(#p7d95086114)">
     <use style="fill:#729fcf;fill-opacity:0.2;stroke:#204a87;stroke-opacity:0.2;stroke-width:0.5;" x="0.0" xlink:href="#me7cecfb447" y="367.030459994"/>
    </g>
   </g>
   <g id="line2d_1">
    <path clip-path="url(#p7d95086114)" d="
M79.9137 112.025
L83.2724 114.954
L86.6311 118.168
L89.9898 121.656
L93.3484 125.408
L96.7071 129.409
L101.745 135.84
L106.783 142.728
L111.821 149.997
L118.539 160.128
L142.049 196.183
L147.087 203.287
L152.125 209.917
L155.484 214.02
L158.843 217.833
L162.201 221.328
L165.56 224.478
L168.919 227.258
L172.277 229.646
L175.636 231.623
L178.995 233.174
L182.354 234.284
L185.712 234.945
L187.392 235.104
L189.071 235.15
L190.75 235.08
L192.43 234.896
L194.109 234.598
L197.468 233.662
L200.826 232.277
L204.185 230.455
L207.544 228.21
L210.902 225.561
L214.261 222.528
L217.62 219.136
L220.978 215.412
L224.337 211.389
L227.696 207.099
L232.734 200.241
L237.772 192.992
L246.168 180.412
L256.245 165.307
L261.283 158.082
L266.321 151.256
L269.679 146.99
L273.038 142.994
L276.397 139.299
L279.755 135.935
L283.114 132.93
L286.473 130.306
L289.831 128.085
L293.19 126.284
L296.549 124.915
L299.907 123.988
L303.266 123.51
L304.945 123.44
L306.625 123.482
L308.304 123.637
L311.663 124.281
L315.021 125.365
L318.38 126.878
L321.739 128.809
L325.097 131.139
L328.456 133.849
L331.815 136.917
L335.174 140.318
L338.532 144.026
L341.891 148.012
L346.929 154.445
L351.967 161.328
L358.684 171.014
L368.76 186.087
L378.836 201.034
L385.554 210.529
L390.592 217.254
L395.63 223.554
L400.668 229.363
L404.027 232.937
L407.385 236.255
L410.744 239.306
L414.103 242.084
L414.103 242.084" style="fill:none;stroke:#3465a4;stroke-linecap:square;stroke-width:2;"/>
   </g>
   <g id="patch_3">
    <path d="
M23.9301 11.8102
L470.33 11.8102" style="fill:none;stroke:#000000;stroke-linecap:square;stroke-linejoin:miter;"/>
   </g>
   <g id="patch_4">
    <path d="
M470.33 346.61
L470.33 11.8102" style="fill:none;stroke:#000000;stroke-linecap:square;stroke-linejoin:miter;"/>
   </g>
   <g id="patch_5">
    <path d="
M23.9301 346.61
L470.33 346.61" style="fill:none;stroke:#000000;stroke-linecap:square;stroke-linejoin:miter;"/>
   </g>
   <g id="patch_6">
    <path d="
M23.9301 346.61
L23.9301 11.8102" style="fill:none;stroke:#000000;stroke-linecap:square;stroke-linejoin:miter;"/>
   </g>
   <g id="matplotlib.axis_1">
    <g id="xtick_1">
     <g id="line2d_2">
      <defs>
       <path d="
M0 0
L0 -4" id="m93b0483c22" style="stroke:#000000;stroke-width:0.5;"/>
      </defs>
      <g>
       <use style="stroke:#000000;stroke-width:0.5;" x="23.9300789763" xlink:href="#m93b0483c22" y="346.610153331"/>
      </g>
     </g>
     <g id="line2d_3">
      <defs>
       <path d="
M0 0
L0 4" id="m741efc42ff" style="stroke:#000000;stroke-width:0.5;"/>
      </defs>
      <g>
       <use style="stroke:#000000;stroke-width:0.5;" x="23.9300789763" xlink:href="#m741efc42ff" y="11.8101533313"/>
      </g>
     </g>
     <g id="text_1">
      <!-- $-6$ -->
      <defs>
       <path d="
M65.9062 23
C67.5938 23 69.4062 23 69.4062 25
C69.4062 27 67.5938 27 65.9062 27
L11.7969 27
C10.0938 27 8.29688 27 8.29688 25
C8.29688 23 10.0938 23 11.7969 23
z
" id="CMSY10-0"/>
       <path d="
M10.5938 34
C10.5938 57.6562 21.7969 63 28.2969 63
C30.4062 63 35.5 62.6406 37.5 59
C35.9062 59 32.9062 59 32.9062 55.5156
C32.9062 52.8281 35.0938 51.9219 36.5 51.9219
C37.4062 51.9219 40.0938 52.3125 40.0938 55.625
C40.0938 61.7812 35.0938 65.2969 28.2031 65.2969
C16.2969 65.2969 3.79688 52.9688 3.79688 31
C3.79688 3.95312 15.0938 -2 23.0938 -2
C32.7969 -2 42 6.67188 42 20.0469
C42 32.5156 33.9062 41.5938 23.7031 41.5938
C17.5938 41.5938 13.0938 37.6094 10.5938 30.625
z

M23.0938 0.390625
C10.7969 0.390625 10.7969 18.75 10.7969 22.4375
C10.7969 29.625 14.2031 40 23.5 40
C25.2031 40 30.0938 40 33.4062 33.125
C35.2031 29.2188 35.2031 25.1406 35.2031 20.1406
C35.2031 14.75 35.2031 10.7812 33.0938 6.78125
C30.9062 2.67188 27.7031 0.390625 23.0938 0.390625" id="CMR17-54"/>
      </defs>
      <g transform="translate(17.5650394881 357.708473595)scale(0.1 -0.1)">
       <use transform="scale(0.996264009963)" xlink:href="#CMSY10-0"/>
       <use transform="translate(77.4874676506 0.0)scale(0.996264009963)" xlink:href="#CMR17-54"/>
      </g>
     </g>
    </g>
    <g id="xtick_2">
     <g id="line2d_4">
      <g>
       <use style="stroke:#000000;stroke-width:0.5;" x="98.3300789763" xlink:href="#m93b0483c22" y="346.610153331"/>
      </g>
     </g>
     <g id="line2d_5">
      <g>
       <use style="stroke:#000000;stroke-width:0.5;" x="98.3300789763" xlink:href="#m741efc42ff" y="11.8101533313"/>
      </g>
     </g>
     <g id="text_2">
      <!-- $-4$ -->
      <defs>
       <path d="
M33.5938 64.3281
C33.5938 66.4062 33.5 66.5 31.7031 66.5
L2 19.5938
L2 17
L27.7969 17
L27.7969 7.14062
C27.7969 3.5 27.5938 2.5 20.5938 2.5
L18.7031 2.5
L18.7031 0
C21.9062 0 27.2969 0 30.7031 0
C34.0938 0 39.5 0 42.7031 0
L42.7031 2.5
L40.7969 2.5
C33.7969 2.5 33.5938 3.5 33.5938 7.14062
L33.5938 17
L43.7969 17
L43.7969 19.5938
L33.5938 19.5938
z

M28.0938 57.7656
L28.0938 19.5938
L4 19.5938
z
" id="CMR17-52"/>
      </defs>
      <g transform="translate(91.9650394881 357.708473595)scale(0.1 -0.1)">
       <use transform="scale(0.996264009963)" xlink:href="#CMSY10-0"/>
       <use transform="translate(77.4874676506 0.0)scale(0.996264009963)" xlink:href="#CMR17-52"/>
      </g>
     </g>
    </g>
    <g id="xtick_3">
     <g id="line2d_6">
      <g>
       <use style="stroke:#000000;stroke-width:0.5;" x="172.730078976" xlink:href="#m93b0483c22" y="346.610153331"/>
      </g>
     </g>
     <g id="line2d_7">
      <g>
       <use style="stroke:#000000;stroke-width:0.5;" x="172.730078976" xlink:href="#m741efc42ff" y="11.8101533313"/>
      </g>
     </g>
     <g id="text_3">
      <!-- $-2$ -->
      <defs>
       <path d="
M41.7031 15.4531
L39.9062 15.4531
C38.9062 8.375 38.0938 7.17188 37.7031 6.5625
C37.2031 5.76562 30 5.76562 28.5938 5.76562
L9.40625 5.76562
C13 9.67188 20 16.75 28.5 24.9531
C34.5938 30.7344 41.7031 37.5312 41.7031 47.4219
C41.7031 59.2188 32.2969 66 21.7969 66
C10.7969 66 4.09375 56.3125 4.09375 47.3438
C4.09375 43.4375 7 42.9375 8.20312 42.9375
C9.20312 42.9375 12.2031 43.5469 12.2031 47.0312
C12.2031 50.1094 9.59375 51 8.20312 51
C7.59375 51 7 50.9062 6.59375 50.7031
C8.5 59.2188 14.2969 63.4062 20.4062 63.4062
C29.0938 63.4062 34.7969 56.5156 34.7969 47.4219
C34.7969 38.7344 29.7031 31.25 24 24.75
L4.09375 2.28125
L4.09375 0
L39.2969 0
z
" id="CMR17-50"/>
      </defs>
      <g transform="translate(166.365039488 357.708473595)scale(0.1 -0.1)">
       <use transform="scale(0.996264009963)" xlink:href="#CMSY10-0"/>
       <use transform="translate(77.4874676506 0.0)scale(0.996264009963)" xlink:href="#CMR17-50"/>
      </g>
     </g>
    </g>
    <g id="xtick_4">
     <g id="line2d_8">
      <g>
       <use style="stroke:#000000;stroke-width:0.5;" x="247.130078976" xlink:href="#m93b0483c22" y="346.610153331"/>
      </g>
     </g>
     <g id="line2d_9">
      <g>
       <use style="stroke:#000000;stroke-width:0.5;" x="247.130078976" xlink:href="#m741efc42ff" y="11.8101533313"/>
      </g>
     </g>
     <g id="text_4">
      <!-- $0$ -->
      <defs>
       <path d="
M42 31.6406
C42 37.75 41.9062 48.125 37.7031 56.1094
C34 63.1094 28.0938 65.5938 22.9062 65.5938
C18.0938 65.5938 12 63.4062 8.20312 56.2031
C4.20312 48.7188 3.79688 39.4375 3.79688 31.6406
C3.79688 25.9531 3.90625 17.2812 7 9.67188
C11.2969 -0.609375 19 -2 22.9062 -2
C27.5 -2 34.5 -0.109375 38.5938 9.375
C41.5938 16.2812 42 24.3594 42 31.6406
M22.9062 -0.40625
C16.5 -0.40625 12.7031 5.07812 11.2969 12.6875
C10.2031 18.5625 10.2031 27.1562 10.2031 32.75
C10.2031 40.4375 10.2031 46.8281 11.5 52.9219
C13.4062 61.3906 19 64 22.9062 64
C27 64 32.2969 61.2969 34.2031 53.125
C35.5 47.4375 35.5938 40.7344 35.5938 32.75
C35.5938 26.25 35.5938 18.2656 34.4062 12.375
C32.2969 1.48438 26.4062 -0.40625 22.9062 -0.40625" id="CMR17-48"/>
      </defs>
      <g transform="translate(244.639411351 357.708473595)scale(0.1 -0.1)">
       <use transform="scale(0.996264009963)" xlink:href="#CMR17-48"/>
      </g>
     </g>
    </g>
    <g id="xtick_5">
     <g id="line2d_10">
      <g>
       <use style="stroke:#000000;stroke-width:0.5;" x="321.530078976" xlink:href="#m93b0483c22" y="346.610153331"/>
      </g>
     </g>
     <g id="line2d_11">
      <g>
       <use style="stroke:#000000;stroke-width:0.5;" x="321.530078976" xlink:href="#m741efc42ff" y="11.8101533313"/>
      </g>
     </g>
     <g id="text_5">
      <!-- $2$ -->
      <g transform="translate(319.039411351 357.708473595)scale(0.1 -0.1)">
       <use transform="scale(0.996264009963)" xlink:href="#CMR17-50"/>
      </g>
     </g>
    </g>
    <g id="xtick_6">
     <g id="line2d_12">
      <g>
       <use style="stroke:#000000;stroke-width:0.5;" x="395.930078976" xlink:href="#m93b0483c22" y="346.610153331"/>
      </g>
     </g>
     <g id="line2d_13">
      <g>
       <use style="stroke:#000000;stroke-width:0.5;" x="395.930078976" xlink:href="#m741efc42ff" y="11.8101533313"/>
      </g>
     </g>
     <g id="text_6">
      <!-- $4$ -->
      <g transform="translate(393.439411351 357.708473595)scale(0.1 -0.1)">
       <use transform="scale(0.996264009963)" xlink:href="#CMR17-52"/>
      </g>
     </g>
    </g>
    <g id="xtick_7">
     <g id="line2d_14">
      <g>
       <use style="stroke:#000000;stroke-width:0.5;" x="470.330078976" xlink:href="#m93b0483c22" y="346.610153331"/>
      </g>
     </g>
     <g id="line2d_15">
      <g>
       <use style="stroke:#000000;stroke-width:0.5;" x="470.330078976" xlink:href="#m741efc42ff" y="11.8101533313"/>
      </g>
     </g>
     <g id="text_7">
      <!-- $6$ -->
      <g transform="translate(467.839411351 357.708473595)scale(0.1 -0.1)">
       <use transform="scale(0.996264009963)" xlink:href="#CMR17-54"/>
      </g>
     </g>
    </g>
   </g>
   <g id="matplotlib.axis_2">
    <g id="ytick_1">
     <g id="line2d_16">
      <defs>
       <path d="
M0 0
L4 0" id="m728421d6d4" style="stroke:#000000;stroke-width:0.5;"/>
      </defs>
      <g>
       <use style="stroke:#000000;stroke-width:0.5;" x="23.9300789763" xlink:href="#m728421d6d4" y="346.610153331"/>
      </g>
     </g>
     <g id="line2d_17">
      <defs>
       <path d="
M0 0
L-4 0" id="mcb0005524f" style="stroke:#000000;stroke-width:0.5;"/>
      </defs>
      <g>
       <use style="stroke:#000000;stroke-width:0.5;" x="470.330078976" xlink:href="#mcb0005524f" y="346.610153331"/>
      </g>
     </g>
     <g id="text_8">
      <!-- $-3$ -->
      <defs>
       <path d="
M22.0938 33.7031
C31 33.7031 34.9062 25.9688 34.9062 17.0312
C34.9062 5 28.5 0.390625 22.7031 0.390625
C17.4062 0.390625 8.79688 3.03125 6.09375 10.8281
C6.59375 10.625 7.09375 10.625 7.59375 10.625
C10 10.625 11.7969 12.2188 11.7969 14.8125
C11.7969 17.7031 9.59375 19 7.59375 19
C5.90625 19 3.29688 18.2031 3.29688 14.4688
C3.29688 5.23438 12.2969 -2 22.9062 -2
C34 -2 42.5 6.71875 42.5 16.9531
C42.5 26.6719 34.5 33.6875 25 34.7969
C32.5938 36.375 39.9062 43.0625 39.9062 52.0156
C39.9062 59.6875 32 65.2969 23 65.2969
C13.9062 65.2969 5.90625 59.8281 5.90625 52.0156
C5.90625 48.5938 8.5 48 9.79688 48
C11.9062 48 13.7031 49.2969 13.7031 51.8906
C13.7031 54.4688 11.9062 55.7656 9.79688 55.7656
C9.40625 55.7656 8.90625 55.7656 8.5 55.5625
C11.4062 61.8594 19.2969 63 22.7969 63
C26.2969 63 32.9062 61.3281 32.9062 51.875
C32.9062 49.1094 32.5 44.1875 29.0938 39.8438
C26.0938 36 22.7031 36 19.4062 35.5938
C18.9062 35.5938 16.5938 35.5938 16.2031 35.5938
C15.5 35.4844 15.0938 35.3906 15.0938 34.5938
C15.0938 33.8125 15.2031 33.7031 17.2031 33.7031
z
" id="CMR17-51"/>
      </defs>
      <g transform="translate(7.2 349.098320264)scale(0.1 -0.1)">
       <use transform="scale(0.996264009963)" xlink:href="#CMSY10-0"/>
       <use transform="translate(77.4874676506 0.0)scale(0.996264009963)" xlink:href="#CMR17-51"/>
      </g>
     </g>
    </g>
    <g id="ytick_2">
     <g id="line2d_18">
      <g>
       <use style="stroke:#000000;stroke-width:0.5;" x="23.9300789763" xlink:href="#m728421d6d4" y="290.810153331"/>
      </g>
     </g>
     <g id="line2d_19">
      <g>
       <use style="stroke:#000000;stroke-width:0.5;" x="470.330078976" xlink:href="#mcb0005524f" y="290.810153331"/>
      </g>
     </g>
     <g id="text_9">
      <!-- $-2$ -->
      <g transform="translate(7.2 293.298320264)scale(0.1 -0.1)">
       <use transform="scale(0.996264009963)" xlink:href="#CMSY10-0"/>
       <use transform="translate(77.4874676506 0.0)scale(0.996264009963)" xlink:href="#CMR17-50"/>
      </g>
     </g>
    </g>
    <g id="ytick_3">
     <g id="line2d_20">
      <g>
       <use style="stroke:#000000;stroke-width:0.5;" x="23.9300789763" xlink:href="#m728421d6d4" y="235.010153331"/>
      </g>
     </g>
     <g id="line2d_21">
      <g>
       <use style="stroke:#000000;stroke-width:0.5;" x="470.330078976" xlink:href="#mcb0005524f" y="235.010153331"/>
      </g>
     </g>
     <g id="text_10">
      <!-- $-1$ -->
      <defs>
       <path d="
M26.5938 63.3125
C26.5938 65.4062 26.5 65.5 25.0938 65.5
C21.2031 61.1875 15.2969 59.7969 9.70312 59.7969
C9.40625 59.7969 8.90625 59.7969 8.79688 59.6094
C8.70312 59.3906 8.70312 59.1719 8.70312 57
C11.7969 57 17 57.5938 21 59.9844
L21 7.20312
C21 3.6875 20.7969 2.5 12.2031 2.5
L9.20312 2.5
L9.20312 0
C14 0 19 0 23.7969 0
C28.5938 0 33.5938 0 38.4062 0
L38.4062 2.5
L35.4062 2.5
C26.7969 2.5 26.5938 3.59375 26.5938 7.15625
z
" id="CMR17-49"/>
      </defs>
      <g transform="translate(7.2 237.498320264)scale(0.1 -0.1)">
       <use transform="scale(0.996264009963)" xlink:href="#CMSY10-0"/>
       <use transform="translate(77.4874676506 0.0)scale(0.996264009963)" xlink:href="#CMR17-49"/>
      </g>
     </g>
    </g>
    <g id="ytick_4">
     <g id="line2d_22">
      <g>
       <use style="stroke:#000000;stroke-width:0.5;" x="23.9300789763" xlink:href="#m728421d6d4" y="179.210153331"/>
      </g>
     </g>
     <g id="line2d_23">
      <g>
       <use style="stroke:#000000;stroke-width:0.5;" x="470.330078976" xlink:href="#mcb0005524f" y="179.210153331"/>
      </g>
     </g>
     <g id="text_11">
      <!-- $0$ -->
      <g transform="translate(14.9487437247 181.698320264)scale(0.1 -0.1)">
       <use transform="scale(0.996264009963)" xlink:href="#CMR17-48"/>
      </g>
     </g>
    </g>
    <g id="ytick_5">
     <g id="line2d_24">
      <g>
       <use style="stroke:#000000;stroke-width:0.5;" x="23.9300789763" xlink:href="#m728421d6d4" y="123.410153331"/>
      </g>
     </g>
     <g id="line2d_25">
      <g>
       <use style="stroke:#000000;stroke-width:0.5;" x="470.330078976" xlink:href="#mcb0005524f" y="123.410153331"/>
      </g>
     </g>
     <g id="text_12">
      <!-- $1$ -->
      <g transform="translate(14.9487437247 125.898320264)scale(0.1 -0.1)">
       <use transform="scale(0.996264009963)" xlink:href="#CMR17-49"/>
      </g>
     </g>
    </g>
    <g id="ytick_6">
     <g id="line2d_26">
      <g>
       <use style="stroke:#000000;stroke-width:0.5;" x="23.9300789763" xlink:href="#m728421d6d4" y="67.6101533313"/>
      </g>
     </g>
     <g id="line2d_27">
      <g>
       <use style="stroke:#000000;stroke-width:0.5;" x="470.330078976" xlink:href="#mcb0005524f" y="67.6101533313"/>
      </g>
     </g>
     <g id="text_13">
      <!-- $2$ -->
      <g transform="translate(14.9487437247 70.0983202639)scale(0.1 -0.1)">
       <use transform="scale(0.996264009963)" xlink:href="#CMR17-50"/>
      </g>
     </g>
    </g>
    <g id="ytick_7">
     <g id="line2d_28">
      <g>
       <use style="stroke:#000000;stroke-width:0.5;" x="23.9300789763" xlink:href="#m728421d6d4" y="11.8101533313"/>
      </g>
     </g>
     <g id="line2d_29">
      <g>
       <use style="stroke:#000000;stroke-width:0.5;" x="470.330078976" xlink:href="#mcb0005524f" y="11.8101533313"/>
      </g>
     </g>
     <g id="text_14">
      <!-- $3$ -->
      <g transform="translate(14.9487437247 14.2983202639)scale(0.1 -0.1)">
       <use transform="scale(0.996264009963)" xlink:href="#CMR17-51"/>
      </g>
     </g>
    </g>
   </g>
   <g id="legend_1">
    <g id="patch_7">
     <path d="
M375.94 72.6032
L464.33 72.6032
L464.33 17.8102
L375.94 17.8102
z
" style="fill:#ffffff;stroke:#000000;stroke-linejoin:miter;"/>
    </g>
    <g id="line2d_30">
     <path d="
M384.34 26.9281
L401.14 26.9281" style="fill:none;stroke:#3465a4;stroke-linecap:square;stroke-width:2;"/>
    </g>
    <g id="line2d_31"/>
    <g id="text_15">
     <!-- Mean -->
     <defs>
      <path d="
M7 52.4844
L7 0
L15.4062 0
L15.4062 28.9531
C15.4062 39.6719 21 46.6875 29.5938 46.6875
C36.2031 46.6875 40.4062 42.6719 40.4062 36.3594
L40.4062 0
L48.7031 0
L48.7031 39.6719
C48.7031 48.3906 42.2031 54 32.0938 54
C24.2969 54 19.2969 50.9844 14.7031 43.6875
L14.7031 52.4844
z
" id="Nimbus_Sans_L_Regular-110"/>
      <path d="
M51.2969 24
C51.2969 31.875 50.7031 36.5938 49.2031 40.4219
C45.7969 48.875 37.7969 54 28 54
C13.4062 54 4 42.8438 4 25.7031
C4 8.54688 13.0938 -2 27.7969 -2
C39.7969 -2 48.0938 4.875 50.2031 16.375
L41.7969 16.375
C39.5 9.35938 34.7969 5.70312 28.0938 5.70312
C22.7969 5.70312 18.2969 8.14062 15.5 12.6094
C13.5 15.6562 12.7969 18.7188 12.7031 24
z

M12.9062 30.8125
C13.5938 40.1875 19.5 46.2812 27.9062 46.2812
C36.0938 46.2812 42.4062 39.7031 42.4062 31.4062
C42.4062 31.2031 42.4062 31.0156 42.2969 30.8125
z
" id="Nimbus_Sans_L_Regular-101"/>
      <path d="
M46.7969 -0.03125
L67.2969 61.1719
L67.2969 -0.03125
L76.0938 -0.03125
L76.0938 73
L63.2031 73
L42 9.39062
L20.4062 73
L7.5 73
L7.5 -0.03125
L16.2969 -0.03125
L16.2969 61.1719
L37 -0.03125
z
" id="Nimbus_Sans_L_Regular-77"/>
      <path d="
M53.5 5.20312
C52.5938 5 52.2031 5 51.7031 5
C48.7969 5 47.2031 6.48438 47.2031 9.07812
L47.2031 39.7656
C47.2031 49.0156 40.4062 54 27.5 54
C19.9062 54 13.5938 51.8125 10.0938 47.9062
C7.70312 45.2031 6.70312 42.2188 6.5 37.0312
L14.9062 37.0312
C15.5938 43.3906 19.4062 46.2812 27.2031 46.2812
C34.7031 46.2812 38.9062 43.4844 38.9062 38.5156
L38.9062 36.3281
C38.9062 32.8281 36.7969 31.3438 30.2031 30.5469
C18.4062 29.0625 16.5938 28.6562 13.4062 27.3594
C7.29688 24.875 4.20312 20.1875 4.20312 13.4219
C4.20312 3.96875 10.7969 -2 21.4062 -2
C28 -2 33.2969 0.296875 39.2031 5.70312
C39.7969 0.390625 42.4062 -2 47.7969 -2
C49.5 -2 50.7969 -1.8125 53.5 -1.09375
z

M38.9062 16.75
C38.9062 13.9531 38.0938 12.2656 35.5938 9.98438
C32.2031 6.89062 28.0938 5.3125 23.2031 5.3125
C16.7031 5.3125 12.9062 8.39062 12.9062 13.6562
C12.9062 19.1406 16.5938 21.9219 25.5 23.2188
C34.2969 24.4062 36.0938 24.8125 38.9062 26.0938
z
" id="Nimbus_Sans_L_Regular-97"/>
     </defs>
     <g transform="translate(414.340105342 31.1281376479)scale(0.12 -0.12)">
      <use transform="scale(0.996264009963)" xlink:href="#Nimbus_Sans_L_Regular-77"/>
      <use transform="translate(82.9884302275 0.0)scale(0.996264009963)" xlink:href="#Nimbus_Sans_L_Regular-101"/>
      <use transform="translate(138.380107191 0.0)scale(0.996264009963)" xlink:href="#Nimbus_Sans_L_Regular-97"/>
      <use transform="translate(193.771784154 0.0)scale(0.996264009963)" xlink:href="#Nimbus_Sans_L_Regular-110"/>
     </g>
    </g>
    <g id="PathCollection_3">
     <path d="
M382.104 45.0425
L382.104 39.4523
L384.34 33.8622
L386.576 39.4523
L386.576 45.0425
z
" style="fill:#a40000;"/>
     <path d="
M390.504 43.9925
L390.504 38.4023
L392.74 32.8122
L394.976 38.4023
L394.976 43.9925
z
" style="fill:#a40000;"/>
     <path d="
M398.904 45.5675
L398.904 39.9773
L401.14 34.3872
L403.376 39.9773
L403.376 45.5675
z
" style="fill:#a40000;"/>
    </g>
    <g id="text_16">
     <!-- Inducing -->
     <defs>
      <path d="
M47.0938 34.9375
C46.7031 40.0312 45.5938 43.3281 43.5938 46.2188
C40 51.1094 33.7031 54 26.4062 54
C12.2969 54 3.09375 42.8438 3.09375 25.5
C3.09375 8.65625 12.0938 -2 26.2969 -2
C38.7969 -2 46.7031 5.46875 47.7031 18.2344
L39.2969 18.2344
C37.9062 9.875 33.5938 5.70312 26.5 5.70312
C17.2969 5.70312 11.7969 13.1719 11.7969 25.5
C11.7969 38.5312 17.2031 46.2812 26.2969 46.2812
C33.2969 46.2812 37.7031 42.2031 38.7031 34.9375
z
" id="Nimbus_Sans_L_Regular-99"/>
      <path d="
M48.2031 0.515625
L48.2031 53
L39.9062 53
L39.9062 23.1094
C39.9062 12.3438 34.2969 5.3125 25.5938 5.3125
C19 5.3125 14.7969 9.32812 14.7969 15.6719
L14.7969 53
L6.5 53
L6.5 12.375
C6.5 3.625 13 -2 23.2031 -2
C30.9062 -2 35.7969 0.703125 40.7031 7.625
L40.7031 0.515625
z
" id="Nimbus_Sans_L_Regular-117"/>
      <path d="
M19.4062 73
L10 73
L10 -0.03125
L19.4062 -0.03125
z
" id="Nimbus_Sans_L_Regular-73"/>
      <path d="
M15 52.4844
L6.70312 52.4844
L6.70312 0
L15 0
z

M15 73
L6.59375 73
L6.59375 62.4844
L15 62.4844
z
" id="Nimbus_Sans_L_Regular-105"/>
      <path d="
M49.5 73
L41.2031 73
L41.2031 45.8906
C37.7031 51.1875 32.0938 54 25.0938 54
C11.5 54 2.59375 43.1406 2.59375 26.4844
C2.59375 8.84375 11.2969 -2 25.4062 -2
C32.5938 -2 37.5938 0.703125 42.0938 7.20312
L42.0938 -0.03125
L49.5 -0.03125
z

M26.5 46.1875
C35.5 46.1875 41.2031 38.2344 41.2031 25.7969
C41.2031 13.7656 35.4062 5.8125 26.5938 5.8125
C17.4062 5.8125 11.2969 13.8594 11.2969 26
C11.2969 38.125 17.4062 46.1875 26.5 46.1875" id="Nimbus_Sans_L_Regular-100"/>
      <path d="
M41.2031 52.2031
L41.2031 44.5938
C37 50.8125 31.9062 53.7188 25.2031 53.7188
C11.9062 53.7188 2.90625 42.0625 2.90625 25
C2.90625 16.375 5.20312 9.34375 9.5 4.3125
C13.4062 -0.109375 19 -2.70312 24.5 -2.70312
C31.0938 -2.70312 35.7031 0.09375 40.4062 6.70312
L40.4062 4.03125
C40.4062 -3 39.5 -7.26562 37.4062 -10.1406
C35.2031 -13.1875 30.9062 -14.9844 25.7969 -14.9844
C22 -14.9844 18.5938 -14 16.2969 -12.2344
C14.4062 -10.75 13.5938 -9.375 13.0938 -6.34375
L4.59375 -6.34375
C5.5 -16.1406 13.2031 -22 25.5 -22
C33.2969 -22 40 -19.4844 43.4062 -15.2969
C47.4062 -10.4844 48.9062 -3.89062 48.9062 8.40625
L48.9062 52.2031
z

M26.0938 46
C35.0938 46 40.4062 38.375 40.4062 25.2031
C40.4062 12.625 35 5 26.2031 5
C17.0938 5 11.5938 12.75 11.5938 25.5
C11.5938 38.1562 17.2031 46 26.0938 46" id="Nimbus_Sans_L_Regular-103"/>
     </defs>
     <g transform="translate(414.340105342 48.1924965218)scale(0.12 -0.12)">
      <use transform="scale(0.996264009963)" xlink:href="#Nimbus_Sans_L_Regular-73"/>
      <use transform="translate(27.6951696032 0.0)scale(0.996264009963)" xlink:href="#Nimbus_Sans_L_Regular-110"/>
      <use transform="translate(83.0868465666 0.0)scale(0.996264009963)" xlink:href="#Nimbus_Sans_L_Regular-100"/>
      <use transform="translate(138.47852353 0.0)scale(0.996264009963)" xlink:href="#Nimbus_Sans_L_Regular-117"/>
      <use transform="translate(193.870200493 0.0)scale(0.996264009963)" xlink:href="#Nimbus_Sans_L_Regular-99"/>
      <use transform="translate(243.683400991 0.0)scale(0.996264009963)" xlink:href="#Nimbus_Sans_L_Regular-105"/>
      <use transform="translate(265.80018534 0.0)scale(0.996264009963)" xlink:href="#Nimbus_Sans_L_Regular-110"/>
      <use transform="translate(321.191862303 0.0)scale(0.996264009963)" xlink:href="#Nimbus_Sans_L_Regular-103"/>
     </g>
    </g>
    <g id="PathCollection_4">
     <path d="
M382.104 64.3429
L386.576 59.8708
M382.104 59.8708
L386.576 64.3429" style="fill:#3465a4;stroke:#000000;stroke-width:1.5;"/>
     <path d="
M390.504 63.2929
L394.976 58.8208
M390.504 58.8208
L394.976 63.2929" style="fill:#3465a4;stroke:#000000;stroke-width:1.5;"/>
     <path d="
M398.904 64.8679
L403.376 60.3958
M398.904 60.3958
L403.376 64.8679" style="fill:#3465a4;stroke:#000000;stroke-width:1.5;"/>
    </g>
    <g id="text_17">
     <!-- Data -->
     <defs>
      <path d="
M8.90625 0
L37 0
C55.4062 0 66.7031 13.8281 66.7031 36.5469
C66.7031 59.1719 55.5 73 37 73
L8.90625 73
z

M18.2031 8.21875
L18.2031 64.7812
L35.4062 64.7812
C49.7969 64.7812 57.4062 55.0625 57.4062 36.4531
C57.4062 18.0312 49.7969 8.21875 35.4062 8.21875
z
" id="Nimbus_Sans_L_Regular-68"/>
      <path d="
M25.4062 52.8125
L16.7969 52.8125
L16.7969 67
L8.5 67
L8.5 52.8125
L1.40625 52.8125
L1.40625 46
L8.5 46
L8.5 6.3125
C8.5 1 12.0938 -2 18.5938 -2
C20.5938 -2 22.5938 -1.8125 25.4062 -1.29688
L25.4062 5.71875
C24.2969 5.40625 23 5.3125 21.4062 5.3125
C17.7969 5.3125 16.7969 6.3125 16.7969 10.0156
L16.7969 46
L25.4062 46
z
" id="Nimbus_Sans_L_Regular-116"/>
     </defs>
     <g transform="translate(414.340105342 65.2568553958)scale(0.12 -0.12)">
      <use transform="scale(0.996264009963)" xlink:href="#Nimbus_Sans_L_Regular-68"/>
      <use transform="translate(71.9299848469 0.0)scale(0.996264009963)" xlink:href="#Nimbus_Sans_L_Regular-97"/>
      <use transform="translate(127.32166181 0.0)scale(0.996264009963)" xlink:href="#Nimbus_Sans_L_Regular-116"/>
      <use transform="translate(155.016831413 0.0)scale(0.996264009963)" xlink:href="#Nimbus_Sans_L_Regular-97"/>
     </g>
    </g>
   </g>
  </g>
 </g>
 <defs>
  <clipPath id="p7d95086114">
   <rect height="334.8" width="446.4" x="23.9300789763" y="11.8101533313"/>
  </clipPath>
 </defs>
</svg>

</div>

</div>

</div>
</div>

</div>
<div class="cell border-box-sizing text_cell rendered">
<div class="prompt input_prompt">
</div>
<div class="inner_cell">
<div class="text_cell_render border-box-sizing rendered_html">
<p>We can even change the backend for plotting and plot the model using a different backend.</p>

</div>
</div>
</div>
<div class="cell border-box-sizing code_cell rendered">
<div class="input">
<div class="prompt input_prompt">In&nbsp;[21]:</div>
<div class="inner_cell">
    <div class="input_area">
<div class=" highlight hl-ipython2"><pre><span></span><span class="n">GPy</span><span class="o">.</span><span class="n">plotting</span><span class="o">.</span><span class="n">change_plotting_library</span><span class="p">(</span><span class="s1">&#39;plotly&#39;</span><span class="p">)</span>
<span class="n">fig</span> <span class="o">=</span> <span class="n">m</span><span class="o">.</span><span class="n">plot</span><span class="p">(</span><span class="n">plot_density</span><span class="o">=</span><span class="bp">True</span><span class="p">)</span>
<span class="n">GPy</span><span class="o">.</span><span class="n">plotting</span><span class="o">.</span><span class="n">show</span><span class="p">(</span><span class="n">fig</span><span class="p">,</span> <span class="n">filename</span><span class="o">=</span><span class="s1">&#39;gpy_sparse_gp_example&#39;</span><span class="p">)</span>
</pre></div>

</div>
</div>
</div>

<div class="output_wrapper">
<div class="output">


<div class="output_area"><div class="prompt"></div>
<div class="output_subarea output_stream output_stdout output_text">
<pre>This is the format of your plot grid:
[ (1,1) x1,y1 ]

</pre>
</div>
</div>

<div class="output_area"><div class="prompt output_prompt">Out[21]:</div>

<div class="output_html rendered_html output_subarea output_execute_result">
<iframe id="igraph" scrolling="no" style="border:none;"seamless="seamless" src="https://plot.ly/~maxz/633.embed" height="525px" width="100%"></iframe>
</div>

</div>

</div>
</div>

</div>
<div class="cell border-box-sizing code_cell rendered">
<div class="input">
<div class="prompt input_prompt">In&nbsp;[&nbsp;]:</div>
<div class="inner_cell">
    <div class="input_area">
<div class=" highlight hl-ipython2"><pre><span></span> 
</pre></div>

</div>
</div>
</div>

</div>
    </div>
  </div>

  </div>


  
    <footer class="footer hidden-print">
      <div class="container">
        <div class="col-md-4">
          <p>
            This website does not host notebooks, it only renders notebooks
            available on other websites.
          </p>
        </div>

        <div class="col-md-4">
          <p>
            Delivered by <a href="http://www.fastly.com/">Fastly</a>,
            Rendered by <a href="https://developer.rackspace.com/?nbviewer=awesome">Rackspace</a>
          </p>
          <p>
            nbviewer GitHub <a href="https://github.com/jupyter/nbviewer">repository</a>.
          </p>
        </div>

        <div class="col-md-4">
          
  
            
              <p>
                nbviewer version:
                <a href="https://github.com/jupyter/nbviewer/commit/0bf9258c078c4b09eec914172d10524e644cdb4e">
                  0bf9258
                </a>
              </p>
            
          
  
  <p>
    nbconvert version: <a href="https://github.com/jupyter/nbconvert/releases/tag/4.2.0">
      4.2.0
    </a>
  </p>
  

          
  
  
  <p>
    Rendered
    <span class='date' data-date='Tue, 09 Aug 2016 12:55:00 UTC' title='Tue, 09 Aug 2016 12:55:00 UTC'>(Tue, 09 Aug 2016 12:55:00 UTC)</span>
  </p>
  

        </div>
      </div>
    </footer>
  

  <script src="/static/components/bootstrap/js/bootstrap.min.js"></script>
  <script src="/static/components/headroom.js/dist/headroom.min.js"></script>
  <script src="/static/components/headroom.js/dist/jQuery.headroom.min.js"></script>

  
  
  <script>
    $(function(){ $("#menubar").headroom({
      tolerance: 5,
      offset: 205,
      classes: {
        initial: "animated",
        pinned: "slideInDown",
        unpinned: "slideOutUp"
      }
    })});
  </script>


  <script>
    (function(i,s,o,g,r,a,m){i['GoogleAnalyticsObject']=r;i[r]=i[r]||function(){
      (i[r].q=i[r].q||[]).push(arguments)},i[r].l=1*new Date();a=s.createElement(o),
      m=s.getElementsByTagName(o)[0];a.async=1;a.src=g;m.parentNode.insertBefore(a,m)
    })(window,document,'script','//www.google-analytics.com/analytics.js','ga');
    ga('create', 'UA-38683231-2', 'auto');
    ga('send', 'pageview');
  </script>
  <script>
    require({
        paths: {
          moment: "/static/components/moment/min/moment.min.js"
        }
      }, ["moment"], function(moment){
      var date = $("footer .date"),
        m = moment(new Date(date.data('date'))),
        update = function(){ date.text(m.fromNow()); };
      setInterval(update, 61*1000);
      update();
      var w = $(window).scroll(function(event){
        $("body").toggleClass("scrolled", w.scrollTop() > 0);
      });
    });
  </script>
  <!--NEW RELIC Stop Perf Measurement-->
  
  <!--NEW RELIC End-->
</body>
</html>
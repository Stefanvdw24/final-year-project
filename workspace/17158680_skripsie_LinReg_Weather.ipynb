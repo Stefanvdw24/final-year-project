{
 "cells": [
  {
   "cell_type": "markdown",
   "metadata": {},
   "source": [
    "## Project (E) 448\n",
    "## Linear Regression - Multi-Dimensional Predictive Distribution\n",
    "## Demonstration: Weather Sample\n",
    "### Daniël S. van der Westhuizen\n",
    "### 17158680"
   ]
  },
  {
   "cell_type": "code",
   "execution_count": 1,
   "metadata": {
    "collapsed": true
   },
   "outputs": [],
   "source": [
    "import numpy as np\n",
    "import pylab as pl\n",
    "from numpy.linalg import inv\n",
    "from functions import *"
   ]
  },
  {
   "cell_type": "markdown",
   "metadata": {},
   "source": [
    "Here is another demonstration of the prediction using linear regression.\n",
    "\n",
    "The input space is the date, the minimum temperature, and the maximum temperature of a weather station. The output is the precipitation"
   ]
  },
  {
   "cell_type": "code",
   "execution_count": 2,
   "metadata": {
    "collapsed": true
   },
   "outputs": [],
   "source": [
    "from numpy import loadtxt\n",
    "lines = loadtxt(\"weather_station_sample_new.csv\", comments=\"#\", delimiter=\",\", usecols = (5,6,7,8), unpack=False)"
   ]
  },
  {
   "cell_type": "code",
   "execution_count": 3,
   "metadata": {
    "collapsed": true
   },
   "outputs": [],
   "source": [
    "for b in range(0,365):\n",
    "    lines[b,0] = b\n",
    "for a in range(0,3):\n",
    "    lines[:,a] = (lines[:,a] - np.average(lines[:,a]))  / (np.average(np.abs(lines[:,a])))"
   ]
  },
  {
   "cell_type": "markdown",
   "metadata": {},
   "source": [
    "The data of every second day is used as the training data. All the samples will be the test data."
   ]
  },
  {
   "cell_type": "code",
   "execution_count": 4,
   "metadata": {
    "collapsed": true
   },
   "outputs": [],
   "source": [
    "n = 2 #training data is every nth day\n",
    "N_train = (int)((365/n)//1)\n",
    "foo = np.linspace(1,365,N_train)//1\n",
    "foo = np.ones(N_train,dtype=np.int16)\n",
    "for a in range(0,N_train):\n",
    "    foo[a] = foo[a]*a*2\n",
    "train_y = lines[foo,3]\n",
    "train_x = lines[foo,:3]\n",
    "test_x = lines[:,:3]\n",
    "test_y = lines[:,3]\n",
    "\n",
    "D = 3 #input dimensionality\n",
    "M = 8 #basis function ticks for each dimension (i.e. M^D basis functions)\n",
    "alpha = 1\n",
    "beta = 5\n",
    "s = 0.3"
   ]
  },
  {
   "cell_type": "markdown",
   "metadata": {},
   "source": [
    "Let's first test it by setting M = 5. That means there will be D^M = 3^5 = 243 basis functions."
   ]
  },
  {
   "cell_type": "code",
   "execution_count": 30,
   "metadata": {
    "collapsed": true
   },
   "outputs": [],
   "source": [
    "means = np.zeros((M**D,D))\n",
    "done = 0\n",
    "mu_vector_amount = M**D\n",
    "row_count = 0\n",
    "column_count = 0\n",
    "for a in range(0,mu_vector_amount*D):\n",
    "    means[row_count,column_count] = ( (row_count//(M**column_count))%M*2/(M-1)) - 1\n",
    "    row_count += 1\n",
    "    if (row_count == mu_vector_amount):\n",
    "        row_count = 0\n",
    "        column_count += 1"
   ]
  },
  {
   "cell_type": "code",
   "execution_count": 31,
   "metadata": {
    "collapsed": false
   },
   "outputs": [],
   "source": [
    "design_matrix = np.zeros((N_train,M**D))\n",
    "for a in range(0,M**D):\n",
    "    for b in range(0,N_train):\n",
    "        design_matrix[b,a] = basis(train_x[b,:],means[a,:],s)\n",
    "S_N = inv( alpha*(np.identity(M**D)) + beta*np.dot(design_matrix.transpose(),design_matrix) )\n",
    "m_N = beta * (   np.dot( np.dot(S_N,design_matrix.transpose()), np.atleast_2d(train_y).transpose() ) )"
   ]
  },
  {
   "cell_type": "code",
   "execution_count": 32,
   "metadata": {
    "collapsed": false
   },
   "outputs": [],
   "source": [
    "pred_means = np.zeros(np.shape(test_x)[0])\n",
    "for b in range(0,np.shape(test_x)[0]):\n",
    "    \n",
    "    phi_vector_pred = np.zeros(M**D)\n",
    "    for a in range(0,M**D):\n",
    "        phi_vector_pred[a] = basis(test_x[b,:],means[a],s)\n",
    "    phi_vector_pred = np.atleast_2d(phi_vector_pred).transpose()\n",
    "\n",
    "    pred_means[b] = np.dot( m_N.transpose(), phi_vector_pred )"
   ]
  },
  {
   "cell_type": "markdown",
   "metadata": {},
   "source": [
    "The calculations was completed in a moment\n",
    "\n",
    "Results:"
   ]
  },
  {
   "cell_type": "code",
   "execution_count": 33,
   "metadata": {
    "collapsed": false
   },
   "outputs": [
    {
     "name": "stdout",
     "output_type": "stream",
     "text": [
      "average of the predicted precipitation: 5.55043270768\n",
      "average of the actual precipitation: 5.5397260274\n",
      "0.458596200295\n"
     ]
    }
   ],
   "source": [
    "print(\"average of the predicted precipitation:\",np.average(pred_means))\n",
    "print(\"average of the actual precipitation:\",np.average(test_y))\n",
    "pred_error = np.average(np.abs(pred_means - test_y))\n",
    "print(pred_error)"
   ]
  },
  {
   "cell_type": "markdown",
   "metadata": {},
   "source": [
    "Here are the predicted results for various values of M:\n",
    "\n",
    "M=4: 4.74  1.2\n",
    "\n",
    "M=5: 5.39  0.601\n",
    "\n",
    "M=6: 5.49   0.465\n",
    "\n",
    "M=7: 5.40   0.44\n",
    "\n",
    "M=8: 5.531   0.425\n",
    "\n",
    "M=9: 5.54   0.42  (Here the calculations took a few seconds)\n",
    "\n",
    "M=10: 5.54   0.418"
   ]
  },
  {
   "cell_type": "code",
   "execution_count": 13,
   "metadata": {
    "collapsed": false
   },
   "outputs": [
    {
     "data": {
      "text/plain": [
       "1.8607386952375067"
      ]
     },
     "execution_count": 13,
     "metadata": {},
     "output_type": "execute_result"
    }
   ],
   "source": [
    "pred_means[6]"
   ]
  },
  {
   "cell_type": "code",
   "execution_count": 14,
   "metadata": {
    "collapsed": false
   },
   "outputs": [
    {
     "data": {
      "text/plain": [
       "2.0"
      ]
     },
     "execution_count": 14,
     "metadata": {},
     "output_type": "execute_result"
    }
   ],
   "source": [
    "test_y[6]"
   ]
  },
  {
   "cell_type": "code",
   "execution_count": null,
   "metadata": {
    "collapsed": true
   },
   "outputs": [],
   "source": []
  },
  {
   "cell_type": "code",
   "execution_count": null,
   "metadata": {
    "collapsed": true
   },
   "outputs": [],
   "source": []
  },
  {
   "cell_type": "code",
   "execution_count": null,
   "metadata": {
    "collapsed": true
   },
   "outputs": [],
   "source": []
  },
  {
   "cell_type": "code",
   "execution_count": 8,
   "metadata": {
    "collapsed": true
   },
   "outputs": [],
   "source": [
    "error_array = np.zeros(8)\n",
    "test_pred_error_vari_array = np.zeros(8)\n",
    "calc_time_array = np.zeros(8)\n",
    "for a in range(3,11):\n",
    "    q,w,e,r,t = lin_reg_pred_distrib(train_x,train_y,test_x,test_y,a,alpha,beta,s)\n",
    "    error_array[a-3] = e\n",
    "    test_pred_error_vari_array[a-3] = r\n",
    "    calc_time_array[a-3] = t"
   ]
  },
  {
   "cell_type": "code",
   "execution_count": 9,
   "metadata": {
    "collapsed": false
   },
   "outputs": [
    {
     "data": {
      "image/png": "[encoded data removed]",
      "text/plain": [
       "<matplotlib.figure.Figure at 0x7d0ff98>"
      ]
     },
     "metadata": {},
     "output_type": "display_data"
    }
   ],
   "source": [
    "%matplotlib inline\n",
    "pl.figure(figsize=(6,3))\n",
    "plot_x = np.linspace(0,7,8) + 3\n",
    "pl.plot(plot_x,calc_time_array/10,label='time (decaseconds)')\n",
    "pl.plot(plot_x,error_array,label='average error')\n",
    "pl.plot(plot_x,test_pred_error_vari_array,label='error variance')\n",
    "pl.legend(loc='upper center')\n",
    "pl.xlabel('M', fontsize=15)\n",
    "pl.locator_params(axis = 'x', nbins = 8)\n",
    "pl.grid(b=True, which='both', color='0.65',linestyle='-')"
   ]
  },
  {
   "cell_type": "code",
   "execution_count": null,
   "metadata": {
    "collapsed": true
   },
   "outputs": [],
   "source": []
  }
 ],
 "metadata": {
  "kernelspec": {
   "display_name": "Python 3",
   "language": "python",
   "name": "python3"
  },
  "language_info": {
   "codemirror_mode": {
    "name": "ipython",
    "version": 3
   },
   "file_extension": ".py",
   "mimetype": "text/x-python",
   "name": "python",
   "nbconvert_exporter": "python",
   "pygments_lexer": "ipython3",
   "version": "3.4.3"
  }
 },
 "nbformat": 4,
 "nbformat_minor": 0
}

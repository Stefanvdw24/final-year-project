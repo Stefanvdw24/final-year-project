{
 "cells": [
  {
   "cell_type": "markdown",
   "metadata": {},
   "source": [
    "## Project (E) 448\n",
    "## Linear Regression - Evidence Approximation\n",
    "### Daniël S. van der Westhuizen\n",
    "### 17158680"
   ]
  },
  {
   "cell_type": "code",
   "execution_count": 1,
   "metadata": {
    "collapsed": true
   },
   "outputs": [],
   "source": [
    "import numpy as np\n",
    "import pylab as pl\n",
    "from numpy.linalg import inv\n",
    "from functions import *"
   ]
  },
  {
   "cell_type": "markdown",
   "metadata": {},
   "source": [
    "I will attempt to use the evidence approximation method to estimate the hyperparameters using the same data supplied for the one-dimensional predictive distribution linear regression demonstration."
   ]
  },
  {
   "cell_type": "code",
   "execution_count": 2,
   "metadata": {
    "collapsed": true
   },
   "outputs": [],
   "source": [
    "N = 25\n",
    "x = np.linspace(0,1,N)\n",
    "#x = [ 0,0.45,0.55,1]\n",
    "t = np.zeros(N)\n",
    "for a in range(0,N):\n",
    "    t[a] = np.sin(x[a]*2*np.pi) + np.random.normal(0,0.2) + x[a]\n",
    "    "
   ]
  },
  {
   "cell_type": "code",
   "execution_count": 3,
   "metadata": {
    "collapsed": true
   },
   "outputs": [],
   "source": [
    "s=0.2\n",
    "mu = np.linspace(0,2,9)\n",
    "phi_vector = ['0','0','0','0','0','0','0','0','0']\n",
    "def phi(x,mu):\n",
    "    phi = np.exp(-((x-mu)**2)/(2*(s**2)))\n",
    "    return phi"
   ]
  },
  {
   "cell_type": "code",
   "execution_count": 4,
   "metadata": {
    "collapsed": true
   },
   "outputs": [],
   "source": [
    "alpha = 1\n",
    "beta = 5"
   ]
  },
  {
   "cell_type": "code",
   "execution_count": 5,
   "metadata": {
    "collapsed": false
   },
   "outputs": [],
   "source": [
    "design_matrix = np.zeros((N,9))\n",
    "for a in range(0,9):\n",
    "    for b in range(0,N):\n",
    "        design_matrix[b,a] = phi(x,mu[a])[b]\n",
    "S_N = inv( alpha*(np.identity(9)) + beta*np.dot(design_matrix.transpose(),design_matrix) )\n",
    "m_N = beta * (   np.dot( np.dot(S_N,design_matrix.transpose()), np.atleast_2d(t).transpose() ) )"
   ]
  },
  {
   "cell_type": "markdown",
   "metadata": {},
   "source": [
    "$ \\lambda_{\\textit{i}} $ is the eigenvalues of $ \\Phi^{T} \\Phi $ from equation (3.81)\n",
    "\n",
    "$$ \\gamma = \\sum_{i}^{} \\frac{\\lambda_{\\textit{i}}}{\\alpha + \\lambda_\\textit{i}}   \\qquad  (3.91) $$\n",
    "\n",
    "$$ \\textbf{m}_N = \\beta \\textbf{S}_N \\Phi^{\\textsf{T}} \\textbf{t} \\qquad (3.53) $$\n",
    "\n",
    "$$ \\alpha = \\frac{\\gamma}{\\textbf{m}_N^T \\textbf{m}_N}   \\qquad (3.92)  $$\n",
    "\n",
    "$$ \\frac{1}{\\beta} = \\frac{1}{N-\\gamma} \\sum_{n=1}^{N}\\{ t_n - \\textbf{m}_N^T \\phi(\\textsf{x}_n) \\}^2  \\qquad (3.95)  $$\n",
    "\n",
    "I will start with $\\alpha = 1$ and $\\beta = 1$ and iteratively evaluate these two parameters with (3.92) and (3.95)  until they converge."
   ]
  },
  {
   "cell_type": "code",
   "execution_count": 6,
   "metadata": {
    "collapsed": false
   },
   "outputs": [
    {
     "name": "stdout",
     "output_type": "stream",
     "text": [
      "eigenvalues:  [  1.95336891e+01   1.04639874e+01   3.80718140e+00   9.80485731e-01\n",
      "   2.12282749e-01   1.18246368e-02   9.64839647e-06   2.20486236e-10\n",
      "   1.64895065e-16]\n",
      "lambda =  1.37740316414\n",
      "alpha =  12.7002358904\n",
      "beta =  0.980361918871\n"
     ]
    }
   ],
   "source": [
    "alpha = 1\n",
    "beta = 1\n",
    "\n",
    "eigenvalues = np.linalg.eig( np.dot( design_matrix.transpose(), design_matrix) )[0]\n",
    "print(\"eigenvalues: \", eigenvalues)\n",
    "\n",
    "N_iter = 50 #Number of iterations\n",
    "\n",
    "for a in range(0,N_iter):\n",
    "    \n",
    "    lambda_var = 0\n",
    "    for b in range(0,9):\n",
    "        lambda_var += eigenvalues[b] / (alpha + eigenvalues[b])\n",
    "        \n",
    "    m_N = beta * ( np.dot( np.dot(S_N,design_matrix.transpose()),\n",
    "                          np.atleast_2d(t).transpose() ) )\n",
    "        \n",
    "    alpha = lambda_var / np.dot( m_N.transpose(), m_N)[0,0]\n",
    "    \n",
    "    sum_term = 0    #first we'll evaluate the sigma factor in equation (3.95)\n",
    "    \n",
    "    for b in range(0,N):\n",
    "        phi_vector_pred = np.zeros(9)\n",
    "        for a in range(0,9):\n",
    "            phi_vector_pred[a] = phi(x[b],mu[a])\n",
    "        phi_vector_pred = np.atleast_2d(phi_vector_pred).transpose()\n",
    "        sum_term += ( t[a] - np.dot( m_N.transpose() , phi_vector_pred ) )**2\n",
    "        \n",
    "    beta = 1 / (  ( 1 / ( N - lambda_var ) ) * sum_term[0,0]  )\n",
    "    \n",
    "print(\"lambda = \", lambda_var)\n",
    "print(\"alpha = \", alpha)\n",
    "print(\"beta = \",beta)"
   ]
  },
  {
   "cell_type": "markdown",
   "metadata": {},
   "source": [
    "There must be something wrong with either the code or my understanding of the mathematics because these hyperparameter values does not work as well as the ones I have selected."
   ]
  }
 ],
 "metadata": {
  "kernelspec": {
   "display_name": "Python 3",
   "language": "python",
   "name": "python3"
  },
  "language_info": {
   "codemirror_mode": {
    "name": "ipython",
    "version": 3
   },
   "file_extension": ".py",
   "mimetype": "text/x-python",
   "name": "python",
   "nbconvert_exporter": "python",
   "pygments_lexer": "ipython3",
   "version": "3.4.3"
  }
 },
 "nbformat": 4,
 "nbformat_minor": 0
}

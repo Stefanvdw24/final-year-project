{
 "cells": [
  {
   "cell_type": "markdown",
   "metadata": {},
   "source": [
    "## Project (E) 448\n",
    "## Linear Regression - Multi-Dimensional Predictive Distribution\n",
    "## Demonstration: Wine Quality Data Set\n",
    "### Daniël S. van der Westhuizen\n",
    "### 17158680"
   ]
  },
  {
   "cell_type": "code",
   "execution_count": 19,
   "metadata": {
    "collapsed": true
   },
   "outputs": [],
   "source": [
    "import numpy as np\n",
    "import pylab as pl\n",
    "from numpy.linalg import inv\n",
    "from functions import *"
   ]
  },
  {
   "cell_type": "markdown",
   "metadata": {},
   "source": [
    "So, now that I have confirmed that my code works on this synthetic data set, let me try it on real world data sets. The data sets should not have many dimensions or the algorhithm's computation time will be too long. For example, just setting up basis function means (for M=9) for data with 9 or more dimensions returns a memory error and takes very long for 8.\n",
    "\n",
    "I decided to try it with the wine quality data set. It lists the properties of various wine products and a rating out of 10 for each of these."
   ]
  },
  {
   "cell_type": "code",
   "execution_count": 28,
   "metadata": {
    "collapsed": false
   },
   "outputs": [
    {
     "data": {
      "text/plain": [
       "array([[  8.5 ,   0.34,   0.44, ...,   0.63,  10.7 ,   5.  ],\n",
       "       [  6.4 ,   0.57,   0.14, ...,   0.48,   9.2 ,   5.  ],\n",
       "       [  6.4 ,   0.36,   0.53, ...,   0.93,  12.4 ,   6.  ],\n",
       "       ..., \n",
       "       [  6.7 ,   0.42,   0.27, ...,   0.57,  11.3 ,   6.  ],\n",
       "       [  9.3 ,   0.4 ,   0.49, ...,   0.55,   9.4 ,   5.  ],\n",
       "       [  7.1 ,   0.61,   0.02, ...,   0.6 ,   9.7 ,   6.  ]])"
      ]
     },
     "execution_count": 28,
     "metadata": {},
     "output_type": "execute_result"
    }
   ],
   "source": [
    "from numpy import loadtxt\n",
    "lines = loadtxt(\"winequality-red-shuffled.csv\", comments=\"#\", delimiter=\";\", unpack=False)\n",
    "lines"
   ]
  },
  {
   "cell_type": "code",
   "execution_count": 29,
   "metadata": {
    "collapsed": true
   },
   "outputs": [],
   "source": [
    "#Normalization\n",
    "for a in range(0,11):\n",
    "    lines[:,a] = (lines[:,a] - np.average(lines[:,a])) / (np.average(np.abs(lines[:,a])))"
   ]
  },
  {
   "cell_type": "code",
   "execution_count": 30,
   "metadata": {
    "collapsed": false
   },
   "outputs": [
    {
     "data": {
      "text/plain": [
       "array([[  2.16791575e-02,  -3.55841632e-01,   6.23762376e-01, ...,\n",
       "         -4.27697220e-02,   2.65775050e-02,   5.00000000e+00],\n",
       "       [ -2.30735693e-01,   7.99125577e-02,  -4.83348335e-01, ...,\n",
       "         -2.70681693e-01,  -1.17335229e-01,   5.00000000e+00],\n",
       "       [ -2.30735693e-01,  -3.17949964e-01,   9.55895590e-01, ...,\n",
       "          4.13054220e-01,   1.89678604e-01,   6.00000000e+00],\n",
       "       ..., \n",
       "       [ -1.94676429e-01,  -2.04274957e-01,  -3.60036004e-03, ...,\n",
       "         -1.33934510e-01,   8.41425987e-02,   6.00000000e+00],\n",
       "       [  1.17837196e-01,  -2.42166626e-01,   8.08280828e-01, ...,\n",
       "         -1.64322773e-01,  -9.81468648e-02,   5.00000000e+00],\n",
       "       [ -1.46597410e-01,   1.55695895e-01,  -9.26192619e-01, ...,\n",
       "         -8.83521162e-02,  -6.93643179e-02,   6.00000000e+00]])"
      ]
     },
     "execution_count": 30,
     "metadata": {},
     "output_type": "execute_result"
    }
   ],
   "source": [
    "lines"
   ]
  },
  {
   "cell_type": "markdown",
   "metadata": {},
   "source": [
    "I will use only six of the attributes so that not too much computation is needed"
   ]
  },
  {
   "cell_type": "code",
   "execution_count": 31,
   "metadata": {
    "collapsed": false
   },
   "outputs": [],
   "source": [
    "train_N = 50\n",
    "test_N = 100\n",
    "\n",
    "train_x = lines[:train_N,:5]\n",
    "train_y = lines[:train_N,11]\n",
    "test_x = lines[train_N:train_N+test_N,:5]\n",
    "test_y = lines[train_N:train_N+test_N,11]\n",
    "\n",
    "alpha = 1\n",
    "beta = 5\n",
    "s = 0.2"
   ]
  },
  {
   "cell_type": "markdown",
   "metadata": {},
   "source": [
    "Do further reduce computation time, I limit the number of basis functions I use (5^Dimension)."
   ]
  },
  {
   "cell_type": "code",
   "execution_count": 24,
   "metadata": {
    "collapsed": true
   },
   "outputs": [],
   "source": [
    "D = 5 #input dimensionality\n",
    "M = 3 #basis function ticks for each dimension (i.e. M^D basis functions)\n",
    "means = np.zeros((M**D,D))\n",
    "done = 0\n",
    "mu_vector_amount = M**D\n",
    "row_count = 0\n",
    "column_count = 0\n",
    "for a in range(0,mu_vector_amount*D):\n",
    "    means[row_count,column_count] = ( (row_count//(M**column_count))%M*2/(M-1)) - 1\n",
    "    row_count += 1\n",
    "    if (row_count == mu_vector_amount):\n",
    "        row_count = 0\n",
    "        column_count += 1"
   ]
  },
  {
   "cell_type": "code",
   "execution_count": 25,
   "metadata": {
    "collapsed": false
   },
   "outputs": [],
   "source": [
    "design_matrix = np.zeros((1000,M**D))\n",
    "for a in range(0,M**D):\n",
    "    for b in range(0,1000):\n",
    "        design_matrix[b,a] = basis(train_x[b,:],means[a,:],s)\n",
    "S_N = inv( alpha*(np.identity(M**D)) + beta*np.dot(design_matrix.transpose(),design_matrix) )\n",
    "m_N = beta * (   np.dot( np.dot(S_N,design_matrix.transpose()), np.atleast_2d(train_y).transpose() ) )"
   ]
  },
  {
   "cell_type": "code",
   "execution_count": 26,
   "metadata": {
    "collapsed": true
   },
   "outputs": [],
   "source": [
    "pred_means = np.zeros(np.shape(test_x)[0])\n",
    "for b in range(0,np.shape(test_x)[0]):\n",
    "    \n",
    "    phi_vector_pred = np.zeros(M**D)\n",
    "    for a in range(0,M**D):\n",
    "        phi_vector_pred[a] = basis(test_x[b,:],means[a],s)\n",
    "    phi_vector_pred = np.atleast_2d(phi_vector_pred).transpose()\n",
    "\n",
    "    pred_means[b] = np.dot( m_N.transpose(), phi_vector_pred )"
   ]
  },
  {
   "cell_type": "markdown",
   "metadata": {},
   "source": [
    "Despite the limitations I made, that prediction took about a minute to be computed. Also, the limitations had a price, because as shown below, the mean predictions deviate from the actual value by 11%.\n",
    "\n",
    "To-Do: Calculate the probability of the actual ratings."
   ]
  },
  {
   "cell_type": "code",
   "execution_count": 27,
   "metadata": {
    "collapsed": false
   },
   "outputs": [
    {
     "name": "stdout",
     "output_type": "stream",
     "text": [
      "average of the predicted ratings: 1.53244039123\n",
      "average of the actual ratings: 5.70401337793\n"
     ]
    }
   ],
   "source": [
    "print(\"average of the predicted ratings:\",np.average(pred_means))\n",
    "print(\"average of the actual ratings:\",np.average(test_y))"
   ]
  },
  {
   "cell_type": "code",
   "execution_count": null,
   "metadata": {
    "collapsed": true
   },
   "outputs": [],
   "source": []
  },
  {
   "cell_type": "code",
   "execution_count": null,
   "metadata": {
    "collapsed": true
   },
   "outputs": [],
   "source": []
  },
  {
   "cell_type": "code",
   "execution_count": 32,
   "metadata": {
    "collapsed": false
   },
   "outputs": [],
   "source": [
    "error_array = np.zeros(3)\n",
    "test_pred_error_vari_array = np.zeros(3)\n",
    "calc_time_array = np.zeros(3)\n",
    "for a in range(3,6):\n",
    "    q,w,e,r,t = lin_reg_pred_distrib(train_x,train_y,test_x,test_y,a,alpha,beta,s)\n",
    "    error_array[a-3] = e\n",
    "    test_pred_error_vari_array[a-3] = r\n",
    "    calc_time_array[a-3] = t"
   ]
  },
  {
   "cell_type": "code",
   "execution_count": 33,
   "metadata": {
    "collapsed": false
   },
   "outputs": [
    {
     "data": {
      "image/png": "[encoded data removed]",
      "text/plain": [
       "<matplotlib.figure.Figure at 0x7ebf588>"
      ]
     },
     "metadata": {},
     "output_type": "display_data"
    }
   ],
   "source": [
    "%matplotlib inline\n",
    "pl.figure(figsize=(6,3))\n",
    "plot_x = np.linspace(0,2,3) + 3\n",
    "pl.plot(plot_x,calc_time_array/10,label='time (decaseconds)')\n",
    "pl.plot(plot_x,error_array,label='average error')\n",
    "pl.plot(plot_x,test_pred_error_vari_array,label='error variance')\n",
    "pl.legend(loc='upper center')\n",
    "pl.xlabel('M', fontsize=15)\n",
    "pl.locator_params(axis = 'x', nbins = 2)\n",
    "pl.grid(b=True, which='both', color='0.65',linestyle='-')"
   ]
  },
  {
   "cell_type": "code",
   "execution_count": null,
   "metadata": {
    "collapsed": true
   },
   "outputs": [],
   "source": []
  }
 ],
 "metadata": {
  "kernelspec": {
   "display_name": "Python 3",
   "language": "python",
   "name": "python3"
  },
  "language_info": {
   "codemirror_mode": {
    "name": "ipython",
    "version": 3
   },
   "file_extension": ".py",
   "mimetype": "text/x-python",
   "name": "python",
   "nbconvert_exporter": "python",
   "pygments_lexer": "ipython3",
   "version": "3.4.3"
  }
 },
 "nbformat": 4,
 "nbformat_minor": 0
}

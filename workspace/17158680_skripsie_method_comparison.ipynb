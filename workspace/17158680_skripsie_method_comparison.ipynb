{
 "cells": [
  {
   "cell_type": "markdown",
   "metadata": {},
   "source": [
    "## Project (E) 448\n",
    "## Test\n",
    "### Daniël S. van der Westhuizen\n",
    "### 17158680"
   ]
  },
  {
   "cell_type": "code",
   "execution_count": 23,
   "metadata": {
    "collapsed": true
   },
   "outputs": [],
   "source": [
    "#imports\n",
    "import numpy as np\n",
    "import pylab as pl\n",
    "from numpy.linalg import inv\n",
    "from functions import *\n",
    "import time"
   ]
  },
  {
   "cell_type": "code",
   "execution_count": 24,
   "metadata": {
    "collapsed": false
   },
   "outputs": [],
   "source": [
    "T = 100 # number of training points\n",
    "\n",
    "train_x = np.random.rand(2,T)*2 - 1\n",
    "train_x = train_x.transpose()\n",
    "train_y = np.random.rand(T)\n",
    "for a in range(0,T):\n",
    "    x_loc = train_x[a,0]\n",
    "    y_loc = train_x[a,1]\n",
    "    r1 = np.exp( -( (( np.sqrt((x_loc+0.6)**2 + (y_loc+0.4)**2) ))**2) / (2*(0.3**2)) )\n",
    "    r2 = np.exp( -( (( np.sqrt((x_loc)**2 + (y_loc)**2) ))**2) / (2*(0.2**2)) )\n",
    "    r3 = np.exp( -( (( np.sqrt((x_loc-0.3)**2 + (y_loc-0.6)**2) ))**2) / (2*(0.2**2)) )\n",
    "    train_y[a] = r1 + r2 + r3\n",
    "\n",
    "resolution_width = 20\n",
    "\n",
    "test_x = np.zeros((resolution_width**2,2))\n",
    "row_count = 0\n",
    "column_count = 0\n",
    "for a in range(0,resolution_width):\n",
    "    for b in range(0,resolution_width):\n",
    "        x_loc = -1 + (b*(2/resolution_width))\n",
    "        y_loc = -1 + (a*(2/resolution_width))\n",
    "        test_x[a+resolution_width*b,0] = x_loc\n",
    "        test_x[a+resolution_width*b,1] = y_loc\n",
    "        \n",
    "test_y = np.zeros((resolution_width,resolution_width))\n",
    "for a in range(0,resolution_width):\n",
    "    for b in range(0,resolution_width):\n",
    "        x_loc = -1 + (b*(2/resolution_width))\n",
    "        y_loc = -1 + (a*(2/resolution_width))\n",
    "        r1 = np.exp( -( (( np.sqrt((x_loc+0.6)**2 + (y_loc+0.4)**2) ))**2) / (2*(0.3**2)) )\n",
    "        r2 = np.exp( -( (( np.sqrt((x_loc)**2 + (y_loc)**2) ))**2) / (2*(0.2**2)) )\n",
    "        r3 = np.exp( -( (( np.sqrt((x_loc-0.3)**2 + (y_loc-0.6)**2) ))**2) / (2*(0.2**2)) )\n",
    "        test_y[a][b] = r1 + r2 + r3\n",
    "test_y = test_y.transpose()\n",
    "test_y = test_y.ravel()\n",
    "\n",
    "alpha = 0.001\n",
    "beta = 5\n",
    "s = 0.2\n",
    "M = 9\n"
   ]
  },
  {
   "cell_type": "code",
   "execution_count": 19,
   "metadata": {
    "collapsed": false
   },
   "outputs": [],
   "source": [
    "error_array = np.zeros(7)\n",
    "test_pred_error_vari_array = np.zeros(7)\n",
    "calc_time_array = np.zeros(7)\n",
    "for a in range(3,10):\n",
    "    q,w,e,r,t = lin_reg_pred_distrib(train_x,train_y,test_x,test_y,a,alpha,beta,s)\n",
    "    error_array[a-3] = e\n",
    "    test_pred_error_vari_array[a-3] = r\n",
    "    calc_time_array[a-3] = t"
   ]
  },
  {
   "cell_type": "code",
   "execution_count": 22,
   "metadata": {
    "collapsed": false
   },
   "outputs": [
    {
     "data": {
      "image/png": "[encoded data removed]",
      "text/plain": [
       "<matplotlib.figure.Figure at 0x7a651d0>"
      ]
     },
     "metadata": {},
     "output_type": "display_data"
    }
   ],
   "source": [
    "%matplotlib inline\n",
    "pl.figure(figsize=(6,3))\n",
    "plot_x = np.linspace(0,6,7) + 3\n",
    "pl.plot(plot_x,calc_time_array/10,label='time (decaseconds)')\n",
    "pl.plot(plot_x,error_array,label='average error')\n",
    "pl.plot(plot_x,test_pred_error_vari_array,label='error variance')\n",
    "pl.legend(loc='upper left')\n",
    "pl.xlabel('M', fontsize=15)\n",
    "pl.grid(b=True, which='both', color='0.65',linestyle='-')"
   ]
  },
  {
   "cell_type": "code",
   "execution_count": null,
   "metadata": {
    "collapsed": false
   },
   "outputs": [],
   "source": [
    "q,w,e,r,t = lin_reg_pred_distrib(train_x,train_y,test_x,test_y,M,alpha,beta,s)\n",
    "pred_means = q\n",
    "pred_means_avg = w\n",
    "test_pred_avg_error = e\n",
    "test_pred_error_vari = r\n",
    "calc_time = t\n",
    "#print(pred_means)\n",
    "#print(pred_means_avg)\n",
    "#print(test_pred_avg_error)\n",
    "#print(calc_time)"
   ]
  },
  {
   "cell_type": "code",
   "execution_count": null,
   "metadata": {
    "collapsed": false
   },
   "outputs": [],
   "source": [
    "%matplotlib inline\n",
    "pl.figure(figsize=(6,3))\n",
    "pl.subplot(1, 2, 1)\n",
    "pl.imshow(pred_means.reshape(resolution_width,resolution_width), extent=[-1,1,1,-1],vmin=0,vmax=1.1)\n",
    "pl.gca().invert_yaxis()\n",
    "pl.title(\"prediction\", fontsize=15)\n",
    "pl.ylabel(r'$x_2$', fontsize=15)\n",
    "pl.xlabel(r'$x_1$', fontsize=15)\n",
    "\n",
    "pl.subplot(1, 2, 2)\n",
    "pl.imshow(test_y.reshape(resolution_width,resolution_width), extent=[-1,1,1,-1],vmin=0,vmax=1.1)\n",
    "pl.gca().invert_yaxis()\n",
    "pl.title(\"original\", fontsize=15)\n",
    "pl.ylabel(r'$x_2$', fontsize=15)\n",
    "pl.xlabel(r'$x_1$', fontsize=15)\n",
    "\n",
    "pl.tight_layout()"
   ]
  },
  {
   "cell_type": "code",
   "execution_count": null,
   "metadata": {
    "collapsed": false
   },
   "outputs": [],
   "source": [
    "np.average(test_y)"
   ]
  },
  {
   "cell_type": "code",
   "execution_count": null,
   "metadata": {
    "collapsed": false
   },
   "outputs": [],
   "source": [
    "np.shape(train_x)"
   ]
  },
  {
   "cell_type": "code",
   "execution_count": null,
   "metadata": {
    "collapsed": true
   },
   "outputs": [],
   "source": []
  },
  {
   "cell_type": "code",
   "execution_count": null,
   "metadata": {
    "collapsed": true
   },
   "outputs": [],
   "source": []
  },
  {
   "cell_type": "code",
   "execution_count": null,
   "metadata": {
    "collapsed": true
   },
   "outputs": [],
   "source": []
  },
  {
   "cell_type": "code",
   "execution_count": null,
   "metadata": {
    "collapsed": true
   },
   "outputs": [],
   "source": []
  },
  {
   "cell_type": "code",
   "execution_count": 25,
   "metadata": {
    "collapsed": false
   },
   "outputs": [],
   "source": [
    "calc_time_array = np.zeros(5)\n",
    "test_pred_error_vari_array = np.zeros(5)\n",
    "error_array = np.zeros(5)\n",
    "\n",
    "for a in range (0,5):\n",
    "    \n",
    "    theta0 = 1\n",
    "    theta1 = 5\n",
    "    theta2 = 1\n",
    "    theta3 = 1\n",
    "    beta = 4\n",
    "    N=10*a\n",
    "\n",
    "    q,w,e,r,t = Gauss_proc_kern_reg(train_x,train_y,test_x,test_y,N,beta,theta0,theta1,theta2,theta3)\n",
    "    pred_means = q\n",
    "    pred_means_avg = w\n",
    "    test_pred_avg_error = e\n",
    "    test_pred_error_vari = r\n",
    "    calc_time = t\n",
    "    #print(pred_means)\n",
    "    #print(pred_means_avg)\n",
    "    #print(test_pred_avg_error)\n",
    "    #print(calc_time)\n",
    "    \n",
    "    \n",
    "    error_array[a] = e\n",
    "    test_pred_error_vari_array[a] = r\n",
    "    calc_time_array[a] = t"
   ]
  },
  {
   "cell_type": "code",
   "execution_count": 28,
   "metadata": {
    "collapsed": false
   },
   "outputs": [
    {
     "data": {
      "image/png": "[encoded data removed]",
      "text/plain": [
       "<matplotlib.figure.Figure at 0x7a6d160>"
      ]
     },
     "metadata": {},
     "output_type": "display_data"
    }
   ],
   "source": [
    "%matplotlib inline\n",
    "pl.figure(figsize=(6,3))\n",
    "plot_x = np.linspace(0,4,5)*10\n",
    "pl.plot(plot_x,calc_time_array/1000,label='time (kiloseconds)')\n",
    "pl.plot(plot_x,error_array,label='average error')\n",
    "pl.plot(plot_x,test_pred_error_vari_array,label='error variance')\n",
    "pl.legend(loc='center')\n",
    "pl.xlabel('number of iterations', fontsize=15)\n",
    "pl.locator_params(axis = 'x', nbins = 4)\n",
    "pl.grid(b=True, which='both', color='0.65',linestyle='-')"
   ]
  },
  {
   "cell_type": "code",
   "execution_count": null,
   "metadata": {
    "collapsed": true
   },
   "outputs": [],
   "source": []
  },
  {
   "cell_type": "code",
   "execution_count": null,
   "metadata": {
    "collapsed": true
   },
   "outputs": [],
   "source": []
  },
  {
   "cell_type": "code",
   "execution_count": null,
   "metadata": {
    "collapsed": false
   },
   "outputs": [],
   "source": [
    "%matplotlib inline\n",
    "pl.figure(figsize=(6,3))\n",
    "pl.subplot(1, 2, 1)\n",
    "pl.imshow(pred_means.reshape(resolution_width,resolution_width), extent=[-1,1,1,-1],vmin=0,vmax=1.1)\n",
    "pl.gca().invert_yaxis()\n",
    "pl.title(\"prediction\", fontsize=15)\n",
    "pl.ylabel(r'$x_2$', fontsize=15)\n",
    "pl.xlabel(r'$x_1$', fontsize=15)\n",
    "\n",
    "pl.subplot(1, 2, 2)\n",
    "pl.imshow(test_y.reshape(resolution_width,resolution_width), extent=[-1,1,1,-1],vmin=0,vmax=1.1)\n",
    "pl.gca().invert_yaxis()\n",
    "pl.title(\"original\", fontsize=15)\n",
    "pl.ylabel(r'$x_2$', fontsize=15)\n",
    "pl.xlabel(r'$x_1$', fontsize=15)\n",
    "\n",
    "pl.tight_layout()"
   ]
  },
  {
   "cell_type": "code",
   "execution_count": null,
   "metadata": {
    "collapsed": true
   },
   "outputs": [],
   "source": []
  },
  {
   "cell_type": "code",
   "execution_count": null,
   "metadata": {
    "collapsed": true
   },
   "outputs": [],
   "source": []
  }
 ],
 "metadata": {
  "kernelspec": {
   "display_name": "Python 3",
   "language": "python",
   "name": "python3"
  },
  "language_info": {
   "codemirror_mode": {
    "name": "ipython",
    "version": 3
   },
   "file_extension": ".py",
   "mimetype": "text/x-python",
   "name": "python",
   "nbconvert_exporter": "python",
   "pygments_lexer": "ipython3",
   "version": "3.4.3"
  }
 },
 "nbformat": 4,
 "nbformat_minor": 0
}

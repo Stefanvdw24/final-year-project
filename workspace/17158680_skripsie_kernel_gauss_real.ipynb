{
 "cells": [
  {
   "cell_type": "code",
   "execution_count": 64,
   "metadata": {
    "collapsed": true
   },
   "outputs": [],
   "source": [
    "import numpy as np\n",
    "import pylab as pl\n",
    "from numpy.linalg import inv\n",
    "from functions import *\n",
    "import time"
   ]
  },
  {
   "cell_type": "code",
   "execution_count": 65,
   "metadata": {
    "collapsed": true
   },
   "outputs": [],
   "source": [
    "from numpy import loadtxt\n",
    "lines = loadtxt(\"winequality-red-shuffled.csv\", comments=\"#\", delimiter=\";\", unpack=False)"
   ]
  },
  {
   "cell_type": "code",
   "execution_count": 66,
   "metadata": {
    "collapsed": true
   },
   "outputs": [],
   "source": [
    "for a in range(0,11):\n",
    "    lines[:,a] = (lines[:,a] - np.average(lines[:,a])) / (np.average(np.abs(lines[:,a])))"
   ]
  },
  {
   "cell_type": "code",
   "execution_count": 67,
   "metadata": {
    "collapsed": true
   },
   "outputs": [],
   "source": [
    "train_N = 50\n",
    "test_N = 100\n",
    "\n",
    "train_x = lines[:train_N,:5]\n",
    "train_y = lines[:train_N,11]\n",
    "test_x = lines[train_N:train_N+test_N,:5]\n",
    "test_y = lines[train_N:train_N+test_N,11]"
   ]
  },
  {
   "cell_type": "code",
   "execution_count": 68,
   "metadata": {
    "collapsed": false
   },
   "outputs": [],
   "source": [
    "calc_time_array = np.zeros(5)\n",
    "test_pred_error_vari_array = np.zeros(5)\n",
    "error_array = np.zeros(5)\n",
    "\n",
    "for a in range (0,5):\n",
    "    \n",
    "    theta0 = 1\n",
    "    theta1 = 5\n",
    "    theta2 = 1\n",
    "    theta3 = 1\n",
    "    beta = 4\n",
    "    N=10*a\n",
    "\n",
    "    q,w,e,r,t = Gauss_proc_kern_reg(train_x,train_y,test_x,test_y,N,beta,theta0,theta1,theta2,theta3)\n",
    "    pred_means = q\n",
    "    pred_means_avg = w\n",
    "    test_pred_avg_error = e\n",
    "    test_pred_error_vari = r\n",
    "    calc_time = t\n",
    "    #print(pred_means)\n",
    "    #print(pred_means_avg)\n",
    "    #print(test_pred_avg_error)\n",
    "    #print(calc_time)\n",
    "    \n",
    "    \n",
    "    error_array[a] = e\n",
    "    test_pred_error_vari_array[a] = r\n",
    "    calc_time_array[a] = t"
   ]
  },
  {
   "cell_type": "code",
   "execution_count": 71,
   "metadata": {
    "collapsed": false
   },
   "outputs": [
    {
     "data": {
      "image/png": "[encoded data removed]",
      "text/plain": [
       "<matplotlib.figure.Figure at 0x67a9828>"
      ]
     },
     "metadata": {},
     "output_type": "display_data"
    }
   ],
   "source": [
    "%matplotlib inline\n",
    "pl.figure(figsize=(6,3))\n",
    "plot_x = np.linspace(0,4,5)*10\n",
    "pl.plot(plot_x,calc_time_array/100,label='time (hectoseconds)')\n",
    "pl.plot(plot_x,error_array,label='average error')\n",
    "pl.plot(plot_x,test_pred_error_vari_array,label='error variance')\n",
    "pl.legend(loc='lower center')\n",
    "pl.xlabel('number of iterations', fontsize=12)\n",
    "pl.locator_params(axis = 'x', nbins = 4)\n",
    "pl.grid(b=True, which='both', color='0.65',linestyle='-')"
   ]
  },
  {
   "cell_type": "code",
   "execution_count": null,
   "metadata": {
    "collapsed": true
   },
   "outputs": [],
   "source": []
  },
  {
   "cell_type": "code",
   "execution_count": null,
   "metadata": {
    "collapsed": true
   },
   "outputs": [],
   "source": []
  },
  {
   "cell_type": "code",
   "execution_count": null,
   "metadata": {
    "collapsed": true
   },
   "outputs": [],
   "source": []
  },
  {
   "cell_type": "code",
   "execution_count": null,
   "metadata": {
    "collapsed": true
   },
   "outputs": [],
   "source": []
  },
  {
   "cell_type": "code",
   "execution_count": null,
   "metadata": {
    "collapsed": true
   },
   "outputs": [],
   "source": []
  },
  {
   "cell_type": "code",
   "execution_count": null,
   "metadata": {
    "collapsed": true
   },
   "outputs": [],
   "source": []
  },
  {
   "cell_type": "code",
   "execution_count": 40,
   "metadata": {
    "collapsed": true
   },
   "outputs": [],
   "source": [
    "calc_time_array = np.zeros(5)\n",
    "test_pred_error_vari_array = np.zeros(5)\n",
    "error_array = np.zeros(5)\n",
    "\n",
    "for a in range (0,5):\n",
    "    \n",
    "    theta0 = 1\n",
    "    theta1 = 5\n",
    "    theta2 = 1\n",
    "    theta3 = 1\n",
    "    beta = 4\n",
    "    N=10*a\n",
    "\n",
    "    q,w,e,r,t = Gauss_proc_kern_reg(train_x,train_y,train_x,train_y,N,beta,theta0,theta1,theta2,theta3)\n",
    "    pred_means = q\n",
    "    pred_means_avg = w\n",
    "    test_pred_avg_error = e\n",
    "    test_pred_error_vari = r\n",
    "    calc_time = t\n",
    "    #print(pred_means)\n",
    "    #print(pred_means_avg)\n",
    "    #print(test_pred_avg_error)\n",
    "    #print(calc_time)\n",
    "    \n",
    "    \n",
    "    error_array[a] = e\n",
    "    test_pred_error_vari_array[a] = r\n",
    "    calc_time_array[a] = t"
   ]
  },
  {
   "cell_type": "code",
   "execution_count": 42,
   "metadata": {
    "collapsed": false
   },
   "outputs": [
    {
     "data": {
      "image/png": "[encoded data removed]",
      "text/plain": [
       "<matplotlib.figure.Figure at 0x6927be0>"
      ]
     },
     "metadata": {},
     "output_type": "display_data"
    }
   ],
   "source": [
    "%matplotlib inline\n",
    "pl.figure(figsize=(6,3))\n",
    "plot_x = np.linspace(0,4,5)*10\n",
    "pl.plot(plot_x,calc_time_array/100,label='time (hectoseconds)')\n",
    "pl.plot(plot_x,error_array,label='average error')\n",
    "pl.plot(plot_x,test_pred_error_vari_array,label='error variance')\n",
    "pl.legend(loc='upper left')\n",
    "pl.xlabel('number of iterations', fontsize=12)\n",
    "pl.locator_params(axis = 'x', nbins = 4)\n",
    "pl.grid(b=True, which='both', color='0.65',linestyle='-')"
   ]
  },
  {
   "cell_type": "code",
   "execution_count": null,
   "metadata": {
    "collapsed": true
   },
   "outputs": [],
   "source": []
  },
  {
   "cell_type": "code",
   "execution_count": null,
   "metadata": {
    "collapsed": true
   },
   "outputs": [],
   "source": []
  },
  {
   "cell_type": "code",
   "execution_count": null,
   "metadata": {
    "collapsed": true
   },
   "outputs": [],
   "source": []
  },
  {
   "cell_type": "code",
   "execution_count": 59,
   "metadata": {
    "collapsed": false
   },
   "outputs": [
    {
     "data": {
      "text/plain": [
       "array([[   7.   ,  147.   ,   76.   , ...,    0.257,   43.   ,    1.   ],\n",
       "       [   5.   ,  132.   ,   80.   , ...,    0.186,   69.   ,    0.   ],\n",
       "       [   1.   ,   80.   ,   74.   , ...,    0.527,   22.   ,    0.   ],\n",
       "       ..., \n",
       "       [   9.   ,  145.   ,   88.   , ...,    0.771,   53.   ,    1.   ],\n",
       "       [   2.   ,  108.   ,   80.   , ...,    0.259,   52.   ,    1.   ],\n",
       "       [   9.   ,  106.   ,   52.   , ...,    0.38 ,   42.   ,    0.   ]])"
      ]
     },
     "execution_count": 59,
     "metadata": {},
     "output_type": "execute_result"
    }
   ],
   "source": [
    "from numpy import loadtxt\n",
    "lines = loadtxt(\"pima.csv\", comments=\"#\", delimiter=\",\", unpack=False, usecols=(1,2,3,4,5,6,7,8,9), skiprows=1)\n",
    "lines"
   ]
  },
  {
   "cell_type": "code",
   "execution_count": 60,
   "metadata": {
    "collapsed": true
   },
   "outputs": [],
   "source": [
    "for a in range(0,np.shape(lines)[0]):\n",
    "    for b in range(0,8):\n",
    "        if (lines[a,b] == 0):\n",
    "            lines[a,b] = np.sum(lines[:,b]) / ( np.shape(lines[:,b].tolist())[0]  - lines[:,b].tolist().count(0.)  )\n",
    "\n",
    "for a in range(0,8):\n",
    "    lines[:,a] = (lines[:,a] - np.average(lines[:,a])) / (np.average(np.abs(lines[:,a])))"
   ]
  },
  {
   "cell_type": "code",
   "execution_count": 61,
   "metadata": {
    "collapsed": true
   },
   "outputs": [],
   "source": [
    "train_N = 50\n",
    "test_N = 100\n",
    "\n",
    "train_x = lines[:train_N,:8]\n",
    "train_y = lines[:train_N,8]\n",
    "test_x = lines[train_N:train_N+test_N,:8]\n",
    "test_y = lines[train_N:train_N+test_N,8]"
   ]
  },
  {
   "cell_type": "code",
   "execution_count": 62,
   "metadata": {
    "collapsed": false
   },
   "outputs": [],
   "source": [
    "calc_time_array = np.zeros(5)\n",
    "test_pred_error_vari_array = np.zeros(5)\n",
    "error_array = np.zeros(5)\n",
    "\n",
    "for a in range (0,5):\n",
    "    \n",
    "    theta0 = 1\n",
    "    theta1 = 5\n",
    "    theta2 = 1\n",
    "    theta3 = 1\n",
    "    beta = 4\n",
    "    N=10*a\n",
    "\n",
    "    q,w,e,r,t = Gauss_proc_kern_reg(train_x,train_y,test_x,test_y,N,beta,theta0,theta1,theta2,theta3)\n",
    "    pred_means = q\n",
    "    pred_means_avg = w\n",
    "    test_pred_avg_error = e\n",
    "    test_pred_error_vari = r\n",
    "    calc_time = t\n",
    "    #print(pred_means)\n",
    "    #print(pred_means_avg)\n",
    "    #print(test_pred_avg_error)\n",
    "    #print(calc_time)\n",
    "    \n",
    "    \n",
    "    error_array[a] = e\n",
    "    test_pred_error_vari_array[a] = r\n",
    "    calc_time_array[a] = t"
   ]
  },
  {
   "cell_type": "code",
   "execution_count": 63,
   "metadata": {
    "collapsed": false
   },
   "outputs": [
    {
     "data": {
      "image/png": "[encoded data removed]",
      "text/plain": [
       "<matplotlib.figure.Figure at 0x809f278>"
      ]
     },
     "metadata": {},
     "output_type": "display_data"
    }
   ],
   "source": [
    "%matplotlib inline\n",
    "pl.figure(figsize=(6,3))\n",
    "plot_x = np.linspace(0,4,5)*10\n",
    "pl.plot(plot_x,calc_time_array/100,label='time (hectoseconds)')\n",
    "pl.plot(plot_x,error_array,label='average error')\n",
    "pl.plot(plot_x,test_pred_error_vari_array,label='error variance')\n",
    "pl.legend(loc='upper right')\n",
    "pl.xlabel('number of iterations', fontsize=12)\n",
    "pl.locator_params(axis = 'x', nbins = 4)\n",
    "pl.grid(b=True, which='both', color='0.65',linestyle='-')"
   ]
  },
  {
   "cell_type": "code",
   "execution_count": null,
   "metadata": {
    "collapsed": true
   },
   "outputs": [],
   "source": []
  },
  {
   "cell_type": "code",
   "execution_count": null,
   "metadata": {
    "collapsed": true
   },
   "outputs": [],
   "source": []
  },
  {
   "cell_type": "code",
   "execution_count": null,
   "metadata": {
    "collapsed": true
   },
   "outputs": [],
   "source": []
  }
 ],
 "metadata": {
  "kernelspec": {
   "display_name": "Python 3",
   "language": "python",
   "name": "python3"
  },
  "language_info": {
   "codemirror_mode": {
    "name": "ipython",
    "version": 3
   },
   "file_extension": ".py",
   "mimetype": "text/x-python",
   "name": "python",
   "nbconvert_exporter": "python",
   "pygments_lexer": "ipython3",
   "version": "3.4.3"
  }
 },
 "nbformat": 4,
 "nbformat_minor": 0
}

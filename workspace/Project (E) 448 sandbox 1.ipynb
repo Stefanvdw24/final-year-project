{
 "cells": [
  {
   "cell_type": "markdown",
   "metadata": {},
   "source": [
    "## Skripsie Doc 1\n",
    "### Daniël S. van der Westhuizen\n",
    "### 17158680"
   ]
  },
  {
   "cell_type": "code",
   "execution_count": 1,
   "metadata": {
    "collapsed": false
   },
   "outputs": [],
   "source": [
    "import numpy as np\n",
    "import pylab as pl\n",
    "from sklearn import gaussian_process\n",
    "from numpy.linalg import inv"
   ]
  },
  {
   "cell_type": "markdown",
   "metadata": {},
   "source": [
    "### Multidimensional Gaussian"
   ]
  },
  {
   "cell_type": "code",
   "execution_count": 2,
   "metadata": {
    "collapsed": false
   },
   "outputs": [
    {
     "name": "stdout",
     "output_type": "stream",
     "text": [
      "[0, 0]\n",
      "[[1, 0.8], [0.8, 10]]\n",
      "[[-1.07510805  1.34951194  0.3225059  ...,  0.53532999  0.92980389\n",
      "   0.17988775]\n",
      " [-2.7719851   0.58633175 -4.28162377 ...,  5.02454623  2.41291874\n",
      "   1.04698699]]\n"
     ]
    }
   ],
   "source": [
    "mu = [0,0]\n",
    "print(mu)\n",
    "vari1 = [[1,0.8],[0.8,10]]\n",
    "print(vari1)\n",
    "#gaussian1 = Gaussian(mu,vari1).sample(1000000)\n",
    "mean = np.array(mu); cov = np.array(vari1)\n",
    "gaussian1 = np.random.multivariate_normal(mean.flatten(), cov, 1000000).T\n",
    "#\n",
    "\n",
    "print(gaussian1)"
   ]
  },
  {
   "cell_type": "code",
   "execution_count": 3,
   "metadata": {
    "collapsed": false
   },
   "outputs": [
    {
     "data": {
      "text/plain": [
       "<matplotlib.image.AxesImage at 0x8ed70f0>"
      ]
     },
     "execution_count": 3,
     "metadata": {},
     "output_type": "execute_result"
    },
    {
     "data": {
      "image/png": "[encoded data removed]",
      "text/plain": [
       "<matplotlib.figure.Figure at 0x764c9e8>"
      ]
     },
     "metadata": {},
     "output_type": "display_data"
    }
   ],
   "source": [
    "%matplotlib inline\n",
    "#Provided code from Computer Science 315, modified\n",
    "xbin = np.arange(-10,10,0.2)\n",
    "ybin = np.arange(-10,10,0.2)\n",
    "\n",
    "pl.title(\"Gaussian 1\")\n",
    "H,xedge,yedge = np.histogram2d(gaussian1[0], gaussian1[1], bins=[xbin,ybin], range = [[-10,10],[-10,10]],normed=False)\n",
    "pl.imshow(H.T,cmap='Set1', extent = [-10,10,-10,10], interpolation='nearest')"
   ]
  },
  {
   "cell_type": "markdown",
   "metadata": {},
   "source": [
    "### Cholesky"
   ]
  },
  {
   "cell_type": "code",
   "execution_count": 4,
   "metadata": {
    "collapsed": false
   },
   "outputs": [
    {
     "name": "stdout",
     "output_type": "stream",
     "text": [
      "[[4, 12, -16], [12, 37, -43], [-16, -43, 98]]\n",
      "[[ 2.  0.  0.]\n",
      " [ 6.  1.  0.]\n",
      " [-8.  5.  3.]]\n",
      "[[ 2.  6. -8.]\n",
      " [ 0.  1.  5.]\n",
      " [ 0.  0.  3.]]\n"
     ]
    }
   ],
   "source": [
    "#cholesky covariance demo\n",
    "vari2 = [[4,12,-16],[12,37,-43],[-16,-43,98]]\n",
    "print(vari2)\n",
    "gaussian2_LTM = np.linalg.cholesky(vari2)\n",
    "print(gaussian2_LTM)\n",
    "gaussian2_UTM = gaussian2_LTM.transpose()\n",
    "print(gaussian2_UTM)"
   ]
  },
  {
   "cell_type": "code",
   "execution_count": 5,
   "metadata": {
    "collapsed": false
   },
   "outputs": [
    {
     "name": "stdout",
     "output_type": "stream",
     "text": [
      "LTM = \n",
      "[[ 1.          0.        ]\n",
      " [ 0.8         3.05941171]]\n",
      "samples = \n",
      "[[ -0.09946288   2.16238788   1.66828449 ...,  -1.33644626   1.54428021\n",
      "    0.95243121]\n",
      " [ 13.96689283   1.25349668   9.19915514 ..., -10.45239706 -21.57800735\n",
      "    7.01568553]]\n"
     ]
    }
   ],
   "source": [
    "#multiply LTM with uncorrelated samples to get correlated samples\n",
    "samples = np.zeros((2,1000000))\n",
    "vari = [[1,0.8],[0.8,10]]\n",
    "gaussian_LTM = np.linalg.cholesky(vari)\n",
    "print(\"LTM = \")\n",
    "print(gaussian_LTM)\n",
    "for n in range (0,1000000):\n",
    "    X = np.zeros((2,1))\n",
    "    X[0,0] = np.random.normal(0,1)\n",
    "    X[1,0] = np.random.normal(0,np.sqrt(10))\n",
    "    #print(\"X = \"),print(X)\n",
    "    Y = np.dot(gaussian_LTM,X)\n",
    "    #print(\"Y = \"),print(Y)\n",
    "    #samples[0,n] = np.random.normal(0,1)\n",
    "    #samples[1,n] = np.random.normal(0,np.sqrt(10))\n",
    "    samples[0,n] = Y[0,0]\n",
    "    samples[1,n] = Y[1,0]\n",
    "print(\"samples = \")\n",
    "print(samples)"
   ]
  },
  {
   "cell_type": "code",
   "execution_count": 6,
   "metadata": {
    "collapsed": false
   },
   "outputs": [
    {
     "data": {
      "text/plain": [
       "<matplotlib.image.AxesImage at 0x9406d68>"
      ]
     },
     "execution_count": 6,
     "metadata": {},
     "output_type": "execute_result"
    },
    {
     "data": {
      "image/png": "[encoded data removed]",
      "text/plain": [
       "<matplotlib.figure.Figure at 0x8e42e80>"
      ]
     },
     "metadata": {},
     "output_type": "display_data"
    }
   ],
   "source": [
    "%matplotlib inline\n",
    "#Provided code from Computer Science 315, modified\n",
    "xbin = np.arange(-10,10,0.2)\n",
    "ybin = np.arange(-10,10,0.2)\n",
    "pl.title(\"Gaussian 2\")\n",
    "H,xedge,yedge = np.histogram2d(samples[0], samples[1], bins=[xbin,ybin], range = [[-10,10],[-10,10]],normed=False)\n",
    "pl.imshow(H.T,cmap='Set1', extent = [-10,10,-10,10], interpolation='nearest')"
   ]
  },
  {
   "cell_type": "markdown",
   "metadata": {
    "collapsed": true
   },
   "source": []
  },
  {
   "cell_type": "markdown",
   "metadata": {},
   "source": [
    "$ c_c $"
   ]
  },
  {
   "cell_type": "code",
   "execution_count": null,
   "metadata": {
    "collapsed": true
   },
   "outputs": [],
   "source": []
  }
 ],
 "metadata": {
  "kernelspec": {
   "display_name": "Python 3",
   "language": "python",
   "name": "python3"
  },
  "language_info": {
   "codemirror_mode": {
    "name": "ipython",
    "version": 3
   },
   "file_extension": ".py",
   "mimetype": "text/x-python",
   "name": "python",
   "nbconvert_exporter": "python",
   "pygments_lexer": "ipython3",
   "version": "3.4.3"
  }
 },
 "nbformat": 4,
 "nbformat_minor": 0
}
